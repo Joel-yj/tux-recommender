{
 "cells": [
  {
   "cell_type": "code",
   "execution_count": 2,
   "metadata": {},
   "outputs": [],
   "source": [
    "import weaviate\n",
    "import json\n",
    "\n",
    "client = weaviate.Client('http://localhost:8080')\n"
   ]
  },
  {
   "cell_type": "code",
   "execution_count": 19,
   "metadata": {},
   "outputs": [
    {
     "name": "stdout",
     "output_type": "stream",
     "text": [
      "{\n",
      "  \"data\": {\n",
      "    \"Get\": {\n",
      "      \"Versions\": [\n",
      "        {\n",
      "          \"distribution_name\": \"bros\",\n",
      "          \"file_system\": \"Btrfs, ext4\",\n",
      "          \"version\": \"22.04\"\n",
      "        },\n",
      "        {\n",
      "          \"distribution_name\": \"bros\",\n",
      "          \"file_system\": \"Btrfs, ext4\",\n",
      "          \"version\": \"23.10\"\n",
      "        },\n",
      "        {\n",
      "          \"distribution_name\": \"bros\",\n",
      "          \"file_system\": \"Btrfs, ext4\",\n",
      "          \"version\": \"23.04\"\n",
      "        },\n",
      "        {\n",
      "          \"distribution_name\": \"bros\",\n",
      "          \"file_system\": \"Btrfs, ext4\",\n",
      "          \"version\": \"22.10\"\n",
      "        },\n",
      "        {\n",
      "          \"distribution_name\": \"xubuntu\",\n",
      "          \"file_system\": \"Btrfs, ext3, ext4, JFS, ReiserFS, XFS\",\n",
      "          \"version\": \"17.10-artful\"\n",
      "        },\n",
      "        {\n",
      "          \"distribution_name\": \"xubuntu\",\n",
      "          \"file_system\": \"Btrfs, ext3, ext4, JFS, ReiserFS, XFS\",\n",
      "          \"version\": \"18.04-bionic\"\n",
      "        },\n",
      "        {\n",
      "          \"distribution_name\": \"xubuntu\",\n",
      "          \"file_system\": \"Btrfs, ext3, ext4, JFS, ReiserFS, XFS\",\n",
      "          \"version\": \"20.04-focal\"\n",
      "        },\n",
      "        {\n",
      "          \"distribution_name\": \"xubuntu\",\n",
      "          \"file_system\": \"Btrfs, ext3, ext4, JFS, ReiserFS, XFS\",\n",
      "          \"version\": \"10.10-maverick\"\n",
      "        },\n",
      "        {\n",
      "          \"distribution_name\": \"xubuntu\",\n",
      "          \"file_system\": \"Btrfs, ext3, ext4, JFS, ReiserFS, XFS\",\n",
      "          \"version\": \"19.04-disco\"\n",
      "        },\n",
      "        {\n",
      "          \"distribution_name\": \"xubuntu\",\n",
      "          \"file_system\": \"Btrfs, ext3, ext4, JFS, ReiserFS, XFS\",\n",
      "          \"version\": \"15.10-wily\"\n",
      "        }\n",
      "      ]\n",
      "    }\n",
      "  }\n",
      "}\n"
     ]
    }
   ],
   "source": [
    "response = (\n",
    "    client.query\n",
    "    .get(\"Versions\", [\"distribution_name\", \"version\",\"file_system\"])\n",
    "    .with_where({\n",
    "        \"path\": [\"file_system\"],\n",
    "        \"operator\": \"Like\",\n",
    "        \"valueText\": \"Bt*\"\n",
    "    })\n",
    "    .with_limit(10)\n",
    "    .do()\n",
    ")\n",
    "\n",
    "print(json.dumps(response, indent=2))"
   ]
  },
  {
   "cell_type": "code",
   "execution_count": null,
   "metadata": {},
   "outputs": [],
   "source": []
  }
 ],
 "metadata": {
  "kernelspec": {
   "display_name": "Python 3",
   "language": "python",
   "name": "python3"
  },
  "language_info": {
   "codemirror_mode": {
    "name": "ipython",
    "version": 3
   },
   "file_extension": ".py",
   "mimetype": "text/x-python",
   "name": "python",
   "nbconvert_exporter": "python",
   "pygments_lexer": "ipython3",
   "version": "3.11.6"
  }
 },
 "nbformat": 4,
 "nbformat_minor": 2
}
