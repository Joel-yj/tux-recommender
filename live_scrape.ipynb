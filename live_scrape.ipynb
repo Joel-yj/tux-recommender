{
 "cells": [
  {
   "cell_type": "code",
   "execution_count": 1,
   "metadata": {},
   "outputs": [
    {
     "name": "stdout",
     "output_type": "stream",
     "text": [
      "Requirement already satisfied: bs4 in /home/sachin/anaconda3/envs/r-lab/lib/python3.11/site-packages (0.0.1)\n",
      "Requirement already satisfied: requests in /home/sachin/anaconda3/envs/r-lab/lib/python3.11/site-packages (2.31.0)\n",
      "Requirement already satisfied: lxml in /home/sachin/anaconda3/envs/r-lab/lib/python3.11/site-packages (4.9.3)\n",
      "Requirement already satisfied: pandas in /home/sachin/anaconda3/envs/r-lab/lib/python3.11/site-packages (2.1.1)\n",
      "Requirement already satisfied: polars[all] in /home/sachin/anaconda3/envs/r-lab/lib/python3.11/site-packages (0.19.6)\n",
      "Requirement already satisfied: beautifulsoup4 in /home/sachin/anaconda3/envs/r-lab/lib/python3.11/site-packages (from bs4) (4.12.2)\n",
      "Requirement already satisfied: charset-normalizer<4,>=2 in /home/sachin/anaconda3/envs/r-lab/lib/python3.11/site-packages (from requests) (3.3.2)\n",
      "Requirement already satisfied: idna<4,>=2.5 in /home/sachin/anaconda3/envs/r-lab/lib/python3.11/site-packages (from requests) (3.4)\n",
      "Requirement already satisfied: urllib3<3,>=1.21.1 in /home/sachin/anaconda3/envs/r-lab/lib/python3.11/site-packages (from requests) (2.0.7)\n",
      "Requirement already satisfied: certifi>=2017.4.17 in /home/sachin/anaconda3/envs/r-lab/lib/python3.11/site-packages (from requests) (2023.7.22)\n",
      "Requirement already satisfied: numpy>=1.23.2 in /home/sachin/anaconda3/envs/r-lab/lib/python3.11/site-packages (from pandas) (1.24.3)\n",
      "Requirement already satisfied: python-dateutil>=2.8.2 in /home/sachin/anaconda3/envs/r-lab/lib/python3.11/site-packages (from pandas) (2.8.2)\n",
      "Requirement already satisfied: pytz>=2020.1 in /home/sachin/anaconda3/envs/r-lab/lib/python3.11/site-packages (from pandas) (2023.3.post1)\n",
      "Requirement already satisfied: tzdata>=2022.1 in /home/sachin/anaconda3/envs/r-lab/lib/python3.11/site-packages (from pandas) (2023.3)\n",
      "Requirement already satisfied: six>=1.5 in /home/sachin/anaconda3/envs/r-lab/lib/python3.11/site-packages (from python-dateutil>=2.8.2->pandas) (1.16.0)\n",
      "Requirement already satisfied: soupsieve>1.2 in /home/sachin/anaconda3/envs/r-lab/lib/python3.11/site-packages (from beautifulsoup4->bs4) (2.5)\n",
      "Requirement already satisfied: adbc_driver_sqlite in /home/sachin/anaconda3/envs/r-lab/lib/python3.11/site-packages (from polars[all]) (0.7.0)\n",
      "Requirement already satisfied: cloudpickle in /home/sachin/anaconda3/envs/r-lab/lib/python3.11/site-packages (from polars[all]) (2.2.1)\n",
      "Requirement already satisfied: connectorx in /home/sachin/anaconda3/envs/r-lab/lib/python3.11/site-packages (from polars[all]) (0.3.2)\n",
      "Requirement already satisfied: deltalake>=0.10.0 in /home/sachin/anaconda3/envs/r-lab/lib/python3.11/site-packages (from polars[all]) (0.11.0)\n",
      "Requirement already satisfied: fsspec in /home/sachin/anaconda3/envs/r-lab/lib/python3.11/site-packages (from polars[all]) (2023.9.2)\n",
      "Requirement already satisfied: gevent in /home/sachin/anaconda3/envs/r-lab/lib/python3.11/site-packages (from polars[all]) (23.9.1)\n",
      "Requirement already satisfied: matplotlib in /home/sachin/anaconda3/envs/r-lab/lib/python3.11/site-packages (from polars[all]) (3.8.0)\n",
      "Requirement already satisfied: pyarrow>=7.0.0 in /home/sachin/anaconda3/envs/r-lab/lib/python3.11/site-packages (from polars[all]) (12.0.0)\n",
      "Requirement already satisfied: pydantic in /home/sachin/anaconda3/envs/r-lab/lib/python3.11/site-packages (from polars[all]) (2.4.2)\n",
      "Requirement already satisfied: pyiceberg>=0.5.0 in /home/sachin/anaconda3/envs/r-lab/lib/python3.11/site-packages (from polars[all]) (0.5.0)\n",
      "Requirement already satisfied: sqlalchemy in /home/sachin/anaconda3/envs/r-lab/lib/python3.11/site-packages (from polars[all]) (2.0.21)\n",
      "Requirement already satisfied: xlsx2csv>=0.8.0 in /home/sachin/anaconda3/envs/r-lab/lib/python3.11/site-packages (from polars[all]) (0.8.1)\n",
      "Requirement already satisfied: xlsxwriter in /home/sachin/anaconda3/envs/r-lab/lib/python3.11/site-packages (from polars[all]) (3.1.6)\n",
      "Requirement already satisfied: click<9.0.0,>=7.1.1 in /home/sachin/anaconda3/envs/r-lab/lib/python3.11/site-packages (from pyiceberg>=0.5.0->polars[all]) (8.1.7)\n",
      "Requirement already satisfied: mmhash3<4.0.0,>=3.0.0 in /home/sachin/anaconda3/envs/r-lab/lib/python3.11/site-packages (from pyiceberg>=0.5.0->polars[all]) (3.0.1)\n",
      "Requirement already satisfied: pyparsing<4.0.0,>=3.1.0 in /home/sachin/anaconda3/envs/r-lab/lib/python3.11/site-packages (from pyiceberg>=0.5.0->polars[all]) (3.1.1)\n",
      "Requirement already satisfied: rich<14.0.0,>=10.11.0 in /home/sachin/anaconda3/envs/r-lab/lib/python3.11/site-packages (from pyiceberg>=0.5.0->polars[all]) (13.6.0)\n",
      "Requirement already satisfied: sortedcontainers==2.4.0 in /home/sachin/anaconda3/envs/r-lab/lib/python3.11/site-packages (from pyiceberg>=0.5.0->polars[all]) (2.4.0)\n",
      "Requirement already satisfied: strictyaml<2.0.0,>=1.7.0 in /home/sachin/anaconda3/envs/r-lab/lib/python3.11/site-packages (from pyiceberg>=0.5.0->polars[all]) (1.7.3)\n",
      "Requirement already satisfied: annotated-types>=0.4.0 in /home/sachin/anaconda3/envs/r-lab/lib/python3.11/site-packages (from pydantic->polars[all]) (0.5.0)\n",
      "Requirement already satisfied: pydantic-core==2.10.1 in /home/sachin/anaconda3/envs/r-lab/lib/python3.11/site-packages (from pydantic->polars[all]) (2.10.1)\n",
      "Requirement already satisfied: typing-extensions>=4.6.1 in /home/sachin/anaconda3/envs/r-lab/lib/python3.11/site-packages (from pydantic->polars[all]) (4.8.0)\n",
      "Requirement already satisfied: adbc-driver-manager in /home/sachin/anaconda3/envs/r-lab/lib/python3.11/site-packages (from adbc_driver_sqlite->polars[all]) (0.7.0)\n",
      "Requirement already satisfied: zope.event in /home/sachin/anaconda3/envs/r-lab/lib/python3.11/site-packages (from gevent->polars[all]) (5.0)\n",
      "Requirement already satisfied: zope.interface in /home/sachin/anaconda3/envs/r-lab/lib/python3.11/site-packages (from gevent->polars[all]) (6.0)\n",
      "Requirement already satisfied: greenlet>=3.0rc3 in /home/sachin/anaconda3/envs/r-lab/lib/python3.11/site-packages (from gevent->polars[all]) (3.0.0)\n",
      "Requirement already satisfied: contourpy>=1.0.1 in /home/sachin/anaconda3/envs/r-lab/lib/python3.11/site-packages (from matplotlib->polars[all]) (1.1.1)\n",
      "Requirement already satisfied: cycler>=0.10 in /home/sachin/anaconda3/envs/r-lab/lib/python3.11/site-packages (from matplotlib->polars[all]) (0.12.0)\n",
      "Requirement already satisfied: fonttools>=4.22.0 in /home/sachin/anaconda3/envs/r-lab/lib/python3.11/site-packages (from matplotlib->polars[all]) (4.43.0)\n",
      "Requirement already satisfied: kiwisolver>=1.0.1 in /home/sachin/anaconda3/envs/r-lab/lib/python3.11/site-packages (from matplotlib->polars[all]) (1.4.5)\n",
      "Requirement already satisfied: packaging>=20.0 in /home/sachin/anaconda3/envs/r-lab/lib/python3.11/site-packages (from matplotlib->polars[all]) (23.2)\n",
      "Requirement already satisfied: pillow>=6.2.0 in /home/sachin/anaconda3/envs/r-lab/lib/python3.11/site-packages (from matplotlib->polars[all]) (10.0.1)\n",
      "Requirement already satisfied: markdown-it-py>=2.2.0 in /home/sachin/anaconda3/envs/r-lab/lib/python3.11/site-packages (from rich<14.0.0,>=10.11.0->pyiceberg>=0.5.0->polars[all]) (3.0.0)\n",
      "Requirement already satisfied: pygments<3.0.0,>=2.13.0 in /home/sachin/anaconda3/envs/r-lab/lib/python3.11/site-packages (from rich<14.0.0,>=10.11.0->pyiceberg>=0.5.0->polars[all]) (2.16.1)\n",
      "Requirement already satisfied: setuptools in /home/sachin/anaconda3/envs/r-lab/lib/python3.11/site-packages (from zope.event->gevent->polars[all]) (68.2.2)\n",
      "Requirement already satisfied: mdurl~=0.1 in /home/sachin/anaconda3/envs/r-lab/lib/python3.11/site-packages (from markdown-it-py>=2.2.0->rich<14.0.0,>=10.11.0->pyiceberg>=0.5.0->polars[all]) (0.1.2)\n",
      "Note: you may need to restart the kernel to use updated packages.\n"
     ]
    }
   ],
   "source": [
    "%pip install bs4 requests 'polars[all]' lxml pandas"
   ]
  },
  {
   "cell_type": "code",
   "execution_count": 2,
   "metadata": {},
   "outputs": [],
   "source": [
    "import requests\n",
    "from bs4 import BeautifulSoup\n",
    "import polars as pl\n",
    "from polars import Config\n",
    "import re\n",
    "import json5\n",
    "import pandas as pd\n",
    "import os\n",
    "from pathlib import Path\n",
    "from PIL import Image"
   ]
  },
  {
   "cell_type": "code",
   "execution_count": 3,
   "metadata": {},
   "outputs": [
    {
     "data": {
      "text/plain": [
       "polars.config.Config"
      ]
     },
     "execution_count": 3,
     "metadata": {},
     "output_type": "execute_result"
    }
   ],
   "source": [
    "Config.set_tbl_rows(100)"
   ]
  },
  {
   "cell_type": "code",
   "execution_count": 4,
   "metadata": {},
   "outputs": [],
   "source": [
    "url = 'https://distrowatch.com/index.php?dataspan=1'\n",
    "response = requests.get(url)"
   ]
  },
  {
   "cell_type": "code",
   "execution_count": 5,
   "metadata": {},
   "outputs": [],
   "source": [
    "soup = BeautifulSoup(response.content, 'html.parser')\n",
    "distros = soup.find_all('td', {'class': 'phr2'})\n",
    "hits = soup.find_all('td', {'class': 'phr3'})"
   ]
  },
  {
   "cell_type": "code",
   "execution_count": 6,
   "metadata": {},
   "outputs": [],
   "source": [
    "distributions = []\n",
    "ids = []\n",
    "page_hits = []\n",
    "for distro in distros:\n",
    "    distributions.append(distro.get_text())\n",
    "    ids.append(distro.a['href'])\n",
    "\n",
    "for hit in hits:\n",
    "    page_hits.append(int(hit.get_text()))"
   ]
  },
  {
   "cell_type": "code",
   "execution_count": 7,
   "metadata": {},
   "outputs": [],
   "source": [
    "top_distros = {\n",
    "    'distribution': distributions,\n",
    "    'id': ids,\n",
    "    'page hit(s)': page_hits \n",
    "}\n",
    "df = pd.DataFrame(top_distros)\n",
    "df.to_json(\"top_distros.json\", orient=\"records\")"
   ]
  },
  {
   "cell_type": "code",
   "execution_count": 8,
   "metadata": {},
   "outputs": [
    {
     "data": {
      "text/html": [
       "<div><style>\n",
       ".dataframe > thead > tr > th,\n",
       ".dataframe > tbody > tr > td {\n",
       "  text-align: right;\n",
       "  white-space: pre-wrap;\n",
       "}\n",
       "</style>\n",
       "<small>shape: (100, 3)</small><table border=\"1\" class=\"dataframe\"><thead><tr><th>distribution</th><th>id</th><th>page hit(s)</th></tr><tr><td>str</td><td>str</td><td>i64</td></tr></thead><tbody><tr><td>&quot;MX Linux&quot;</td><td>&quot;mx&quot;</td><td>2753</td></tr><tr><td>&quot;Mint&quot;</td><td>&quot;mint&quot;</td><td>1943</td></tr><tr><td>&quot;EndeavourOS&quot;</td><td>&quot;endeavour&quot;</td><td>1639</td></tr><tr><td>&quot;Debian&quot;</td><td>&quot;debian&quot;</td><td>1408</td></tr><tr><td>&quot;Fedora&quot;</td><td>&quot;fedora&quot;</td><td>1307</td></tr><tr><td>&quot;Manjaro&quot;</td><td>&quot;manjaro&quot;</td><td>1082</td></tr><tr><td>&quot;Ubuntu&quot;</td><td>&quot;ubuntu&quot;</td><td>1064</td></tr><tr><td>&quot;Pop!_OS&quot;</td><td>&quot;popos&quot;</td><td>885</td></tr><tr><td>&quot;BackBox&quot;</td><td>&quot;backbox&quot;</td><td>817</td></tr><tr><td>&quot;AlmaLinux&quot;</td><td>&quot;alma&quot;</td><td>753</td></tr><tr><td>&quot;openSUSE&quot;</td><td>&quot;opensuse&quot;</td><td>709</td></tr><tr><td>&quot;Zorin&quot;</td><td>&quot;zorin&quot;</td><td>692</td></tr><tr><td>&quot;Garuda&quot;</td><td>&quot;garuda&quot;</td><td>656</td></tr><tr><td>&quot;KDE neon&quot;</td><td>&quot;kdeneon&quot;</td><td>610</td></tr><tr><td>&quot;FreeBSD&quot;</td><td>&quot;freebsd&quot;</td><td>606</td></tr><tr><td>&quot;Nobara&quot;</td><td>&quot;nobara&quot;</td><td>532</td></tr><tr><td>&quot;antiX&quot;</td><td>&quot;antix&quot;</td><td>520</td></tr><tr><td>&quot;Relianoid&quot;</td><td>&quot;relianoid&quot;</td><td>479</td></tr><tr><td>&quot;elementary&quot;</td><td>&quot;elementary&quot;</td><td>474</td></tr><tr><td>&quot;Lite&quot;</td><td>&quot;lite&quot;</td><td>450</td></tr><tr><td>&quot;NixOS&quot;</td><td>&quot;nixos&quot;</td><td>428</td></tr><tr><td>&quot;Vanilla&quot;</td><td>&quot;vanilla&quot;</td><td>428</td></tr><tr><td>&quot;EasyOS&quot;</td><td>&quot;easyos&quot;</td><td>427</td></tr><tr><td>&quot;Red Hat&quot;</td><td>&quot;redhat&quot;</td><td>407</td></tr><tr><td>&quot;Mageia&quot;</td><td>&quot;mageia&quot;</td><td>400</td></tr><tr><td>&quot;KaOS&quot;</td><td>&quot;kaos&quot;</td><td>350</td></tr><tr><td>&quot;Kali&quot;</td><td>&quot;kali&quot;</td><td>340</td></tr><tr><td>&quot;MakuluLinux&quot;</td><td>&quot;makulu&quot;</td><td>331</td></tr><tr><td>&quot;PCLinuxOS&quot;</td><td>&quot;pclinuxos&quot;</td><td>331</td></tr><tr><td>&quot;Puppy&quot;</td><td>&quot;puppy&quot;</td><td>310</td></tr><tr><td>&quot;TUXEDO&quot;</td><td>&quot;tuxedo&quot;</td><td>304</td></tr><tr><td>&quot;Devuan&quot;</td><td>&quot;devuan&quot;</td><td>288</td></tr><tr><td>&quot;Mabox&quot;</td><td>&quot;mabox&quot;</td><td>283</td></tr><tr><td>&quot;NetBSD&quot;</td><td>&quot;netbsd&quot;</td><td>270</td></tr><tr><td>&quot;EuroLinux&quot;</td><td>&quot;eurolinux&quot;</td><td>268</td></tr><tr><td>&quot;Q4OS&quot;</td><td>&quot;q4os&quot;</td><td>267</td></tr><tr><td>&quot;ReactOS&quot;</td><td>&quot;reactos&quot;</td><td>265</td></tr><tr><td>&quot;Peppermint&quot;</td><td>&quot;peppermint&quot;</td><td>257</td></tr><tr><td>&quot;Solus&quot;</td><td>&quot;solus&quot;</td><td>252</td></tr><tr><td>&quot;SparkyLinux&quot;</td><td>&quot;sparky&quot;</td><td>236</td></tr><tr><td>&quot;ArcoLinux&quot;</td><td>&quot;arco&quot;</td><td>235</td></tr><tr><td>&quot;Slackware&quot;</td><td>&quot;slackware&quot;</td><td>226</td></tr><tr><td>&quot;Alpine&quot;</td><td>&quot;alpine&quot;</td><td>224</td></tr><tr><td>&quot;CachyOS&quot;</td><td>&quot;cachyos&quot;</td><td>221</td></tr><tr><td>&quot;BigLinux&quot;</td><td>&quot;biglinux&quot;</td><td>219</td></tr><tr><td>&quot;blendOS&quot;</td><td>&quot;blendos&quot;</td><td>207</td></tr><tr><td>&quot;Kubuntu&quot;</td><td>&quot;kubuntu&quot;</td><td>207</td></tr><tr><td>&quot;Bodhi&quot;</td><td>&quot;bodhi&quot;</td><td>206</td></tr><tr><td>&quot;GhostBSD&quot;</td><td>&quot;ghostbsd&quot;</td><td>203</td></tr><tr><td>&quot;UBports&quot;</td><td>&quot;ubports&quot;</td><td>203</td></tr><tr><td>&quot;PureOS&quot;</td><td>&quot;pureos&quot;</td><td>194</td></tr><tr><td>&quot;CentOS&quot;</td><td>&quot;centos&quot;</td><td>190</td></tr><tr><td>&quot;Rocky&quot;</td><td>&quot;rocky&quot;</td><td>189</td></tr><tr><td>&quot;Tails&quot;</td><td>&quot;tails&quot;</td><td>184</td></tr><tr><td>&quot;Clonezilla&quot;</td><td>&quot;clonezilla&quot;</td><td>180</td></tr><tr><td>&quot;Lubuntu&quot;</td><td>&quot;lubuntu&quot;</td><td>174</td></tr><tr><td>&quot;Parrot&quot;</td><td>&quot;parrot&quot;</td><td>168</td></tr><tr><td>&quot;Xubuntu&quot;</td><td>&quot;xubuntu&quot;</td><td>164</td></tr><tr><td>&quot;Voyager&quot;</td><td>&quot;voyager&quot;</td><td>161</td></tr><tr><td>&quot;Gentoo&quot;</td><td>&quot;gentoo&quot;</td><td>160</td></tr><tr><td>&quot;Artix&quot;</td><td>&quot;artix&quot;</td><td>152</td></tr><tr><td>&quot;Arch&quot;</td><td>&quot;arch&quot;</td><td>151</td></tr><tr><td>&quot;SpiralLinux&quot;</td><td>&quot;spiral&quot;</td><td>150</td></tr><tr><td>&quot;SmartOS&quot;</td><td>&quot;smartos&quot;</td><td>149</td></tr><tr><td>&quot;Lernstick&quot;</td><td>&quot;lernstick&quot;</td><td>148</td></tr><tr><td>&quot;Athena&quot;</td><td>&quot;athena&quot;</td><td>145</td></tr><tr><td>&quot;XeroLinux&quot;</td><td>&quot;xero&quot;</td><td>137</td></tr><tr><td>&quot;ALT&quot;</td><td>&quot;alt&quot;</td><td>135</td></tr><tr><td>&quot;wattOS&quot;</td><td>&quot;wattos&quot;</td><td>135</td></tr><tr><td>&quot;Gecko&quot;</td><td>&quot;gecko&quot;</td><td>131</td></tr><tr><td>&quot;OpenBSD&quot;</td><td>&quot;openbsd&quot;</td><td>130</td></tr><tr><td>&quot;Linuxfx&quot;</td><td>&quot;linuxfx&quot;</td><td>129</td></tr><tr><td>&quot;Archcraft&quot;</td><td>&quot;archcraft&quot;</td><td>128</td></tr><tr><td>&quot;Haiku&quot;</td><td>&quot;haiku&quot;</td><td>127</td></tr><tr><td>&quot;RebornOS&quot;</td><td>&quot;rebornos&quot;</td><td>125</td></tr><tr><td>&quot;Rhino&quot;</td><td>&quot;rhino&quot;</td><td>125</td></tr><tr><td>&quot;Gnoppix&quot;</td><td>&quot;gnoppix&quot;</td><td>124</td></tr><tr><td>&quot;Kodachi&quot;</td><td>&quot;kodachi&quot;</td><td>123</td></tr><tr><td>&quot;LXLE&quot;</td><td>&quot;lxle&quot;</td><td>122</td></tr><tr><td>&quot;Regata&quot;</td><td>&quot;regata&quot;</td><td>122</td></tr><tr><td>&quot;Tiny Core&quot;</td><td>&quot;tinycore&quot;</td><td>117</td></tr><tr><td>&quot;OpenMandriva&quot;</td><td>&quot;openmandriva&quot;</td><td>115</td></tr><tr><td>&quot;Bluestar&quot;</td><td>&quot;bluestar&quot;</td><td>114</td></tr><tr><td>&quot;Oracle&quot;</td><td>&quot;oracle&quot;</td><td>113</td></tr><tr><td>&quot;Nitrux&quot;</td><td>&quot;nitrux&quot;</td><td>111</td></tr><tr><td>&quot;Ubuntu MATE&quot;</td><td>&quot;ubuntumate&quot;</td><td>111</td></tr><tr><td>&quot;Slax&quot;</td><td>&quot;slax&quot;</td><td>110</td></tr><tr><td>&quot;Clear&quot;</td><td>&quot;clear&quot;</td><td>109</td></tr><tr><td>&quot;Neptune&quot;</td><td>&quot;neptune&quot;</td><td>109</td></tr><tr><td>&quot;siduction&quot;</td><td>&quot;siduction&quot;</td><td>108</td></tr><tr><td>&quot;deepin&quot;</td><td>&quot;deepin&quot;</td><td>107</td></tr><tr><td>&quot;Feren&quot;</td><td>&quot;ferenos&quot;</td><td>106</td></tr><tr><td>&quot;Qubes&quot;</td><td>&quot;qubes&quot;</td><td>106</td></tr><tr><td>&quot;Murena&quot;</td><td>&quot;murena&quot;</td><td>105</td></tr><tr><td>&quot;Absolute&quot;</td><td>&quot;absolute&quot;</td><td>103</td></tr><tr><td>&quot;Ubuntu Studio&quot;</td><td>&quot;ubuntustudio&quot;</td><td>103</td></tr><tr><td>&quot;Void&quot;</td><td>&quot;void&quot;</td><td>103</td></tr><tr><td>&quot;Emmabuntüs&quot;</td><td>&quot;emmabuntus&quot;</td><td>102</td></tr><tr><td>&quot;TrueNAS&quot;</td><td>&quot;truenas&quot;</td><td>97</td></tr><tr><td>&quot;Br OS&quot;</td><td>&quot;bros&quot;</td><td>96</td></tr></tbody></table></div>"
      ],
      "text/plain": [
       "shape: (100, 3)\n",
       "┌───────────────┬──────────────┬─────────────┐\n",
       "│ distribution  ┆ id           ┆ page hit(s) │\n",
       "│ ---           ┆ ---          ┆ ---         │\n",
       "│ str           ┆ str          ┆ i64         │\n",
       "╞═══════════════╪══════════════╪═════════════╡\n",
       "│ MX Linux      ┆ mx           ┆ 2753        │\n",
       "│ Mint          ┆ mint         ┆ 1943        │\n",
       "│ EndeavourOS   ┆ endeavour    ┆ 1639        │\n",
       "│ Debian        ┆ debian       ┆ 1408        │\n",
       "│ Fedora        ┆ fedora       ┆ 1307        │\n",
       "│ Manjaro       ┆ manjaro      ┆ 1082        │\n",
       "│ Ubuntu        ┆ ubuntu       ┆ 1064        │\n",
       "│ Pop!_OS       ┆ popos        ┆ 885         │\n",
       "│ BackBox       ┆ backbox      ┆ 817         │\n",
       "│ AlmaLinux     ┆ alma         ┆ 753         │\n",
       "│ openSUSE      ┆ opensuse     ┆ 709         │\n",
       "│ Zorin         ┆ zorin        ┆ 692         │\n",
       "│ Garuda        ┆ garuda       ┆ 656         │\n",
       "│ KDE neon      ┆ kdeneon      ┆ 610         │\n",
       "│ FreeBSD       ┆ freebsd      ┆ 606         │\n",
       "│ Nobara        ┆ nobara       ┆ 532         │\n",
       "│ antiX         ┆ antix        ┆ 520         │\n",
       "│ Relianoid     ┆ relianoid    ┆ 479         │\n",
       "│ elementary    ┆ elementary   ┆ 474         │\n",
       "│ Lite          ┆ lite         ┆ 450         │\n",
       "│ NixOS         ┆ nixos        ┆ 428         │\n",
       "│ Vanilla       ┆ vanilla      ┆ 428         │\n",
       "│ EasyOS        ┆ easyos       ┆ 427         │\n",
       "│ Red Hat       ┆ redhat       ┆ 407         │\n",
       "│ Mageia        ┆ mageia       ┆ 400         │\n",
       "│ KaOS          ┆ kaos         ┆ 350         │\n",
       "│ Kali          ┆ kali         ┆ 340         │\n",
       "│ MakuluLinux   ┆ makulu       ┆ 331         │\n",
       "│ PCLinuxOS     ┆ pclinuxos    ┆ 331         │\n",
       "│ Puppy         ┆ puppy        ┆ 310         │\n",
       "│ TUXEDO        ┆ tuxedo       ┆ 304         │\n",
       "│ Devuan        ┆ devuan       ┆ 288         │\n",
       "│ Mabox         ┆ mabox        ┆ 283         │\n",
       "│ NetBSD        ┆ netbsd       ┆ 270         │\n",
       "│ EuroLinux     ┆ eurolinux    ┆ 268         │\n",
       "│ Q4OS          ┆ q4os         ┆ 267         │\n",
       "│ ReactOS       ┆ reactos      ┆ 265         │\n",
       "│ Peppermint    ┆ peppermint   ┆ 257         │\n",
       "│ Solus         ┆ solus        ┆ 252         │\n",
       "│ SparkyLinux   ┆ sparky       ┆ 236         │\n",
       "│ ArcoLinux     ┆ arco         ┆ 235         │\n",
       "│ Slackware     ┆ slackware    ┆ 226         │\n",
       "│ Alpine        ┆ alpine       ┆ 224         │\n",
       "│ CachyOS       ┆ cachyos      ┆ 221         │\n",
       "│ BigLinux      ┆ biglinux     ┆ 219         │\n",
       "│ blendOS       ┆ blendos      ┆ 207         │\n",
       "│ Kubuntu       ┆ kubuntu      ┆ 207         │\n",
       "│ Bodhi         ┆ bodhi        ┆ 206         │\n",
       "│ GhostBSD      ┆ ghostbsd     ┆ 203         │\n",
       "│ UBports       ┆ ubports      ┆ 203         │\n",
       "│ PureOS        ┆ pureos       ┆ 194         │\n",
       "│ CentOS        ┆ centos       ┆ 190         │\n",
       "│ Rocky         ┆ rocky        ┆ 189         │\n",
       "│ Tails         ┆ tails        ┆ 184         │\n",
       "│ Clonezilla    ┆ clonezilla   ┆ 180         │\n",
       "│ Lubuntu       ┆ lubuntu      ┆ 174         │\n",
       "│ Parrot        ┆ parrot       ┆ 168         │\n",
       "│ Xubuntu       ┆ xubuntu      ┆ 164         │\n",
       "│ Voyager       ┆ voyager      ┆ 161         │\n",
       "│ Gentoo        ┆ gentoo       ┆ 160         │\n",
       "│ Artix         ┆ artix        ┆ 152         │\n",
       "│ Arch          ┆ arch         ┆ 151         │\n",
       "│ SpiralLinux   ┆ spiral       ┆ 150         │\n",
       "│ SmartOS       ┆ smartos      ┆ 149         │\n",
       "│ Lernstick     ┆ lernstick    ┆ 148         │\n",
       "│ Athena        ┆ athena       ┆ 145         │\n",
       "│ XeroLinux     ┆ xero         ┆ 137         │\n",
       "│ ALT           ┆ alt          ┆ 135         │\n",
       "│ wattOS        ┆ wattos       ┆ 135         │\n",
       "│ Gecko         ┆ gecko        ┆ 131         │\n",
       "│ OpenBSD       ┆ openbsd      ┆ 130         │\n",
       "│ Linuxfx       ┆ linuxfx      ┆ 129         │\n",
       "│ Archcraft     ┆ archcraft    ┆ 128         │\n",
       "│ Haiku         ┆ haiku        ┆ 127         │\n",
       "│ RebornOS      ┆ rebornos     ┆ 125         │\n",
       "│ Rhino         ┆ rhino        ┆ 125         │\n",
       "│ Gnoppix       ┆ gnoppix      ┆ 124         │\n",
       "│ Kodachi       ┆ kodachi      ┆ 123         │\n",
       "│ LXLE          ┆ lxle         ┆ 122         │\n",
       "│ Regata        ┆ regata       ┆ 122         │\n",
       "│ Tiny Core     ┆ tinycore     ┆ 117         │\n",
       "│ OpenMandriva  ┆ openmandriva ┆ 115         │\n",
       "│ Bluestar      ┆ bluestar     ┆ 114         │\n",
       "│ Oracle        ┆ oracle       ┆ 113         │\n",
       "│ Nitrux        ┆ nitrux       ┆ 111         │\n",
       "│ Ubuntu MATE   ┆ ubuntumate   ┆ 111         │\n",
       "│ Slax          ┆ slax         ┆ 110         │\n",
       "│ Clear         ┆ clear        ┆ 109         │\n",
       "│ Neptune       ┆ neptune      ┆ 109         │\n",
       "│ siduction     ┆ siduction    ┆ 108         │\n",
       "│ deepin        ┆ deepin       ┆ 107         │\n",
       "│ Feren         ┆ ferenos      ┆ 106         │\n",
       "│ Qubes         ┆ qubes        ┆ 106         │\n",
       "│ Murena        ┆ murena       ┆ 105         │\n",
       "│ Absolute      ┆ absolute     ┆ 103         │\n",
       "│ Ubuntu Studio ┆ ubuntustudio ┆ 103         │\n",
       "│ Void          ┆ void         ┆ 103         │\n",
       "│ Emmabuntüs    ┆ emmabuntus   ┆ 102         │\n",
       "│ TrueNAS       ┆ truenas      ┆ 97          │\n",
       "│ Br OS         ┆ bros         ┆ 96          │\n",
       "└───────────────┴──────────────┴─────────────┘"
      ]
     },
     "execution_count": 8,
     "metadata": {},
     "output_type": "execute_result"
    }
   ],
   "source": [
    "df = pl.read_json(\"top_distros.json\")\n",
    "df"
   ]
  },
  {
   "cell_type": "code",
   "execution_count": 9,
   "metadata": {},
   "outputs": [],
   "source": [
    "def add_hyphen(string):\n",
    "    pattern = r'(\\d)([a-zA-Z])'\n",
    "    result = re.sub(pattern, r'\\1-\\2', string)\n",
    "    return result"
   ]
  },
  {
   "cell_type": "code",
   "execution_count": 10,
   "metadata": {},
   "outputs": [],
   "source": [
    "def scrape_features_as_json(id):\n",
    "    link = f'https://distrowatch.com/table.php?distribution={id}'\n",
    "    scrape = requests.get(link)\n",
    "    dist_soup = BeautifulSoup(scrape.content, 'lxml')\n",
    "    counter = 0\n",
    "\n",
    "    features = [\"\"]\n",
    "    while features[0] != \"Feature\":\n",
    "        features = dist_soup.select('tr')[counter]\n",
    "        for br in features.find_all('br'):\n",
    "            br.replace_with('-')\n",
    "        features = features.get_text()\n",
    "        features = features.strip().split(\"\\n\")\n",
    "        if features[0] != \"Feature\":\n",
    "            counter += 1\n",
    "    for idx, feature in enumerate(features):\n",
    "        feature_new = add_hyphen(feature)\n",
    "        features[idx] = feature_new\n",
    "    if features[0] == features[-1]:\n",
    "        features.pop()\n",
    "\n",
    "    release = dist_soup.select('tr')[counter + 1].get_text()\n",
    "    release = release.split(\"\\n\")\n",
    "    release.pop(0)\n",
    "    release.pop(-1)\n",
    "    if release[0] == release[-1]:\n",
    "        release.pop()\n",
    "\n",
    "    end_of_life = dist_soup.select('tr')[counter + 2].get_text()\n",
    "    end_of_life = end_of_life.replace('\\xa0', '\\xa0\\n')  # Assume we need to insert '\\n' after every '\\xa0'\n",
    "    end_of_life = end_of_life.replace('\\xa0\\n\\n', '\\xa0\\n')\n",
    "    end_of_life = end_of_life.replace(';', '')\n",
    "    end_of_life = end_of_life.split(\"\\n\")\n",
    "    end_of_life.pop(0)\n",
    "    end_of_life.pop(-1)\n",
    "    for idx, eol in enumerate(end_of_life):\n",
    "        if eol == \"\\xa0\":\n",
    "            end_of_life[idx] = \"NA\"\n",
    "    if end_of_life[0] == end_of_life[-1]:\n",
    "        end_of_life.pop()\n",
    "\n",
    "    price = dist_soup.select('tr')[counter + 3].get_text()\n",
    "    price = price.split(\"\\n\")\n",
    "    price.pop(0)\n",
    "    price.pop(-1)\n",
    "    for idx, p in enumerate(price):\n",
    "        if p == \"\\xa0\":\n",
    "            price[idx] = \"NA\"\n",
    "    if price[0] == price[-1]:\n",
    "        price.pop()\n",
    "\n",
    "    image_size = dist_soup.select('tr')[counter + 4].get_text()\n",
    "    image_size = image_size.split(\"\\n\")\n",
    "    image_size.pop(0)\n",
    "    image_size.pop(-1)\n",
    "    for idx, im in enumerate(image_size):\n",
    "        if im == \"\\xa0\":\n",
    "            image_size[idx] = \"NA\"\n",
    "    if image_size[0] == image_size[-1]:\n",
    "        image_size.pop()\n",
    "\n",
    "    free_download = dist_soup.select('tr')[counter + 5]\n",
    "    free_download_list = []\n",
    "    free_download_list.append(free_download.th.get_text())\n",
    "    for idx, iso in enumerate(free_download.find_all(\"td\")):\n",
    "        if iso.a:\n",
    "            free_download_list.append(iso.find('a')[\"href\"])\n",
    "        else:\n",
    "            free_download_list.append(\"NA\")\n",
    "    \n",
    "    installation = dist_soup.select('tr')[counter + 6].get_text()\n",
    "    installation = installation.split(\"\\n\")\n",
    "    installation.pop(0)\n",
    "    installation.pop(-1)\n",
    "    for idx, ins in enumerate(installation):\n",
    "        if ins == \"\\xa0\":\n",
    "            installation[idx] = \"NA\"\n",
    "    if installation[0] == installation[-1]:\n",
    "        installation.pop()\n",
    "\n",
    "    default_desktop = dist_soup.select('tr')[counter + 7].get_text()\n",
    "    default_desktop = default_desktop.split(\"\\n\")\n",
    "    default_desktop.pop(0)\n",
    "    default_desktop.pop(-1)\n",
    "    for idx, dd in enumerate(default_desktop):\n",
    "        if dd == \"\\xa0\":\n",
    "            default_desktop[idx] = \"NA\"\n",
    "    if default_desktop[0] == default_desktop[-1]:\n",
    "        default_desktop.pop()\n",
    "\n",
    "    package_management = dist_soup.select('tr')[counter + 8].get_text()\n",
    "    package_management = package_management.split(\"\\n\")\n",
    "    package_management.pop(0)\n",
    "    package_management.pop(-1)\n",
    "    for idx, pm in enumerate(package_management):\n",
    "        if pm == \"\\xa0\":\n",
    "            package_management[idx] = \"NA\"\n",
    "    if package_management[0] == package_management[-1]:\n",
    "        package_management.pop()\n",
    "\n",
    "    release_model = dist_soup.select('tr')[counter + 9].get_text()\n",
    "    release_model = release_model.split(\"\\n\")\n",
    "    release_model.pop(0)\n",
    "    release_model.pop(-1)\n",
    "    for idx, rm in enumerate(release_model):\n",
    "        if rm == \"\\xa0\":\n",
    "            release_model[idx] = \"NA\"\n",
    "    if release_model[0] == release_model[-1]:\n",
    "        release_model.pop()\n",
    "\n",
    "    office_suite = dist_soup.select('tr')[counter + 10].get_text()\n",
    "    office_suite = office_suite.split(\"\\n\")\n",
    "    office_suite.pop(0)\n",
    "    office_suite.pop(-1)\n",
    "    for idx, o in enumerate(office_suite):\n",
    "        if o == \"\\xa0\":\n",
    "            office_suite[idx] = \"NA\"\n",
    "    if office_suite[0] == office_suite[-1]:\n",
    "        office_suite.pop()\n",
    "\n",
    "    arch = dist_soup.select('tr')[counter + 11].get_text()\n",
    "    arch = arch.split(\"\\n\")\n",
    "    arch.pop(0)\n",
    "    arch.pop(-1)\n",
    "    for idx, a in enumerate(arch):\n",
    "        if a == \"\\xa0\":\n",
    "            arch[idx] = \"NA\"\n",
    "    if arch[0] == arch[-1]:\n",
    "        arch.pop()\n",
    "\n",
    "    init = dist_soup.select('tr')[counter + 12].get_text()\n",
    "    init = init.split(\"\\n\")\n",
    "    init.pop(0)\n",
    "    init.pop(-1)\n",
    "    for idx, i in enumerate(init):\n",
    "        if i == \"\\xa0\":\n",
    "            init[idx] = \"NA\"\n",
    "    if init[0] == init[-1]:\n",
    "        init.pop()\n",
    "\n",
    "    fs = dist_soup.select('tr')[counter + 13].get_text()\n",
    "    fs = fs.split(\"\\n\")\n",
    "    fs.pop(0)\n",
    "    fs.pop(-1)\n",
    "    for idx, f in enumerate(fs):\n",
    "        if f == \"\\xa0\":\n",
    "            fs[idx] = \"NA\"\n",
    "    if fs[0] == fs[-1]:\n",
    "        fs.pop()\n",
    "\n",
    "    lang = dist_soup.select('tr')[counter + 14].get_text()\n",
    "    lang = lang.split(\"\\n\")\n",
    "    lang.pop(0)\n",
    "    lang.pop(-1)\n",
    "    for idx, l in enumerate(lang):\n",
    "        if l == \"\\xa0\":\n",
    "            lang[idx] = \"NA\"\n",
    "    if lang[0] == lang[-1]:\n",
    "        lang.pop()\n",
    "\n",
    "    asian = dist_soup.select('tr')[counter + 15].get_text()\n",
    "    asian = asian.split(\"\\n\")\n",
    "    asian.pop(0)\n",
    "    asian.pop(-1)\n",
    "    for idx, a in enumerate(asian):\n",
    "        if a == \"\\xa0\":\n",
    "            asian[idx] = \"NA\"\n",
    "    if asian[0] == asian[-1]:\n",
    "        asian.pop()\n",
    "\n",
    "    version = dist_soup.select('tr')[counter + 16].get_text()\n",
    "    version = version.split(\"\\n\")\n",
    "    version.pop(0)\n",
    "    version.pop(-1)\n",
    "    for idx, v in enumerate(version):\n",
    "        if a == \"\\xa0\":\n",
    "            version[idx] = \"NA\"\n",
    "    if version[0] == version[-1]:\n",
    "        version.pop()\n",
    "\n",
    "    num_packages = dist_soup.select('tr')[counter + 16]\n",
    "    num_packages_list = []\n",
    "    suffixes = []\n",
    "    for idx, link in enumerate(num_packages.find_all(\"td\")):\n",
    "        if link.a:\n",
    "            num_packages_list.append(link.find('a')[\"href\"])\n",
    "        else:\n",
    "            num_packages_list.append(\"NA\")\n",
    "    ctr = 0\n",
    "    for idx, elem in enumerate(num_packages_list):\n",
    "        if elem == \"NA\":\n",
    "            num_packages_list[idx] = \"NA\"\n",
    "        else:\n",
    "            pkg_link = f'https://distrowatch.com/{elem}'\n",
    "            pkg_scrape = requests.get(pkg_link)\n",
    "            pkg_soup = BeautifulSoup(pkg_scrape.content, \"lxml\")\n",
    "            while not pkg_soup.select(\"b\")[ctr].get_text().startswith(\"Number of packages:\"):\n",
    "                ctr += 1\n",
    "            num_packages_list[idx] = pkg_soup.select(\"b\")[ctr].get_text().strip()[20:].replace(\",\", \"\")\n",
    "    num_packages_list.insert(0, \"Number of Packages\")\n",
    "\n",
    "    npkgs = dist_soup.select('tr')[counter + 16]\n",
    "    npkgs_list = []\n",
    "    suffixes = []\n",
    "    dist_version = []\n",
    "    for idx, link in enumerate(npkgs.find_all(\"td\")):\n",
    "        if link.a:\n",
    "            npkgs_list.append(npkgs.find_all('a')[idx][\"href\"])\n",
    "            dist_version.append(npkgs.select(\"a\")[idx].get_text())\n",
    "        else:\n",
    "            npkgs_list.append(\"NA\")\n",
    "    \n",
    "    ctr = -1\n",
    "    pkg_list = [] \n",
    "    for idx, elem in enumerate(npkgs_list):\n",
    "        if elem == \"NA\":\n",
    "            pkg_list.append(\"NA\")\n",
    "        else:\n",
    "            pkg_link = f'https://distrowatch.com/{elem}'\n",
    "            pkg_scrape = requests.get(pkg_link)\n",
    "            pkg_soup = BeautifulSoup(pkg_scrape.content, \"lxml\")\n",
    "            while str(pkg_soup.select(\"a\")[ctr].get(\"href\")).endswith(\".txt\") == False:\n",
    "                ctr -= 1\n",
    "            pkg_list.append(pkg_soup.select(\"a\")[ctr][\"href\"])\n",
    "    \n",
    "    if os.path.exists(f\"{id}\"):\n",
    "        os.chdir(f\"{id}\")\n",
    "    else:\n",
    "        os.mkdir(f\"{id}\")\n",
    "        os.chdir(f\"{id}\")\n",
    "    print(\" Scraping packages...\")    \n",
    "    dist_ctr = 0\n",
    "    for new_link in pkg_list:\n",
    "        if new_link == \"NA\":\n",
    "            continue\n",
    "        new_link = \"https://distrowatch.com/\" + new_link\n",
    "        link_scrape = requests.get(new_link)\n",
    "        link_soup = BeautifulSoup(link_scrape.content, 'lxml')\n",
    "        packages = link_soup.find('p').get_text().strip().split(\"\\n\")\n",
    "        \n",
    "        sp = []\n",
    "        for items in packages:\n",
    "            if \"^\" in items:\n",
    "                sp.append(items.split(\"^\"))\n",
    "            else:\n",
    "                sp.append([items, \"-\"])\n",
    "        \n",
    "        pkg_name = []\n",
    "        ver = []\n",
    "        for item in sp:\n",
    "            for idx, elem in enumerate(item):\n",
    "                if idx == 0:\n",
    "                    pkg_name.append(elem)\n",
    "                if idx == 1:\n",
    "                    ver.append(elem)\n",
    "\n",
    "        pkg_result_json = {\n",
    "            \"distribution_name\": [id] * len(pkg_name),\n",
    "            \"version\": [dist_version[dist_ctr]] * len(pkg_name),\n",
    "            \"package_name\": pkg_name,\n",
    "            \"package_version\": ver\n",
    "        }\n",
    "        print(f\"len of package name: {len(pkg_name)} \\nlen of package version: {len(ver)}\")\n",
    "        pkg_df = pd.DataFrame(pkg_result_json)\n",
    "        pkg_df.to_json(f'{id}_{dist_version[dist_ctr]}_pkglist.json', orient=\"records\")\n",
    "        print(f\"        {dist_ctr + 1}. Scraped: {id}_{dist_version[dist_ctr]}_pkglist.json\")\n",
    "        dist_ctr += 1\n",
    "    print(\" Done. Exiting...\")\n",
    "    os.chdir(\"..\")\n",
    "\n",
    "    result = {\n",
    "        release[0]: release[1:],\n",
    "        end_of_life[0]: end_of_life[1:],\n",
    "        price[0]: price[1:],\n",
    "        image_size[0]: image_size[1:],\n",
    "        free_download_list[0]: free_download_list[1:],\n",
    "        installation[0]: installation[1:],\n",
    "        default_desktop[0]: default_desktop[1:],\n",
    "        package_management[0]: package_management[1:],\n",
    "        release_model[0]: release_model[1:],\n",
    "        office_suite[0]: office_suite[1:],\n",
    "        arch[0]: arch[1:],\n",
    "        init[0]: init[1:],\n",
    "        fs[0]: fs[1:],\n",
    "        lang[0]: lang[1:],\n",
    "        asian[0]: asian[1:],\n",
    "        num_packages_list[0]: num_packages_list[1:], \n",
    "    }\n",
    "\n",
    "    result_json = {\n",
    "        \"distribution_name\": [id] * len(features[1:]),\n",
    "        \"version\": features[1:],\n",
    "        \"release_date\": release[1:],\n",
    "        \"end_of_life\": end_of_life[1:],\n",
    "        \"price\": price[1:],\n",
    "        \"image_size\": image_size[1:],\n",
    "        \"download_link\": free_download_list[1:],\n",
    "        \"installation_method\": installation[1:],\n",
    "        \"default_desktop\": default_desktop[1:],\n",
    "        \"package_management\": package_management[1:],\n",
    "        \"release_model\": release_model[1:],\n",
    "        \"office_suite\": office_suite[1:],\n",
    "        \"processor_architecture\": arch[1:],\n",
    "        \"init_system\": init[1:],\n",
    "        \"file_system\": fs[1:],\n",
    "        \"multilingual\": lang[1:],\n",
    "        \"asian_language_support\": asian[1:],\n",
    "        \"number_of_packages\": num_packages_list[1:],\n",
    "    }\n",
    "    \n",
    "    df = pd.DataFrame(result_json)\n",
    "    #df.transpose(include_header=True, header_name=features[0], column_names=features[1:]).write_json(f'features_{id}.json')\n",
    "    df.to_json(f'features_{id}.json', orient=\"records\")"
   ]
  },
  {
   "cell_type": "code",
   "execution_count": 11,
   "metadata": {},
   "outputs": [
    {
     "data": {
      "text/plain": [
       "'/home/sachin/Documents/Projects/DSAI/Distro_rec'"
      ]
     },
     "execution_count": 11,
     "metadata": {},
     "output_type": "execute_result"
    }
   ],
   "source": [
    "os.getcwd()"
   ]
  },
  {
   "cell_type": "code",
   "execution_count": 12,
   "metadata": {},
   "outputs": [
    {
     "name": "stdout",
     "output_type": "stream",
     "text": [
      "1. scraping: mx\n",
      " Scraping packages...\n",
      "len of package name: 2741 \n",
      "len of package version: 2741\n",
      "        1. Scraped: mx_23.1_pkglist.json\n",
      "len of package name: 2681 \n",
      "len of package version: 2681\n",
      "        2. Scraped: mx_21.3_pkglist.json\n",
      "len of package name: 2742 \n",
      "len of package version: 2742\n",
      "        3. Scraped: mx_19.4_pkglist.json\n",
      "len of package name: 1931 \n",
      "len of package version: 1931\n",
      "        4. Scraped: mx_18.3_pkglist.json\n",
      "len of package name: 1850 \n",
      "len of package version: 1850\n",
      "        5. Scraped: mx_17.1_pkglist.json\n",
      "len of package name: 1783 \n",
      "len of package version: 1783\n",
      "        6. Scraped: mx_16.1_pkglist.json\n",
      " Done. Exiting...\n",
      "1. scraped: mx\n",
      "2. scraping: mint\n",
      " Scraping packages...\n",
      "len of package name: 2117 \n",
      "len of package version: 2117\n",
      "        1. Scraped: mint_6-lmde_pkglist.json\n",
      "len of package name: 2275 \n",
      "len of package version: 2275\n",
      "        2. Scraped: mint_21.2_pkglist.json\n",
      "len of package name: 2005 \n",
      "len of package version: 2005\n",
      "        3. Scraped: mint_5-lmde_pkglist.json\n",
      "len of package name: 2159 \n",
      "len of package version: 2159\n",
      "        4. Scraped: mint_20.3_pkglist.json\n",
      "len of package name: 1864 \n",
      "len of package version: 1864\n",
      "        5. Scraped: mint_4-lmde_pkglist.json\n",
      "len of package name: 2080 \n",
      "len of package version: 2080\n",
      "        6. Scraped: mint_19.3_pkglist.json\n",
      "len of package name: 3136 \n",
      "len of package version: 3136\n",
      "        7. Scraped: mint_18.3_pkglist.json\n",
      "len of package name: 2347 \n",
      "len of package version: 2347\n",
      "        8. Scraped: mint_17.3_pkglist.json\n",
      "len of package name: 1974 \n",
      "len of package version: 1974\n",
      "        9. Scraped: mint_16_pkglist.json\n",
      "len of package name: 1916 \n",
      "len of package version: 1916\n",
      "        10. Scraped: mint_15_pkglist.json\n",
      "len of package name: 1901 \n",
      "len of package version: 1901\n",
      "        11. Scraped: mint_14_pkglist.json\n",
      "len of package name: 1834 \n",
      "len of package version: 1834\n",
      "        12. Scraped: mint_13_pkglist.json\n",
      "len of package name: 1695 \n",
      "len of package version: 1695\n",
      "        13. Scraped: mint_12_pkglist.json\n",
      "len of package name: 1551 \n",
      "len of package version: 1551\n",
      "        14. Scraped: mint_11_pkglist.json\n",
      "len of package name: 1487 \n",
      "len of package version: 1487\n",
      "        15. Scraped: mint_10_pkglist.json\n",
      "len of package name: 1443 \n",
      "len of package version: 1443\n",
      "        16. Scraped: mint_9_pkglist.json\n",
      "len of package name: 1407 \n",
      "len of package version: 1407\n",
      "        17. Scraped: mint_8_pkglist.json\n",
      "len of package name: 1305 \n",
      "len of package version: 1305\n",
      "        18. Scraped: mint_7_pkglist.json\n",
      "len of package name: 1301 \n",
      "len of package version: 1301\n",
      "        19. Scraped: mint_6_pkglist.json\n",
      "len of package name: 1191 \n",
      "len of package version: 1191\n",
      "        20. Scraped: mint_5_pkglist.json\n",
      "len of package name: 1190 \n",
      "len of package version: 1190\n",
      "        21. Scraped: mint_4.0_pkglist.json\n",
      "len of package name: 1132 \n",
      "len of package version: 1132\n",
      "        22. Scraped: mint_3.1_pkglist.json\n",
      "len of package name: 1136 \n",
      "len of package version: 1136\n",
      "        23. Scraped: mint_3.0_pkglist.json\n",
      "len of package name: 1269 \n",
      "len of package version: 1269\n",
      "        24. Scraped: mint_2.2_pkglist.json\n",
      "len of package name: 1331 \n",
      "len of package version: 1331\n",
      "        25. Scraped: mint_2.1_pkglist.json\n",
      " Done. Exiting...\n",
      "2. scraped: mint\n",
      "3. scraping: endeavour\n",
      " Scraping packages...\n",
      "len of package name: 893 \n",
      "len of package version: 893\n",
      "        1. Scraped: endeavour_03-2023_pkglist.json\n",
      "len of package name: 890 \n",
      "len of package version: 890\n",
      "        2. Scraped: endeavour_22.12_pkglist.json\n",
      "len of package name: 885 \n",
      "len of package version: 885\n",
      "        3. Scraped: endeavour_21.5_pkglist.json\n",
      "len of package name: 894 \n",
      "len of package version: 894\n",
      "        4. Scraped: endeavour_2020.09.20_pkglist.json\n",
      "len of package name: 820 \n",
      "len of package version: 820\n",
      "        5. Scraped: endeavour_2019.12.22_pkglist.json\n",
      " Done. Exiting...\n",
      "3. scraped: endeavour\n",
      "4. scraping: debian\n",
      " Scraping packages...\n",
      "len of package name: 96459 \n",
      "len of package version: 96459\n",
      "        1. Scraped: debian_unstable_pkglist.json\n",
      "len of package name: 66917 \n",
      "len of package version: 66917\n",
      "        2. Scraped: debian_testing_pkglist.json\n",
      "len of package name: 65787 \n",
      "len of package version: 65787\n",
      "        3. Scraped: debian_12_pkglist.json\n",
      "len of package name: 60829 \n",
      "len of package version: 60829\n",
      "        4. Scraped: debian_11_pkglist.json\n",
      "len of package name: 59013 \n",
      "len of package version: 59013\n",
      "        5. Scraped: debian_10_pkglist.json\n",
      "len of package name: 52849 \n",
      "len of package version: 52849\n",
      "        6. Scraped: debian_9_pkglist.json\n",
      "len of package name: 57991 \n",
      "len of package version: 57991\n",
      "        7. Scraped: debian_8.0_pkglist.json\n",
      "len of package name: 48627 \n",
      "len of package version: 48627\n",
      "        8. Scraped: debian_7.0_pkglist.json\n",
      "len of package name: 36103 \n",
      "len of package version: 36103\n",
      "        9. Scraped: debian_6.0_pkglist.json\n",
      "len of package name: 28079 \n",
      "len of package version: 28079\n",
      "        10. Scraped: debian_5.0_pkglist.json\n",
      "len of package name: 23144 \n",
      "len of package version: 23144\n",
      "        11. Scraped: debian_4.0_pkglist.json\n",
      "len of package name: 16857 \n",
      "len of package version: 16857\n",
      "        12. Scraped: debian_3.1_pkglist.json\n",
      "len of package name: 8274 \n",
      "len of package version: 8274\n",
      "        13. Scraped: debian_3.0_pkglist.json\n",
      "len of package name: 2976 \n",
      "len of package version: 2976\n",
      "        14. Scraped: debian_2.2_pkglist.json\n",
      "len of package name: 1843 \n",
      "len of package version: 1843\n",
      "        15. Scraped: debian_2.1_pkglist.json\n",
      "len of package name: 1330 \n",
      "len of package version: 1330\n",
      "        16. Scraped: debian_2.0_pkglist.json\n",
      "len of package name: 887 \n",
      "len of package version: 887\n",
      "        17. Scraped: debian_1.3_pkglist.json\n",
      "len of package name: 534 \n",
      "len of package version: 534\n",
      "        18. Scraped: debian_1.2_pkglist.json\n",
      "len of package name: 403 \n",
      "len of package version: 403\n",
      "        19. Scraped: debian_1.1_pkglist.json\n",
      " Done. Exiting...\n",
      "4. scraped: debian\n",
      "5. scraping: fedora\n",
      " Scraping packages...\n",
      "len of package name: 72429 \n",
      "len of package version: 72429\n",
      "        1. Scraped: fedora_rawhide_pkglist.json\n",
      "len of package name: 1927 \n",
      "len of package version: 1927\n",
      "        2. Scraped: fedora_39_pkglist.json\n",
      "len of package name: 1853 \n",
      "len of package version: 1853\n",
      "        3. Scraped: fedora_38_pkglist.json\n",
      "len of package name: 1782 \n",
      "len of package version: 1782\n",
      "        4. Scraped: fedora_37_pkglist.json\n",
      "len of package name: 1743 \n",
      "len of package version: 1743\n",
      "        5. Scraped: fedora_36_pkglist.json\n",
      "len of package name: 2755 \n",
      "len of package version: 2755\n",
      "        6. Scraped: fedora_35_pkglist.json\n",
      "len of package name: 1694 \n",
      "len of package version: 1694\n",
      "        7. Scraped: fedora_34_pkglist.json\n",
      "len of package name: 1705 \n",
      "len of package version: 1705\n",
      "        8. Scraped: fedora_33_pkglist.json\n",
      "len of package name: 1658 \n",
      "len of package version: 1658\n",
      "        9. Scraped: fedora_32_pkglist.json\n",
      "len of package name: 2518 \n",
      "len of package version: 2518\n",
      "        10. Scraped: fedora_31_pkglist.json\n",
      "len of package name: 1620 \n",
      "len of package version: 1620\n",
      "        11. Scraped: fedora_30_pkglist.json\n",
      "len of package name: 1613 \n",
      "len of package version: 1613\n",
      "        12. Scraped: fedora_29_pkglist.json\n",
      "len of package name: 1597 \n",
      "len of package version: 1597\n",
      "        13. Scraped: fedora_28_pkglist.json\n",
      "len of package name: 1569 \n",
      "len of package version: 1569\n",
      "        14. Scraped: fedora_27_pkglist.json\n",
      "len of package name: 1533 \n",
      "len of package version: 1533\n",
      "        15. Scraped: fedora_26_pkglist.json\n",
      "len of package name: 1486 \n",
      "len of package version: 1486\n",
      "        16. Scraped: fedora_25_pkglist.json\n",
      "len of package name: 1453 \n",
      "len of package version: 1453\n",
      "        17. Scraped: fedora_24_pkglist.json\n",
      "len of package name: 1451 \n",
      "len of package version: 1451\n",
      "        18. Scraped: fedora_23_pkglist.json\n",
      "len of package name: 1458 \n",
      "len of package version: 1458\n",
      "        19. Scraped: fedora_22_pkglist.json\n",
      "len of package name: 3020 \n",
      "len of package version: 3020\n",
      "        20. Scraped: fedora_21_pkglist.json\n",
      "len of package name: 4075 \n",
      "len of package version: 4075\n",
      "        21. Scraped: fedora_20_pkglist.json\n",
      "len of package name: 3957 \n",
      "len of package version: 3957\n",
      "        22. Scraped: fedora_19_pkglist.json\n",
      "len of package name: 4174 \n",
      "len of package version: 4174\n",
      "        23. Scraped: fedora_18_pkglist.json\n",
      "len of package name: 3357 \n",
      "len of package version: 3357\n",
      "        24. Scraped: fedora_17_pkglist.json\n",
      "len of package name: 3118 \n",
      "len of package version: 3118\n",
      "        25. Scraped: fedora_16_pkglist.json\n",
      "len of package name: 2944 \n",
      "len of package version: 2944\n",
      "        26. Scraped: fedora_15_pkglist.json\n",
      "len of package name: 2769 \n",
      "len of package version: 2769\n",
      "        27. Scraped: fedora_14_pkglist.json\n",
      "len of package name: 2451 \n",
      "len of package version: 2451\n",
      "        28. Scraped: fedora_13_pkglist.json\n",
      "len of package name: 2400 \n",
      "len of package version: 2400\n",
      "        29. Scraped: fedora_12_pkglist.json\n",
      "len of package name: 2253 \n",
      "len of package version: 2253\n",
      "        30. Scraped: fedora_11_pkglist.json\n",
      "len of package name: 2221 \n",
      "len of package version: 2221\n",
      "        31. Scraped: fedora_10_pkglist.json\n",
      "len of package name: 2072 \n",
      "len of package version: 2072\n",
      "        32. Scraped: fedora_9_pkglist.json\n",
      "len of package name: 1983 \n",
      "len of package version: 1983\n",
      "        33. Scraped: fedora_8_pkglist.json\n",
      "len of package name: 1629 \n",
      "len of package version: 1629\n",
      "        34. Scraped: fedora_7_pkglist.json\n",
      "len of package name: 2243 \n",
      "len of package version: 2243\n",
      "        35. Scraped: fedora_6_pkglist.json\n",
      "len of package name: 2208 \n",
      "len of package version: 2208\n",
      "        36. Scraped: fedora_5_pkglist.json\n",
      "len of package name: 1807 \n",
      "len of package version: 1807\n",
      "        37. Scraped: fedora_4_pkglist.json\n",
      "len of package name: 1656 \n",
      "len of package version: 1656\n",
      "        38. Scraped: fedora_3_pkglist.json\n",
      "len of package name: 1623 \n",
      "len of package version: 1623\n",
      "        39. Scraped: fedora_2_pkglist.json\n",
      "len of package name: 1466 \n",
      "len of package version: 1466\n",
      "        40. Scraped: fedora_1_pkglist.json\n",
      " Done. Exiting...\n",
      "5. scraped: fedora\n",
      "6. scraping: manjaro\n",
      " Scraping packages...\n",
      "len of package name: 14450 \n",
      "len of package version: 14450\n",
      "        1. Scraped: manjaro_stable_pkglist.json\n",
      "len of package name: 1577 \n",
      "len of package version: 1577\n",
      "        2. Scraped: manjaro_23.0.3_pkglist.json\n",
      "len of package name: 1571 \n",
      "len of package version: 1571\n",
      "        3. Scraped: manjaro_22.1.3_pkglist.json\n",
      "len of package name: 1643 \n",
      "len of package version: 1643\n",
      "        4. Scraped: manjaro_21.3.0_pkglist.json\n",
      "len of package name: 1620 \n",
      "len of package version: 1620\n",
      "        5. Scraped: manjaro_20.2.1_pkglist.json\n",
      "len of package name: 1526 \n",
      "len of package version: 1526\n",
      "        6. Scraped: manjaro_19.0_pkglist.json\n",
      "len of package name: 1471 \n",
      "len of package version: 1471\n",
      "        7. Scraped: manjaro_18.1.0_pkglist.json\n",
      "len of package name: 1396 \n",
      "len of package version: 1396\n",
      "        8. Scraped: manjaro_17.1.12_pkglist.json\n",
      "len of package name: 1363 \n",
      "len of package version: 1363\n",
      "        9. Scraped: manjaro_16.10.3_pkglist.json\n",
      "len of package name: 1383 \n",
      "len of package version: 1383\n",
      "        10. Scraped: manjaro_15.12_pkglist.json\n",
      "len of package name: 1317 \n",
      "len of package version: 1317\n",
      "        11. Scraped: manjaro_0.8.11_pkglist.json\n",
      "len of package name: 895 \n",
      "len of package version: 895\n",
      "        12. Scraped: manjaro_0.8.8_pkglist.json\n",
      " Done. Exiting...\n",
      "6. scraped: manjaro\n",
      "7. scraping: ubuntu\n",
      " Scraping packages...\n",
      "len of package name: 2578 \n",
      "len of package version: 2578\n",
      "        1. Scraped: ubuntu_snapshot_pkglist.json\n",
      "len of package name: 1841 \n",
      "len of package version: 1841\n",
      "        2. Scraped: ubuntu_23.10_pkglist.json\n",
      "len of package name: 1985 \n",
      "len of package version: 1985\n",
      "        3. Scraped: ubuntu_23.04_pkglist.json\n",
      "len of package name: 1958 \n",
      "len of package version: 1958\n",
      "        4. Scraped: ubuntu_22.10_pkglist.json\n",
      "len of package name: 2034 \n",
      "len of package version: 2034\n",
      "        5. Scraped: ubuntu_22.04_pkglist.json\n",
      "len of package name: 2128 \n",
      "len of package version: 2128\n",
      "        6. Scraped: ubuntu_21.10_pkglist.json\n",
      "len of package name: 2135 \n",
      "len of package version: 2135\n",
      "        7. Scraped: ubuntu_21.04_pkglist.json\n",
      "len of package name: 2130 \n",
      "len of package version: 2130\n",
      "        8. Scraped: ubuntu_20.10_pkglist.json\n",
      "len of package name: 2977 \n",
      "len of package version: 2977\n",
      "        9. Scraped: ubuntu_20.04_pkglist.json\n",
      "len of package name: 2960 \n",
      "len of package version: 2960\n",
      "        10. Scraped: ubuntu_19.10_pkglist.json\n",
      "len of package name: 2931 \n",
      "len of package version: 2931\n",
      "        11. Scraped: ubuntu_19.04_pkglist.json\n",
      "len of package name: 2935 \n",
      "len of package version: 2935\n",
      "        12. Scraped: ubuntu_18.10_pkglist.json\n",
      "len of package name: 2548 \n",
      "len of package version: 2548\n",
      "        13. Scraped: ubuntu_18.04_pkglist.json\n",
      "len of package name: 2630 \n",
      "len of package version: 2630\n",
      "        14. Scraped: ubuntu_17.10_pkglist.json\n",
      "len of package name: 3192 \n",
      "len of package version: 3192\n",
      "        15. Scraped: ubuntu_17.04_pkglist.json\n",
      "len of package name: 3564 \n",
      "len of package version: 3564\n",
      "        16. Scraped: ubuntu_16.10_pkglist.json\n",
      "len of package name: 2731 \n",
      "len of package version: 2731\n",
      "        17. Scraped: ubuntu_16.04_pkglist.json\n",
      "len of package name: 2951 \n",
      "len of package version: 2951\n",
      "        18. Scraped: ubuntu_15.10_pkglist.json\n",
      "len of package name: 2926 \n",
      "len of package version: 2926\n",
      "        19. Scraped: ubuntu_15.04_pkglist.json\n",
      "len of package name: 3406 \n",
      "len of package version: 3406\n",
      "        20. Scraped: ubuntu_14.10_pkglist.json\n",
      "len of package name: 3130 \n",
      "len of package version: 3130\n",
      "        21. Scraped: ubuntu_14.04_pkglist.json\n",
      "len of package name: 3118 \n",
      "len of package version: 3118\n",
      "        22. Scraped: ubuntu_13.10_pkglist.json\n",
      "len of package name: 2499 \n",
      "len of package version: 2499\n",
      "        23. Scraped: ubuntu_13.04_pkglist.json\n",
      "len of package name: 2884 \n",
      "len of package version: 2884\n",
      "        24. Scraped: ubuntu_12.10_pkglist.json\n",
      "len of package name: 3097 \n",
      "len of package version: 3097\n",
      "        25. Scraped: ubuntu_12.04_pkglist.json\n",
      "len of package name: 2306 \n",
      "len of package version: 2306\n",
      "        26. Scraped: ubuntu_11.10_pkglist.json\n",
      "len of package name: 4305 \n",
      "len of package version: 4305\n",
      "        27. Scraped: ubuntu_11.04_pkglist.json\n",
      "len of package name: 5138 \n",
      "len of package version: 5138\n",
      "        28. Scraped: ubuntu_10.10_pkglist.json\n",
      "len of package name: 3937 \n",
      "len of package version: 3937\n",
      "        29. Scraped: ubuntu_10.04_pkglist.json\n",
      "len of package name: 5115 \n",
      "len of package version: 5115\n",
      "        30. Scraped: ubuntu_9.10_pkglist.json\n",
      "len of package name: 1499 \n",
      "len of package version: 1499\n",
      "        31. Scraped: ubuntu_9.04_pkglist.json\n",
      "len of package name: 2456 \n",
      "len of package version: 2456\n",
      "        32. Scraped: ubuntu_8.10_pkglist.json\n",
      "len of package name: 2394 \n",
      "len of package version: 2394\n",
      "        33. Scraped: ubuntu_8.04_pkglist.json\n",
      "len of package name: 1147 \n",
      "len of package version: 1147\n",
      "        34. Scraped: ubuntu_7.10_pkglist.json\n",
      "len of package name: 1111 \n",
      "len of package version: 1111\n",
      "        35. Scraped: ubuntu_7.04_pkglist.json\n",
      "len of package name: 1252 \n",
      "len of package version: 1252\n",
      "        36. Scraped: ubuntu_6.10_pkglist.json\n",
      "len of package name: 1212 \n",
      "len of package version: 1212\n",
      "        37. Scraped: ubuntu_6.06_pkglist.json\n",
      "len of package name: 1044 \n",
      "len of package version: 1044\n",
      "        38. Scraped: ubuntu_5.10_pkglist.json\n",
      "len of package name: 876 \n",
      "len of package version: 876\n",
      "        39. Scraped: ubuntu_5.04_pkglist.json\n",
      "len of package name: 2225 \n",
      "len of package version: 2225\n",
      "        40. Scraped: ubuntu_4.10_pkglist.json\n",
      " Done. Exiting...\n",
      "7. scraped: ubuntu\n",
      "8. scraping: popos\n",
      " Scraping packages...\n",
      "len of package name: 1848 \n",
      "len of package version: 1848\n",
      "        1. Scraped: popos_22.04_pkglist.json\n",
      "len of package name: 2609 \n",
      "len of package version: 2609\n",
      "        2. Scraped: popos_21.10_pkglist.json\n",
      "len of package name: 2638 \n",
      "len of package version: 2638\n",
      "        3. Scraped: popos_21.04_pkglist.json\n",
      "len of package name: 1832 \n",
      "len of package version: 1832\n",
      "        4. Scraped: popos_20.10_pkglist.json\n",
      "len of package name: 1783 \n",
      "len of package version: 1783\n",
      "        5. Scraped: popos_20.04_pkglist.json\n",
      "len of package name: 1772 \n",
      "len of package version: 1772\n",
      "        6. Scraped: popos_19.10_pkglist.json\n",
      "len of package name: 1731 \n",
      "len of package version: 1731\n",
      "        7. Scraped: popos_19.04_pkglist.json\n",
      "len of package name: 1758 \n",
      "len of package version: 1758\n",
      "        8. Scraped: popos_18.10_pkglist.json\n",
      "len of package name: 1708 \n",
      "len of package version: 1708\n",
      "        9. Scraped: popos_18.04_pkglist.json\n",
      "len of package name: 1698 \n",
      "len of package version: 1698\n",
      "        10. Scraped: popos_17.10_pkglist.json\n",
      " Done. Exiting...\n",
      "8. scraped: popos\n",
      "9. scraping: backbox\n",
      " Scraping packages...\n",
      "len of package name: 2401 \n",
      "len of package version: 2401\n",
      "        1. Scraped: backbox_8.1_pkglist.json\n",
      "len of package name: 2249 \n",
      "len of package version: 2249\n",
      "        2. Scraped: backbox_7_pkglist.json\n",
      "len of package name: 2269 \n",
      "len of package version: 2269\n",
      "        3. Scraped: backbox_6_pkglist.json\n",
      "len of package name: 2206 \n",
      "len of package version: 2206\n",
      "        4. Scraped: backbox_5.3_pkglist.json\n",
      "len of package name: 2085 \n",
      "len of package version: 2085\n",
      "        5. Scraped: backbox_4.7_pkglist.json\n",
      "len of package name: 1862 \n",
      "len of package version: 1862\n",
      "        6. Scraped: backbox_3.13_pkglist.json\n",
      "len of package name: 1605 \n",
      "len of package version: 1605\n",
      "        7. Scraped: backbox_2.05_pkglist.json\n",
      " Done. Exiting...\n",
      "9. scraped: backbox\n",
      "10. scraping: alma\n",
      " Scraping packages...\n",
      "len of package name: 6834 \n",
      "len of package version: 6834\n",
      "        1. Scraped: alma_9.3_pkglist.json\n",
      "len of package name: 8627 \n",
      "len of package version: 8627\n",
      "        2. Scraped: alma_8.8_pkglist.json\n",
      " Done. Exiting...\n",
      "10. scraped: alma\n",
      "11. scraping: opensuse\n",
      " Scraping packages...\n",
      "len of package name: 15413 \n",
      "len of package version: 15413\n",
      "        1. Scraped: opensuse_tumbleweed_pkglist.json\n",
      "len of package name: 4058 \n",
      "len of package version: 4058\n",
      "        2. Scraped: opensuse_15.5_pkglist.json\n",
      "len of package name: 3906 \n",
      "len of package version: 3906\n",
      "        3. Scraped: opensuse_15.0_pkglist.json\n",
      "len of package name: 6198 \n",
      "len of package version: 6198\n",
      "        4. Scraped: opensuse_42.3_pkglist.json\n",
      "len of package name: 5959 \n",
      "len of package version: 5959\n",
      "        5. Scraped: opensuse_42.2_pkglist.json\n",
      "len of package name: 5748 \n",
      "len of package version: 5748\n",
      "        6. Scraped: opensuse_42.1_pkglist.json\n",
      "len of package name: 5395 \n",
      "len of package version: 5395\n",
      "        7. Scraped: opensuse_13.2_pkglist.json\n",
      "len of package name: 5001 \n",
      "len of package version: 5001\n",
      "        8. Scraped: opensuse_13.1_pkglist.json\n",
      "len of package name: 4946 \n",
      "len of package version: 4946\n",
      "        9. Scraped: opensuse_12.3_pkglist.json\n",
      "len of package name: 4845 \n",
      "len of package version: 4845\n",
      "        10. Scraped: opensuse_12.2_pkglist.json\n",
      "len of package name: 4289 \n",
      "len of package version: 4289\n",
      "        11. Scraped: opensuse_12.1_pkglist.json\n",
      "len of package name: 3894 \n",
      "len of package version: 3894\n",
      "        12. Scraped: opensuse_11.4_pkglist.json\n",
      "len of package name: 3679 \n",
      "len of package version: 3679\n",
      "        13. Scraped: opensuse_11.3_pkglist.json\n",
      "len of package name: 3477 \n",
      "len of package version: 3477\n",
      "        14. Scraped: opensuse_11.2_pkglist.json\n",
      "len of package name: 3353 \n",
      "len of package version: 3353\n",
      "        15. Scraped: opensuse_11.1_pkglist.json\n",
      "len of package name: 3309 \n",
      "len of package version: 3309\n",
      "        16. Scraped: opensuse_11.0_pkglist.json\n",
      "len of package name: 3505 \n",
      "len of package version: 3505\n",
      "        17. Scraped: opensuse_10.3_pkglist.json\n",
      "len of package name: 2844 \n",
      "len of package version: 2844\n",
      "        18. Scraped: opensuse_10.2_pkglist.json\n",
      "len of package name: 6724 \n",
      "len of package version: 6724\n",
      "        19. Scraped: opensuse_10.1_pkglist.json\n",
      "len of package name: 5959 \n",
      "len of package version: 5959\n",
      "        20. Scraped: opensuse_10.0_pkglist.json\n",
      " Done. Exiting...\n",
      "11. scraped: opensuse\n",
      "12. scraping: zorin\n"
     ]
    },
    {
     "ename": "IndexError",
     "evalue": "list index out of range",
     "output_type": "error",
     "traceback": [
      "\u001b[0;31m---------------------------------------------------------------------------\u001b[0m",
      "\u001b[0;31mIndexError\u001b[0m                                Traceback (most recent call last)",
      "\u001b[1;32m/home/sachin/Documents/Projects/DSAI/Distro_rec/live_scrape.ipynb Cell 12\u001b[0m line \u001b[0;36m3\n\u001b[1;32m      <a href='vscode-notebook-cell:/home/sachin/Documents/Projects/DSAI/Distro_rec/live_scrape.ipynb#X14sZmlsZQ%3D%3D?line=0'>1</a>\u001b[0m \u001b[39mfor\u001b[39;00m idx, \u001b[39mid\u001b[39m \u001b[39min\u001b[39;00m \u001b[39menumerate\u001b[39m(ids):\n\u001b[1;32m      <a href='vscode-notebook-cell:/home/sachin/Documents/Projects/DSAI/Distro_rec/live_scrape.ipynb#X14sZmlsZQ%3D%3D?line=1'>2</a>\u001b[0m     \u001b[39mprint\u001b[39m(\u001b[39mf\u001b[39m\u001b[39m\"\u001b[39m\u001b[39m{\u001b[39;00midx\u001b[39m+\u001b[39m\u001b[39m1\u001b[39m\u001b[39m}\u001b[39;00m\u001b[39m. scraping: \u001b[39m\u001b[39m{\u001b[39;00m\u001b[39mid\u001b[39m\u001b[39m}\u001b[39;00m\u001b[39m\"\u001b[39m)\n\u001b[0;32m----> <a href='vscode-notebook-cell:/home/sachin/Documents/Projects/DSAI/Distro_rec/live_scrape.ipynb#X14sZmlsZQ%3D%3D?line=2'>3</a>\u001b[0m     scrape_features_as_json(\u001b[39mid\u001b[39;49m)\n\u001b[1;32m      <a href='vscode-notebook-cell:/home/sachin/Documents/Projects/DSAI/Distro_rec/live_scrape.ipynb#X14sZmlsZQ%3D%3D?line=3'>4</a>\u001b[0m     \u001b[39mprint\u001b[39m(\u001b[39mf\u001b[39m\u001b[39m\"\u001b[39m\u001b[39m{\u001b[39;00midx\u001b[39m+\u001b[39m\u001b[39m1\u001b[39m\u001b[39m}\u001b[39;00m\u001b[39m. scraped: \u001b[39m\u001b[39m{\u001b[39;00m\u001b[39mid\u001b[39m\u001b[39m}\u001b[39;00m\u001b[39m\"\u001b[39m)\n",
      "\u001b[1;32m/home/sachin/Documents/Projects/DSAI/Distro_rec/live_scrape.ipynb Cell 12\u001b[0m line \u001b[0;36m2\n\u001b[1;32m    <a href='vscode-notebook-cell:/home/sachin/Documents/Projects/DSAI/Distro_rec/live_scrape.ipynb#X14sZmlsZQ%3D%3D?line=205'>206</a>\u001b[0m \u001b[39mfor\u001b[39;00m idx, link \u001b[39min\u001b[39;00m \u001b[39menumerate\u001b[39m(npkgs\u001b[39m.\u001b[39mfind_all(\u001b[39m\"\u001b[39m\u001b[39mtd\u001b[39m\u001b[39m\"\u001b[39m)):\n\u001b[1;32m    <a href='vscode-notebook-cell:/home/sachin/Documents/Projects/DSAI/Distro_rec/live_scrape.ipynb#X14sZmlsZQ%3D%3D?line=206'>207</a>\u001b[0m     \u001b[39mif\u001b[39;00m link\u001b[39m.\u001b[39ma:\n\u001b[0;32m--> <a href='vscode-notebook-cell:/home/sachin/Documents/Projects/DSAI/Distro_rec/live_scrape.ipynb#X14sZmlsZQ%3D%3D?line=207'>208</a>\u001b[0m         npkgs_list\u001b[39m.\u001b[39mappend(npkgs\u001b[39m.\u001b[39;49mfind_all(\u001b[39m'\u001b[39;49m\u001b[39ma\u001b[39;49m\u001b[39m'\u001b[39;49m)[idx][\u001b[39m\"\u001b[39m\u001b[39mhref\u001b[39m\u001b[39m\"\u001b[39m])\n\u001b[1;32m    <a href='vscode-notebook-cell:/home/sachin/Documents/Projects/DSAI/Distro_rec/live_scrape.ipynb#X14sZmlsZQ%3D%3D?line=208'>209</a>\u001b[0m         dist_version\u001b[39m.\u001b[39mappend(npkgs\u001b[39m.\u001b[39mselect(\u001b[39m\"\u001b[39m\u001b[39ma\u001b[39m\u001b[39m\"\u001b[39m)[idx]\u001b[39m.\u001b[39mget_text())\n\u001b[1;32m    <a href='vscode-notebook-cell:/home/sachin/Documents/Projects/DSAI/Distro_rec/live_scrape.ipynb#X14sZmlsZQ%3D%3D?line=209'>210</a>\u001b[0m     \u001b[39melse\u001b[39;00m:\n",
      "\u001b[0;31mIndexError\u001b[0m: list index out of range"
     ]
    }
   ],
   "source": [
    "for idx, id in enumerate(ids):\n",
    "    print(f\"{idx+1}. scraping: {id}\")\n",
    "    scrape_features_as_json(id)\n",
    "    print(f\"{idx+1}. scraped: {id}\")"
   ]
  },
  {
   "cell_type": "code",
   "execution_count": null,
   "metadata": {},
   "outputs": [],
   "source": [
    "def scrape_images(ids):\n",
    "    link = f'https://distrowatch.com/table.php?distribution={id}'\n",
    "    scrape = requests.get(link)\n",
    "    dist_soup = BeautifulSoup(scrape.content, 'lxml')\n",
    "    src = dist_soup.find(class_ = 'TablesTitle').find('img')['src']\n",
    "    src = src.replace(' ', '%20')\n",
    "    img_src = 'https://www.distrowatch.com/' + src\n",
    "    img = Image.open(requests.get(img_src,stream=True).raw)\n",
    "    img = img.convert('RGB')\n",
    "    img.save(f'{id}.png')"
   ]
  },
  {
   "cell_type": "code",
   "execution_count": null,
   "metadata": {},
   "outputs": [],
   "source": [
    "def scrape_artwork(ids):\n",
    "    link = f'https://distrowatch.com/table.php?distribution={id}'\n",
    "    scrape = requests.get(link)\n",
    "    dist_soup = BeautifulSoup(scrape.content, 'lxml')\n",
    "    src = dist_soup.select('img')[-5]['src']\n",
    "    src = src.replace(' ', '%20')\n",
    "    img_src = 'https://www.distrowatch.com/' + src\n",
    "    img = Image.open(requests.get(img_src,stream=True).raw)\n",
    "    img = img.convert('RGB')\n",
    "    img.save(f'{id}.png')"
   ]
  },
  {
   "cell_type": "code",
   "execution_count": 17,
   "metadata": {},
   "outputs": [
    {
     "name": "stdout",
     "output_type": "stream",
     "text": [
      "scraped: mx\n",
      "scraped: mint\n",
      "scraped: endeavour\n",
      "scraped: debian\n",
      "scraped: fedora\n",
      "scraped: manjaro\n",
      "scraped: ubuntu\n",
      "scraped: popos\n",
      "scraped: backbox\n",
      "scraped: alma\n",
      "scraped: opensuse\n",
      "scraped: zorin\n",
      "scraped: garuda\n",
      "scraped: kdeneon\n",
      "scraped: freebsd\n",
      "scraped: nobara\n",
      "scraped: antix\n",
      "scraped: relianoid\n",
      "scraped: elementary\n",
      "scraped: lite\n",
      "scraped: nixos\n",
      "scraped: vanilla\n",
      "scraped: easyos\n",
      "scraped: redhat\n",
      "scraped: mageia\n",
      "scraped: kaos\n",
      "scraped: kali\n",
      "scraped: makulu\n",
      "scraped: pclinuxos\n",
      "scraped: puppy\n",
      "scraped: tuxedo\n",
      "scraped: devuan\n",
      "scraped: mabox\n",
      "scraped: netbsd\n",
      "scraped: eurolinux\n",
      "scraped: q4os\n",
      "scraped: reactos\n",
      "scraped: peppermint\n",
      "scraped: solus\n",
      "scraped: sparky\n",
      "scraped: arco\n",
      "scraped: slackware\n",
      "scraped: alpine\n",
      "scraped: cachyos\n",
      "scraped: biglinux\n",
      "scraped: blendos\n",
      "scraped: kubuntu\n",
      "scraped: bodhi\n",
      "scraped: ghostbsd\n",
      "scraped: ubports\n",
      "scraped: pureos\n",
      "scraped: centos\n",
      "scraped: rocky\n",
      "scraped: tails\n",
      "scraped: clonezilla\n",
      "scraped: lubuntu\n",
      "scraped: parrot\n",
      "scraped: xubuntu\n",
      "scraped: voyager\n",
      "scraped: gentoo\n",
      "scraped: artix\n",
      "scraped: arch\n",
      "scraped: spiral\n",
      "scraped: smartos\n",
      "scraped: lernstick\n",
      "scraped: athena\n",
      "scraped: xero\n",
      "scraped: alt\n",
      "scraped: wattos\n",
      "scraped: gecko\n",
      "scraped: openbsd\n",
      "scraped: linuxfx\n",
      "scraped: archcraft\n",
      "scraped: haiku\n",
      "scraped: rebornos\n",
      "scraped: rhino\n",
      "scraped: gnoppix\n",
      "scraped: kodachi\n",
      "scraped: lxle\n",
      "scraped: regata\n",
      "scraped: tinycore\n",
      "scraped: openmandriva\n",
      "scraped: bluestar\n",
      "scraped: oracle\n",
      "scraped: nitrux\n",
      "scraped: ubuntumate\n",
      "scraped: slax\n",
      "scraped: clear\n",
      "scraped: neptune\n",
      "scraped: siduction\n",
      "scraped: deepin\n",
      "scraped: ferenos\n",
      "scraped: qubes\n",
      "scraped: murena\n",
      "scraped: absolute\n",
      "scraped: ubuntustudio\n",
      "scraped: void\n",
      "scraped: emmabuntus\n",
      "scraped: truenas\n",
      "scraped: bros\n"
     ]
    }
   ],
   "source": [
    "for id in ids:\n",
    "    file_path = Path()\n",
    "    if os.path.exists(f\"features_{id}.json\"):\n",
    "       print(f\"scraped: {id}\")\n",
    "       continue\n",
    "    scrape_features_as_json(id)\n",
    "    print(f\"scraped: {id}\")"
   ]
  },
  {
   "cell_type": "code",
   "execution_count": null,
   "metadata": {},
   "outputs": [
    {
     "name": "stdout",
     "output_type": "stream",
     "text": [
      "Will save in: /home/sachin/Documents/Projects/DSAI/Distro_rec/logos\n",
      "saved: mx.png\n",
      "saved: mint.png\n",
      "saved: endeavour.png\n",
      "saved: debian.png\n",
      "saved: fedora.png\n",
      "saved: manjaro.png\n",
      "saved: ubuntu.png\n",
      "saved: popos.png\n",
      "saved: backbox.png\n",
      "saved: alma.png\n",
      "saved: opensuse.png\n",
      "saved: zorin.png\n",
      "saved: garuda.png\n",
      "saved: kdeneon.png\n",
      "saved: freebsd.png\n",
      "saved: nobara.png\n",
      "saved: antix.png\n",
      "saved: relianoid.png\n",
      "saved: elementary.png\n",
      "saved: lite.png\n",
      "saved: nixos.png\n",
      "saved: vanilla.png\n",
      "saved: easyos.png\n",
      "saved: redhat.png\n",
      "saved: mageia.png\n",
      "saved: kaos.png\n",
      "saved: kali.png\n",
      "saved: makulu.png\n",
      "saved: pclinuxos.png\n",
      "saved: puppy.png\n",
      "saved: tuxedo.png\n",
      "saved: devuan.png\n",
      "saved: mabox.png\n",
      "saved: netbsd.png\n",
      "saved: eurolinux.png\n",
      "saved: q4os.png\n",
      "saved: reactos.png\n",
      "saved: peppermint.png\n",
      "saved: solus.png\n",
      "saved: sparky.png\n",
      "saved: arco.png\n",
      "saved: slackware.png\n",
      "saved: alpine.png\n",
      "saved: cachyos.png\n",
      "saved: biglinux.png\n",
      "saved: blendos.png\n",
      "saved: kubuntu.png\n",
      "saved: bodhi.png\n",
      "saved: ghostbsd.png\n",
      "saved: ubports.png\n",
      "saved: pureos.png\n",
      "saved: centos.png\n",
      "saved: rocky.png\n",
      "saved: tails.png\n",
      "saved: clonezilla.png\n",
      "saved: lubuntu.png\n",
      "saved: parrot.png\n",
      "saved: xubuntu.png\n",
      "saved: voyager.png\n",
      "saved: gentoo.png\n",
      "saved: artix.png\n",
      "saved: arch.png\n",
      "saved: spiral.png\n",
      "saved: smartos.png\n",
      "saved: lernstick.png\n",
      "saved: athena.png\n",
      "saved: xero.png\n",
      "saved: alt.png\n",
      "saved: wattos.png\n",
      "saved: gecko.png\n",
      "saved: openbsd.png\n",
      "saved: linuxfx.png\n",
      "saved: archcraft.png\n",
      "saved: haiku.png\n",
      "saved: rebornos.png\n",
      "saved: rhino.png\n",
      "saved: gnoppix.png\n",
      "saved: kodachi.png\n",
      "saved: lxle.png\n",
      "saved: regata.png\n",
      "saved: tinycore.png\n",
      "saved: openmandriva.png\n",
      "saved: bluestar.png\n",
      "saved: oracle.png\n",
      "saved: nitrux.png\n",
      "saved: ubuntumate.png\n",
      "saved: slax.png\n",
      "saved: clear.png\n",
      "saved: neptune.png\n",
      "saved: siduction.png\n",
      "saved: deepin.png\n",
      "saved: ferenos.png\n",
      "saved: qubes.png\n",
      "saved: murena.png\n",
      "saved: absolute.png\n",
      "saved: ubuntustudio.png\n",
      "saved: void.png\n",
      "saved: emmabuntus.png\n",
      "saved: truenas.png\n",
      "saved: bros.png\n",
      "Done. Exiting...\n"
     ]
    }
   ],
   "source": [
    "os.chdir(\"logos\")\n",
    "print(f\"Will save in: {os.getcwd()}\")\n",
    "for id in ids:\n",
    "    if os.path.exists(f\"{id}.png\"):\n",
    "       print(f\"saved: {id}.png\")\n",
    "       continue\n",
    "    scrape_images(id)\n",
    "    print(f\"saved: {id}.png\")\n",
    "print(\"Done. Exiting...\")\n",
    "os.chdir(\"..\")"
   ]
  },
  {
   "cell_type": "code",
   "execution_count": 12,
   "metadata": {},
   "outputs": [
    {
     "ename": "FileNotFoundError",
     "evalue": "[Errno 2] No such file or directory: 'desktop_preview'",
     "output_type": "error",
     "traceback": [
      "\u001b[0;31m---------------------------------------------------------------------------\u001b[0m",
      "\u001b[0;31mFileNotFoundError\u001b[0m                         Traceback (most recent call last)",
      "\u001b[1;32m/home/sachin/Documents/Projects/DSAI/Distro_rec/live_scrape.ipynb Cell 17\u001b[0m line \u001b[0;36m1\n\u001b[0;32m----> <a href='vscode-notebook-cell:/home/sachin/Documents/Projects/DSAI/Distro_rec/live_scrape.ipynb#X22sZmlsZQ%3D%3D?line=0'>1</a>\u001b[0m os\u001b[39m.\u001b[39;49mchdir(\u001b[39m\"\u001b[39;49m\u001b[39mdesktop_preview\u001b[39;49m\u001b[39m\"\u001b[39;49m)\n\u001b[1;32m      <a href='vscode-notebook-cell:/home/sachin/Documents/Projects/DSAI/Distro_rec/live_scrape.ipynb#X22sZmlsZQ%3D%3D?line=1'>2</a>\u001b[0m \u001b[39mprint\u001b[39m(\u001b[39mf\u001b[39m\u001b[39m\"\u001b[39m\u001b[39mWill save in: \u001b[39m\u001b[39m{\u001b[39;00mos\u001b[39m.\u001b[39mgetcwd()\u001b[39m}\u001b[39;00m\u001b[39m\"\u001b[39m)\n\u001b[1;32m      <a href='vscode-notebook-cell:/home/sachin/Documents/Projects/DSAI/Distro_rec/live_scrape.ipynb#X22sZmlsZQ%3D%3D?line=2'>3</a>\u001b[0m \u001b[39mfor\u001b[39;00m \u001b[39mid\u001b[39m \u001b[39min\u001b[39;00m ids:\n",
      "\u001b[0;31mFileNotFoundError\u001b[0m: [Errno 2] No such file or directory: 'desktop_preview'"
     ]
    }
   ],
   "source": [
    "os.chdir(\"desktop_preview\")\n",
    "print(f\"Will save in: {os.getcwd()}\")\n",
    "for id in ids:\n",
    "    if os.path.exists(f\"{id}.png\"):\n",
    "       print(f\"saved: {id}.png\")\n",
    "       continue\n",
    "    scrape_artwork(id)\n",
    "    print(f\"saved: {id}.png\")\n",
    "print(\"Done. Exiting...\")\n",
    "os.chdir(\"..\")"
   ]
  },
  {
   "cell_type": "code",
   "execution_count": null,
   "metadata": {},
   "outputs": [],
   "source": [
    "def scrape_packages(id):\n",
    "    "
   ]
  },
  {
   "cell_type": "code",
   "execution_count": 31,
   "metadata": {},
   "outputs": [],
   "source": [
    "data = pl.read_json(\"features_devuan.json\")"
   ]
  },
  {
   "cell_type": "code",
   "execution_count": 32,
   "metadata": {},
   "outputs": [
    {
     "data": {
      "text/html": [
       "<div><style>\n",
       ".dataframe > thead > tr > th,\n",
       ".dataframe > tbody > tr > td {\n",
       "  text-align: right;\n",
       "  white-space: pre-wrap;\n",
       "}\n",
       "</style>\n",
       "<small>shape: (7, 18)</small><table border=\"1\" class=\"dataframe\"><thead><tr><th>distribution_name</th><th>version</th><th>release_date</th><th>end_of_life</th><th>price</th><th>image_size</th><th>download_link</th><th>installation_method</th><th>default_desktop</th><th>package_management</th><th>release_model</th><th>office_suite</th><th>processor_architecture</th><th>init_system</th><th>file_system</th><th>multilingual</th><th>asian_language_support</th><th>number_of_packages</th></tr><tr><td>str</td><td>str</td><td>str</td><td>str</td><td>str</td><td>str</td><td>str</td><td>str</td><td>str</td><td>str</td><td>str</td><td>str</td><td>str</td><td>str</td><td>str</td><td>str</td><td>str</td><td>str</td></tr></thead><tbody><tr><td>&quot;devuan&quot;</td><td>&quot;unstable-ceres…</td><td>&quot;2023-11-09&quot;</td><td>&quot;NA&quot;</td><td>&quot;Free&quot;</td><td>&quot;NA&quot;</td><td>&quot;https://packag…</td><td>&quot;Graphical&quot;</td><td>&quot;Cinnamon, LXQt…</td><td>&quot;DEB&quot;</td><td>&quot;Rolling&quot;</td><td>&quot;GOffice, Libre…</td><td>&quot;i586, x86_64&quot;</td><td>&quot;OpenRC, runit,…</td><td>&quot;Btrfs, ext3, e…</td><td>&quot;Yes&quot;</td><td>&quot;Yes&quot;</td><td>&quot;36798&quot;</td></tr><tr><td>&quot;devuan&quot;</td><td>&quot;testing-testin…</td><td>&quot;2023-11-09&quot;</td><td>&quot;NA&quot;</td><td>&quot;Free&quot;</td><td>&quot;NA&quot;</td><td>&quot;https://packag…</td><td>&quot;Graphical&quot;</td><td>&quot;Xfce&quot;</td><td>&quot;DEB&quot;</td><td>&quot;Semi-Rolling&quot;</td><td>&quot;GOffice, Libre…</td><td>&quot;i586, x86_64&quot;</td><td>&quot;OpenRC, runit,…</td><td>&quot;Btrfs, ext3, e…</td><td>&quot;Yes&quot;</td><td>&quot;Yes&quot;</td><td>&quot;35370&quot;</td></tr><tr><td>&quot;devuan&quot;</td><td>&quot;5.0.0-daedalus…</td><td>&quot;2023-08-15&quot;</td><td>&quot;NA&quot;</td><td>&quot;Free&quot;</td><td>&quot;400-3900&quot;</td><td>&quot;https://files.…</td><td>&quot;Graphical&quot;</td><td>&quot;Xfce&quot;</td><td>&quot;DEB&quot;</td><td>&quot;Fixed&quot;</td><td>&quot;LibreOffice&quot;</td><td>&quot;i586, x86_64&quot;</td><td>&quot;OpenRC, runit,…</td><td>&quot;Btrfs, ext3, e…</td><td>&quot;Yes&quot;</td><td>&quot;Yes&quot;</td><td>&quot;4772&quot;</td></tr><tr><td>&quot;devuan&quot;</td><td>&quot;4.0.0-chimaera…</td><td>&quot;2021-10-14&quot;</td><td>&quot;NA&quot;</td><td>&quot;Free&quot;</td><td>&quot;300-3700&quot;</td><td>&quot;https://files.…</td><td>&quot;Graphical&quot;</td><td>&quot;Xfce&quot;</td><td>&quot;DEB&quot;</td><td>&quot;Fixed&quot;</td><td>&quot;LibreOffice&quot;</td><td>&quot;arm64, armel, …</td><td>&quot;OpenRC, runit,…</td><td>&quot;Btrfs, ext3, e…</td><td>&quot;Yes&quot;</td><td>&quot;Yes&quot;</td><td>&quot;4888&quot;</td></tr><tr><td>&quot;devuan&quot;</td><td>&quot;3.1.0-beowulf&quot;</td><td>&quot;2021-02-15&quot;</td><td>&quot;NA&quot;</td><td>&quot;Free&quot;</td><td>&quot;300-3700&quot;</td><td>&quot;https://files.…</td><td>&quot;Graphical&quot;</td><td>&quot;Xfce&quot;</td><td>&quot;DEB&quot;</td><td>&quot;Fixed&quot;</td><td>&quot;LibreOffice&quot;</td><td>&quot;arm64, armel, …</td><td>&quot;OpenRC, runit,…</td><td>&quot;Btrfs, ext3, e…</td><td>&quot;Yes&quot;</td><td>&quot;Yes&quot;</td><td>&quot;5087&quot;</td></tr><tr><td>&quot;devuan&quot;</td><td>&quot;2.1-ascii&quot;</td><td>&quot;2019-11-25&quot;</td><td>&quot;NA&quot;</td><td>&quot;Free&quot;</td><td>&quot;200-4500&quot;</td><td>&quot;https://files.…</td><td>&quot;Graphical&quot;</td><td>&quot;Xfce&quot;</td><td>&quot;DEB&quot;</td><td>&quot;Fixed&quot;</td><td>&quot;LibreOffice&quot;</td><td>&quot;armhf, i386, x…</td><td>&quot;SysV&quot;</td><td>&quot;ext3, ext4&quot;</td><td>&quot;Yes&quot;</td><td>&quot;Yes&quot;</td><td>&quot;5160&quot;</td></tr><tr><td>&quot;devuan&quot;</td><td>&quot;1.0.0-jessie&quot;</td><td>&quot;2017-05-25&quot;</td><td>&quot;2020-06&quot;</td><td>&quot;Free&quot;</td><td>&quot;NA&quot;</td><td>&quot;https://files.…</td><td>&quot;Graphical&quot;</td><td>&quot;Xfce&quot;</td><td>&quot;DEB&quot;</td><td>&quot;Fixed&quot;</td><td>&quot;GOffice, Libre…</td><td>&quot;armhf, i386, x…</td><td>&quot;SysV&quot;</td><td>&quot;Btrfs, ext3, e…</td><td>&quot;Yes&quot;</td><td>&quot;Yes&quot;</td><td>&quot;4951&quot;</td></tr></tbody></table></div>"
      ],
      "text/plain": [
       "shape: (7, 18)\n",
       "┌───────────┬───────────┬───────────┬───────────┬───┬───────────┬───────────┬───────────┬──────────┐\n",
       "│ distribut ┆ version   ┆ release_d ┆ end_of_li ┆ … ┆ file_syst ┆ multiling ┆ asian_lan ┆ number_o │\n",
       "│ ion_name  ┆ ---       ┆ ate       ┆ fe        ┆   ┆ em        ┆ ual       ┆ guage_sup ┆ f_packag │\n",
       "│ ---       ┆ str       ┆ ---       ┆ ---       ┆   ┆ ---       ┆ ---       ┆ port      ┆ es       │\n",
       "│ str       ┆           ┆ str       ┆ str       ┆   ┆ str       ┆ str       ┆ ---       ┆ ---      │\n",
       "│           ┆           ┆           ┆           ┆   ┆           ┆           ┆ str       ┆ str      │\n",
       "╞═══════════╪═══════════╪═══════════╪═══════════╪═══╪═══════════╪═══════════╪═══════════╪══════════╡\n",
       "│ devuan    ┆ unstable- ┆ 2023-11-0 ┆ NA        ┆ … ┆ Btrfs,    ┆ Yes       ┆ Yes       ┆ 36798    │\n",
       "│           ┆ ceres     ┆ 9         ┆           ┆   ┆ ext3,     ┆           ┆           ┆          │\n",
       "│           ┆           ┆           ┆           ┆   ┆ ext4,     ┆           ┆           ┆          │\n",
       "│           ┆           ┆           ┆           ┆   ┆ JFS,      ┆           ┆           ┆          │\n",
       "│           ┆           ┆           ┆           ┆   ┆ ReiserFS… ┆           ┆           ┆          │\n",
       "│ devuan    ┆ testing-t ┆ 2023-11-0 ┆ NA        ┆ … ┆ Btrfs,    ┆ Yes       ┆ Yes       ┆ 35370    │\n",
       "│           ┆ esting    ┆ 9         ┆           ┆   ┆ ext3,     ┆           ┆           ┆          │\n",
       "│           ┆           ┆           ┆           ┆   ┆ ext4,     ┆           ┆           ┆          │\n",
       "│           ┆           ┆           ┆           ┆   ┆ JFS,      ┆           ┆           ┆          │\n",
       "│           ┆           ┆           ┆           ┆   ┆ ReiserFS… ┆           ┆           ┆          │\n",
       "│ devuan    ┆ 5.0.0-dae ┆ 2023-08-1 ┆ NA        ┆ … ┆ Btrfs,    ┆ Yes       ┆ Yes       ┆ 4772     │\n",
       "│           ┆ dalus     ┆ 5         ┆           ┆   ┆ ext3,     ┆           ┆           ┆          │\n",
       "│           ┆           ┆           ┆           ┆   ┆ ext4,     ┆           ┆           ┆          │\n",
       "│           ┆           ┆           ┆           ┆   ┆ JFS,      ┆           ┆           ┆          │\n",
       "│           ┆           ┆           ┆           ┆   ┆ ReiserFS… ┆           ┆           ┆          │\n",
       "│ devuan    ┆ 4.0.0-chi ┆ 2021-10-1 ┆ NA        ┆ … ┆ Btrfs,    ┆ Yes       ┆ Yes       ┆ 4888     │\n",
       "│           ┆ maera     ┆ 4         ┆           ┆   ┆ ext3,     ┆           ┆           ┆          │\n",
       "│           ┆           ┆           ┆           ┆   ┆ ext4,     ┆           ┆           ┆          │\n",
       "│           ┆           ┆           ┆           ┆   ┆ JFS,      ┆           ┆           ┆          │\n",
       "│           ┆           ┆           ┆           ┆   ┆ ReiserFS… ┆           ┆           ┆          │\n",
       "│ devuan    ┆ 3.1.0-beo ┆ 2021-02-1 ┆ NA        ┆ … ┆ Btrfs,    ┆ Yes       ┆ Yes       ┆ 5087     │\n",
       "│           ┆ wulf      ┆ 5         ┆           ┆   ┆ ext3,     ┆           ┆           ┆          │\n",
       "│           ┆           ┆           ┆           ┆   ┆ ext4,     ┆           ┆           ┆          │\n",
       "│           ┆           ┆           ┆           ┆   ┆ JFS,      ┆           ┆           ┆          │\n",
       "│           ┆           ┆           ┆           ┆   ┆ ReiserFS… ┆           ┆           ┆          │\n",
       "│ devuan    ┆ 2.1-ascii ┆ 2019-11-2 ┆ NA        ┆ … ┆ ext3,     ┆ Yes       ┆ Yes       ┆ 5160     │\n",
       "│           ┆           ┆ 5         ┆           ┆   ┆ ext4      ┆           ┆           ┆          │\n",
       "│ devuan    ┆ 1.0.0-jes ┆ 2017-05-2 ┆ 2020-06   ┆ … ┆ Btrfs,    ┆ Yes       ┆ Yes       ┆ 4951     │\n",
       "│           ┆ sie       ┆ 5         ┆           ┆   ┆ ext3,     ┆           ┆           ┆          │\n",
       "│           ┆           ┆           ┆           ┆   ┆ ext4,     ┆           ┆           ┆          │\n",
       "│           ┆           ┆           ┆           ┆   ┆ JFS,      ┆           ┆           ┆          │\n",
       "│           ┆           ┆           ┆           ┆   ┆ ReiserFS… ┆           ┆           ┆          │\n",
       "└───────────┴───────────┴───────────┴───────────┴───┴───────────┴───────────┴───────────┴──────────┘"
      ]
     },
     "execution_count": 32,
     "metadata": {},
     "output_type": "execute_result"
    }
   ],
   "source": [
    "data"
   ]
  },
  {
   "cell_type": "code",
   "execution_count": 20,
   "metadata": {},
   "outputs": [
    {
     "data": {
      "text/plain": [
       "['mx',\n",
       " 'mint',\n",
       " 'endeavour',\n",
       " 'debian',\n",
       " 'fedora',\n",
       " 'manjaro',\n",
       " 'ubuntu',\n",
       " 'popos',\n",
       " 'backbox',\n",
       " 'alma',\n",
       " 'opensuse',\n",
       " 'zorin',\n",
       " 'garuda',\n",
       " 'kdeneon',\n",
       " 'freebsd',\n",
       " 'nobara',\n",
       " 'antix',\n",
       " 'relianoid',\n",
       " 'elementary',\n",
       " 'lite',\n",
       " 'nixos',\n",
       " 'vanilla',\n",
       " 'easyos',\n",
       " 'redhat',\n",
       " 'mageia',\n",
       " 'kaos',\n",
       " 'kali',\n",
       " 'makulu',\n",
       " 'pclinuxos',\n",
       " 'puppy',\n",
       " 'tuxedo',\n",
       " 'devuan',\n",
       " 'mabox',\n",
       " 'netbsd',\n",
       " 'eurolinux',\n",
       " 'q4os',\n",
       " 'reactos',\n",
       " 'peppermint',\n",
       " 'solus',\n",
       " 'sparky',\n",
       " 'arco',\n",
       " 'slackware',\n",
       " 'alpine',\n",
       " 'cachyos',\n",
       " 'biglinux',\n",
       " 'blendos',\n",
       " 'kubuntu',\n",
       " 'bodhi',\n",
       " 'ghostbsd',\n",
       " 'ubports',\n",
       " 'pureos',\n",
       " 'centos',\n",
       " 'rocky',\n",
       " 'tails',\n",
       " 'clonezilla',\n",
       " 'lubuntu',\n",
       " 'parrot',\n",
       " 'xubuntu',\n",
       " 'voyager',\n",
       " 'gentoo',\n",
       " 'artix',\n",
       " 'arch',\n",
       " 'spiral',\n",
       " 'smartos',\n",
       " 'lernstick',\n",
       " 'athena',\n",
       " 'xero',\n",
       " 'alt',\n",
       " 'wattos',\n",
       " 'gecko',\n",
       " 'openbsd',\n",
       " 'linuxfx',\n",
       " 'archcraft',\n",
       " 'haiku',\n",
       " 'rebornos',\n",
       " 'rhino',\n",
       " 'gnoppix',\n",
       " 'kodachi',\n",
       " 'lxle',\n",
       " 'regata',\n",
       " 'tinycore',\n",
       " 'openmandriva',\n",
       " 'bluestar',\n",
       " 'oracle',\n",
       " 'nitrux',\n",
       " 'ubuntumate',\n",
       " 'slax',\n",
       " 'clear',\n",
       " 'neptune',\n",
       " 'siduction',\n",
       " 'deepin',\n",
       " 'ferenos',\n",
       " 'qubes',\n",
       " 'murena',\n",
       " 'absolute',\n",
       " 'ubuntustudio',\n",
       " 'void',\n",
       " 'emmabuntus',\n",
       " 'truenas',\n",
       " 'bros']"
      ]
     },
     "execution_count": 20,
     "metadata": {},
     "output_type": "execute_result"
    }
   ],
   "source": [
    "ids"
   ]
  },
  {
   "cell_type": "code",
   "execution_count": 4,
   "metadata": {},
   "outputs": [],
   "source": [
    "data = pd.read_csv(\"Homepage.csv\")"
   ]
  },
  {
   "cell_type": "code",
   "execution_count": 5,
   "metadata": {},
   "outputs": [
    {
     "data": {
      "text/html": [
       "<div>\n",
       "<style scoped>\n",
       "    .dataframe tbody tr th:only-of-type {\n",
       "        vertical-align: middle;\n",
       "    }\n",
       "\n",
       "    .dataframe tbody tr th {\n",
       "        vertical-align: top;\n",
       "    }\n",
       "\n",
       "    .dataframe thead th {\n",
       "        text-align: right;\n",
       "    }\n",
       "</style>\n",
       "<table border=\"1\" class=\"dataframe\">\n",
       "  <thead>\n",
       "    <tr style=\"text-align: right;\">\n",
       "      <th></th>\n",
       "      <th>Unnamed: 0.1</th>\n",
       "      <th>Unnamed: 0</th>\n",
       "      <th>Name</th>\n",
       "      <th>ID</th>\n",
       "      <th>Description</th>\n",
       "      <th>Homepage</th>\n",
       "      <th>Popularities</th>\n",
       "      <th>Ratings</th>\n",
       "      <th>Os Types</th>\n",
       "      <th>Bases</th>\n",
       "      <th>Origins</th>\n",
       "      <th>Architectures</th>\n",
       "      <th>Desktops</th>\n",
       "      <th>Categories</th>\n",
       "      <th>Statuses</th>\n",
       "    </tr>\n",
       "  </thead>\n",
       "  <tbody>\n",
       "    <tr>\n",
       "      <th>0</th>\n",
       "      <td>0</td>\n",
       "      <td>0</td>\n",
       "      <td>MX Linux</td>\n",
       "      <td>mx</td>\n",
       "      <td>MX Linux, a desktop-oriented Linux distributio...</td>\n",
       "      <td>['https://mxlinux.org/']</td>\n",
       "      <td>['1 (2,650 hits per day)']</td>\n",
       "      <td>['8.15']</td>\n",
       "      <td>['Linux']</td>\n",
       "      <td>['Debian (Stable)', 'antiX']</td>\n",
       "      <td>['Greece, USA']</td>\n",
       "      <td>['armhf', 'i686', 'x86_64']</td>\n",
       "      <td>['Fluxbox', 'KDE Plasma', 'Xfce']</td>\n",
       "      <td>['Desktop', 'From RAM', 'Live Medium', 'Raspbe...</td>\n",
       "      <td>['Active']</td>\n",
       "    </tr>\n",
       "    <tr>\n",
       "      <th>1</th>\n",
       "      <td>1</td>\n",
       "      <td>1</td>\n",
       "      <td>Linux Mint</td>\n",
       "      <td>mint</td>\n",
       "      <td>Linux Mint is an Ubuntu-based distribution who...</td>\n",
       "      <td>['https://linuxmint.com/']</td>\n",
       "      <td>['2 (2,125 hits per day)']</td>\n",
       "      <td>['8.71']</td>\n",
       "      <td>['Linux']</td>\n",
       "      <td>['Debian (Stable)', 'Ubuntu (LTS)']</td>\n",
       "      <td>['Ireland']</td>\n",
       "      <td>['i686', 'x86_64']</td>\n",
       "      <td>['Cinnamon', 'MATE', 'Xfce']</td>\n",
       "      <td>['Beginners', 'Desktop', 'Live Medium']</td>\n",
       "      <td>['Active']</td>\n",
       "    </tr>\n",
       "    <tr>\n",
       "      <th>2</th>\n",
       "      <td>2</td>\n",
       "      <td>2</td>\n",
       "      <td>EndeavourOS</td>\n",
       "      <td>endeavour</td>\n",
       "      <td>EndeavourOS is a rolling release Linux distrib...</td>\n",
       "      <td>['https://endeavouros.com/']</td>\n",
       "      <td>['3 (1,715 hits per day)']</td>\n",
       "      <td>['8.45']</td>\n",
       "      <td>['Linux']</td>\n",
       "      <td>['Arch']</td>\n",
       "      <td>['Netherlands']</td>\n",
       "      <td>['aarch64', 'x86_64']</td>\n",
       "      <td>['Budgie', 'Cinnamon', 'GNOME', 'i3', 'KDE Pla...</td>\n",
       "      <td>['Desktop', 'Live Medium']</td>\n",
       "      <td>['Active']</td>\n",
       "    </tr>\n",
       "    <tr>\n",
       "      <th>3</th>\n",
       "      <td>3</td>\n",
       "      <td>3</td>\n",
       "      <td>Debian</td>\n",
       "      <td>debian</td>\n",
       "      <td>The Debian Project is an association of indivi...</td>\n",
       "      <td>['https://www.debian.org/']</td>\n",
       "      <td>['4 (1,559 hits per day)']</td>\n",
       "      <td>['8.85']</td>\n",
       "      <td>['Linux']</td>\n",
       "      <td>[]</td>\n",
       "      <td>['Global']</td>\n",
       "      <td>['aarch64', 'armel', 'armhf', 'i386', 'i686', ...</td>\n",
       "      <td>['AfterStep', 'Awesome', 'Blackbox', 'Cinnamon...</td>\n",
       "      <td>['Desktop', 'Live Medium', 'Server']</td>\n",
       "      <td>['Active']</td>\n",
       "    </tr>\n",
       "    <tr>\n",
       "      <th>4</th>\n",
       "      <td>4</td>\n",
       "      <td>4</td>\n",
       "      <td>Fedora</td>\n",
       "      <td>fedora</td>\n",
       "      <td>Fedora Linux (formerly Fedora, formerly Fedora...</td>\n",
       "      <td>['https://getfedora.org/']</td>\n",
       "      <td>['7 (909 hits per day)']</td>\n",
       "      <td>['8.25']</td>\n",
       "      <td>['Linux']</td>\n",
       "      <td>[]</td>\n",
       "      <td>['USA']</td>\n",
       "      <td>['aarch64', 'ppc64le', 's390x', 'x86_64']</td>\n",
       "      <td>['Awesome', 'Budgie', 'Cinnamon', 'Enlightenme...</td>\n",
       "      <td>['Desktop', 'Immutable', 'Server', 'Live Medium']</td>\n",
       "      <td>['Active']</td>\n",
       "    </tr>\n",
       "    <tr>\n",
       "      <th>...</th>\n",
       "      <td>...</td>\n",
       "      <td>...</td>\n",
       "      <td>...</td>\n",
       "      <td>...</td>\n",
       "      <td>...</td>\n",
       "      <td>...</td>\n",
       "      <td>...</td>\n",
       "      <td>...</td>\n",
       "      <td>...</td>\n",
       "      <td>...</td>\n",
       "      <td>...</td>\n",
       "      <td>...</td>\n",
       "      <td>...</td>\n",
       "      <td>...</td>\n",
       "      <td>...</td>\n",
       "    </tr>\n",
       "    <tr>\n",
       "      <th>95</th>\n",
       "      <td>95</td>\n",
       "      <td>95</td>\n",
       "      <td>Ubuntu Studio</td>\n",
       "      <td>ubuntustudio</td>\n",
       "      <td>An official variant of Ubuntu, Ubuntu Studio i...</td>\n",
       "      <td>['https://ubuntustudio.org/']</td>\n",
       "      <td>['94 (125 hits per day)']</td>\n",
       "      <td>['8.33']</td>\n",
       "      <td>['Linux']</td>\n",
       "      <td>['Debian', 'Ubuntu']</td>\n",
       "      <td>['USA']</td>\n",
       "      <td>['x86_64']</td>\n",
       "      <td>['KDE Plasma']</td>\n",
       "      <td>['Desktop', 'Live Medium', 'Multimedia']</td>\n",
       "      <td>['Active']</td>\n",
       "    </tr>\n",
       "    <tr>\n",
       "      <th>96</th>\n",
       "      <td>96</td>\n",
       "      <td>96</td>\n",
       "      <td>Void</td>\n",
       "      <td>void</td>\n",
       "      <td>Void is an independently-developed, general-pu...</td>\n",
       "      <td>['https://voidlinux.org/']</td>\n",
       "      <td>['74 (146 hits per day)']</td>\n",
       "      <td>['9.23']</td>\n",
       "      <td>['Linux']</td>\n",
       "      <td>[]</td>\n",
       "      <td>['Spain']</td>\n",
       "      <td>['aarch64', 'armv6', 'armv7', 'i686', 'x86_64']</td>\n",
       "      <td>['Xfce']</td>\n",
       "      <td>['Desktop', 'Live Medium', 'Raspberry Pi']</td>\n",
       "      <td>['Active']</td>\n",
       "    </tr>\n",
       "    <tr>\n",
       "      <th>97</th>\n",
       "      <td>97</td>\n",
       "      <td>97</td>\n",
       "      <td>Emmabuntüs</td>\n",
       "      <td>emmabuntus</td>\n",
       "      <td>Emmabuntüs is a desktop Linux distribution wit...</td>\n",
       "      <td>['http://emmabuntus.org/']</td>\n",
       "      <td>['79 (135 hits per day)']</td>\n",
       "      <td>['8.88']</td>\n",
       "      <td>['Linux']</td>\n",
       "      <td>['Debian (Stable)']</td>\n",
       "      <td>['France']</td>\n",
       "      <td>['i686', 'x86_64']</td>\n",
       "      <td>['LXQt', 'Xfce']</td>\n",
       "      <td>['Beginners', 'Desktop', 'Live Medium', 'Old C...</td>\n",
       "      <td>['Active']</td>\n",
       "    </tr>\n",
       "    <tr>\n",
       "      <th>98</th>\n",
       "      <td>98</td>\n",
       "      <td>98</td>\n",
       "      <td>TrueNAS</td>\n",
       "      <td>truenas</td>\n",
       "      <td>TrueNAS CORE (previously known as FreeNAS) is ...</td>\n",
       "      <td>['https://www.truenas.com/']</td>\n",
       "      <td>['66 (159 hits per day)']</td>\n",
       "      <td>['9.02']</td>\n",
       "      <td>['BSD, Linux']</td>\n",
       "      <td>['Debian', 'FreeBSD']</td>\n",
       "      <td>['France, USA']</td>\n",
       "      <td>['x86_64']</td>\n",
       "      <td>['No Desktop', 'WebUI']</td>\n",
       "      <td>['NAS']</td>\n",
       "      <td>['Active']</td>\n",
       "    </tr>\n",
       "    <tr>\n",
       "      <th>99</th>\n",
       "      <td>99</td>\n",
       "      <td>99</td>\n",
       "      <td>Br OS</td>\n",
       "      <td>bros</td>\n",
       "      <td>Br OS is a Brazilian Linux distribution based ...</td>\n",
       "      <td>['https://br-os.com/']</td>\n",
       "      <td>['88 (128 hits per day)']</td>\n",
       "      <td>['8.6']</td>\n",
       "      <td>['Linux']</td>\n",
       "      <td>['Debian', 'Ubuntu']</td>\n",
       "      <td>['Brazil']</td>\n",
       "      <td>['x86_64']</td>\n",
       "      <td>['KDE Plasma']</td>\n",
       "      <td>['Desktop', 'Live Medium']</td>\n",
       "      <td>['Active']</td>\n",
       "    </tr>\n",
       "  </tbody>\n",
       "</table>\n",
       "<p>100 rows × 15 columns</p>\n",
       "</div>"
      ],
      "text/plain": [
       "    Unnamed: 0.1  Unnamed: 0           Name            ID  \\\n",
       "0              0           0       MX Linux            mx   \n",
       "1              1           1     Linux Mint          mint   \n",
       "2              2           2    EndeavourOS     endeavour   \n",
       "3              3           3         Debian        debian   \n",
       "4              4           4         Fedora        fedora   \n",
       "..           ...         ...            ...           ...   \n",
       "95            95          95  Ubuntu Studio  ubuntustudio   \n",
       "96            96          96           Void          void   \n",
       "97            97          97     Emmabuntüs    emmabuntus   \n",
       "98            98          98        TrueNAS       truenas   \n",
       "99            99          99          Br OS          bros   \n",
       "\n",
       "                                          Description  \\\n",
       "0   MX Linux, a desktop-oriented Linux distributio...   \n",
       "1   Linux Mint is an Ubuntu-based distribution who...   \n",
       "2   EndeavourOS is a rolling release Linux distrib...   \n",
       "3   The Debian Project is an association of indivi...   \n",
       "4   Fedora Linux (formerly Fedora, formerly Fedora...   \n",
       "..                                                ...   \n",
       "95  An official variant of Ubuntu, Ubuntu Studio i...   \n",
       "96  Void is an independently-developed, general-pu...   \n",
       "97  Emmabuntüs is a desktop Linux distribution wit...   \n",
       "98  TrueNAS CORE (previously known as FreeNAS) is ...   \n",
       "99  Br OS is a Brazilian Linux distribution based ...   \n",
       "\n",
       "                         Homepage                Popularities   Ratings  \\\n",
       "0        ['https://mxlinux.org/']  ['1 (2,650 hits per day)']  ['8.15']   \n",
       "1      ['https://linuxmint.com/']  ['2 (2,125 hits per day)']  ['8.71']   \n",
       "2    ['https://endeavouros.com/']  ['3 (1,715 hits per day)']  ['8.45']   \n",
       "3     ['https://www.debian.org/']  ['4 (1,559 hits per day)']  ['8.85']   \n",
       "4      ['https://getfedora.org/']    ['7 (909 hits per day)']  ['8.25']   \n",
       "..                            ...                         ...       ...   \n",
       "95  ['https://ubuntustudio.org/']   ['94 (125 hits per day)']  ['8.33']   \n",
       "96     ['https://voidlinux.org/']   ['74 (146 hits per day)']  ['9.23']   \n",
       "97     ['http://emmabuntus.org/']   ['79 (135 hits per day)']  ['8.88']   \n",
       "98   ['https://www.truenas.com/']   ['66 (159 hits per day)']  ['9.02']   \n",
       "99         ['https://br-os.com/']   ['88 (128 hits per day)']   ['8.6']   \n",
       "\n",
       "          Os Types                                Bases          Origins  \\\n",
       "0        ['Linux']         ['Debian (Stable)', 'antiX']  ['Greece, USA']   \n",
       "1        ['Linux']  ['Debian (Stable)', 'Ubuntu (LTS)']      ['Ireland']   \n",
       "2        ['Linux']                             ['Arch']  ['Netherlands']   \n",
       "3        ['Linux']                                   []       ['Global']   \n",
       "4        ['Linux']                                   []          ['USA']   \n",
       "..             ...                                  ...              ...   \n",
       "95       ['Linux']                 ['Debian', 'Ubuntu']          ['USA']   \n",
       "96       ['Linux']                                   []        ['Spain']   \n",
       "97       ['Linux']                  ['Debian (Stable)']       ['France']   \n",
       "98  ['BSD, Linux']                ['Debian', 'FreeBSD']  ['France, USA']   \n",
       "99       ['Linux']                 ['Debian', 'Ubuntu']       ['Brazil']   \n",
       "\n",
       "                                        Architectures  \\\n",
       "0                         ['armhf', 'i686', 'x86_64']   \n",
       "1                                  ['i686', 'x86_64']   \n",
       "2                               ['aarch64', 'x86_64']   \n",
       "3   ['aarch64', 'armel', 'armhf', 'i386', 'i686', ...   \n",
       "4           ['aarch64', 'ppc64le', 's390x', 'x86_64']   \n",
       "..                                                ...   \n",
       "95                                         ['x86_64']   \n",
       "96    ['aarch64', 'armv6', 'armv7', 'i686', 'x86_64']   \n",
       "97                                 ['i686', 'x86_64']   \n",
       "98                                         ['x86_64']   \n",
       "99                                         ['x86_64']   \n",
       "\n",
       "                                             Desktops  \\\n",
       "0                   ['Fluxbox', 'KDE Plasma', 'Xfce']   \n",
       "1                        ['Cinnamon', 'MATE', 'Xfce']   \n",
       "2   ['Budgie', 'Cinnamon', 'GNOME', 'i3', 'KDE Pla...   \n",
       "3   ['AfterStep', 'Awesome', 'Blackbox', 'Cinnamon...   \n",
       "4   ['Awesome', 'Budgie', 'Cinnamon', 'Enlightenme...   \n",
       "..                                                ...   \n",
       "95                                     ['KDE Plasma']   \n",
       "96                                           ['Xfce']   \n",
       "97                                   ['LXQt', 'Xfce']   \n",
       "98                            ['No Desktop', 'WebUI']   \n",
       "99                                     ['KDE Plasma']   \n",
       "\n",
       "                                           Categories    Statuses  \n",
       "0   ['Desktop', 'From RAM', 'Live Medium', 'Raspbe...  ['Active']  \n",
       "1             ['Beginners', 'Desktop', 'Live Medium']  ['Active']  \n",
       "2                          ['Desktop', 'Live Medium']  ['Active']  \n",
       "3                ['Desktop', 'Live Medium', 'Server']  ['Active']  \n",
       "4   ['Desktop', 'Immutable', 'Server', 'Live Medium']  ['Active']  \n",
       "..                                                ...         ...  \n",
       "95           ['Desktop', 'Live Medium', 'Multimedia']  ['Active']  \n",
       "96         ['Desktop', 'Live Medium', 'Raspberry Pi']  ['Active']  \n",
       "97  ['Beginners', 'Desktop', 'Live Medium', 'Old C...  ['Active']  \n",
       "98                                            ['NAS']  ['Active']  \n",
       "99                         ['Desktop', 'Live Medium']  ['Active']  \n",
       "\n",
       "[100 rows x 15 columns]"
      ]
     },
     "execution_count": 5,
     "metadata": {},
     "output_type": "execute_result"
    }
   ],
   "source": [
    "data"
   ]
  },
  {
   "cell_type": "code",
   "execution_count": 5,
   "metadata": {},
   "outputs": [
    {
     "name": "stdout",
     "output_type": "stream",
     "text": [
      "Collecting pyvis\n",
      "  Using cached pyvis-0.3.2-py3-none-any.whl (756 kB)\n",
      "Requirement already satisfied: ipython>=5.3.0 in /home/sachin/anaconda3/envs/r-lab/lib/python3.11/site-packages (from pyvis) (8.17.2)\n",
      "Requirement already satisfied: jinja2>=2.9.6 in /home/sachin/anaconda3/envs/r-lab/lib/python3.11/site-packages (from pyvis) (3.1.2)\n",
      "Collecting jsonpickle>=1.4.1 (from pyvis)\n",
      "  Using cached jsonpickle-3.0.2-py3-none-any.whl.metadata (7.5 kB)\n",
      "Requirement already satisfied: networkx>=1.11 in /home/sachin/anaconda3/envs/r-lab/lib/python3.11/site-packages (from pyvis) (3.1)\n",
      "Requirement already satisfied: decorator in /home/sachin/anaconda3/envs/r-lab/lib/python3.11/site-packages (from ipython>=5.3.0->pyvis) (5.1.1)\n",
      "Requirement already satisfied: jedi>=0.16 in /home/sachin/anaconda3/envs/r-lab/lib/python3.11/site-packages (from ipython>=5.3.0->pyvis) (0.19.1)\n",
      "Requirement already satisfied: matplotlib-inline in /home/sachin/anaconda3/envs/r-lab/lib/python3.11/site-packages (from ipython>=5.3.0->pyvis) (0.1.6)\n",
      "Requirement already satisfied: prompt-toolkit!=3.0.37,<3.1.0,>=3.0.30 in /home/sachin/anaconda3/envs/r-lab/lib/python3.11/site-packages (from ipython>=5.3.0->pyvis) (3.0.39)\n",
      "Requirement already satisfied: pygments>=2.4.0 in /home/sachin/anaconda3/envs/r-lab/lib/python3.11/site-packages (from ipython>=5.3.0->pyvis) (2.16.1)\n",
      "Requirement already satisfied: stack-data in /home/sachin/anaconda3/envs/r-lab/lib/python3.11/site-packages (from ipython>=5.3.0->pyvis) (0.6.2)\n",
      "Requirement already satisfied: traitlets>=5 in /home/sachin/anaconda3/envs/r-lab/lib/python3.11/site-packages (from ipython>=5.3.0->pyvis) (5.13.0)\n",
      "Requirement already satisfied: pexpect>4.3 in /home/sachin/anaconda3/envs/r-lab/lib/python3.11/site-packages (from ipython>=5.3.0->pyvis) (4.8.0)\n",
      "Requirement already satisfied: MarkupSafe>=2.0 in /home/sachin/anaconda3/envs/r-lab/lib/python3.11/site-packages (from jinja2>=2.9.6->pyvis) (2.1.3)\n",
      "Requirement already satisfied: parso<0.9.0,>=0.8.3 in /home/sachin/anaconda3/envs/r-lab/lib/python3.11/site-packages (from jedi>=0.16->ipython>=5.3.0->pyvis) (0.8.3)\n",
      "Requirement already satisfied: ptyprocess>=0.5 in /home/sachin/anaconda3/envs/r-lab/lib/python3.11/site-packages (from pexpect>4.3->ipython>=5.3.0->pyvis) (0.7.0)\n",
      "Requirement already satisfied: wcwidth in /home/sachin/anaconda3/envs/r-lab/lib/python3.11/site-packages (from prompt-toolkit!=3.0.37,<3.1.0,>=3.0.30->ipython>=5.3.0->pyvis) (0.2.9)\n",
      "Requirement already satisfied: executing>=1.2.0 in /home/sachin/anaconda3/envs/r-lab/lib/python3.11/site-packages (from stack-data->ipython>=5.3.0->pyvis) (2.0.1)\n",
      "Requirement already satisfied: asttokens>=2.1.0 in /home/sachin/anaconda3/envs/r-lab/lib/python3.11/site-packages (from stack-data->ipython>=5.3.0->pyvis) (2.4.1)\n",
      "Requirement already satisfied: pure-eval in /home/sachin/anaconda3/envs/r-lab/lib/python3.11/site-packages (from stack-data->ipython>=5.3.0->pyvis) (0.2.2)\n",
      "Requirement already satisfied: six>=1.12.0 in /home/sachin/anaconda3/envs/r-lab/lib/python3.11/site-packages (from asttokens>=2.1.0->stack-data->ipython>=5.3.0->pyvis) (1.16.0)\n",
      "Using cached jsonpickle-3.0.2-py3-none-any.whl (40 kB)\n",
      "Installing collected packages: jsonpickle, pyvis\n",
      "Successfully installed jsonpickle-3.0.2 pyvis-0.3.2\n",
      "Note: you may need to restart the kernel to use updated packages.\n"
     ]
    }
   ],
   "source": [
    "%pip install pyvis"
   ]
  },
  {
   "cell_type": "code",
   "execution_count": 9,
   "metadata": {},
   "outputs": [
    {
     "data": {
      "image/png": "[encoded data removed]",
      "text/plain": [
       "<Figure size 1500x1000 with 1 Axes>"
      ]
     },
     "metadata": {},
     "output_type": "display_data"
    }
   ],
   "source": [
    "import matplotlib.pyplot as plt\n",
    "import networkx as nx\n",
    "\n",
    "# Function to recursively add nodes and edges to the graph\n",
    "def add_nodes(graph, parent, children):\n",
    "    for child in children:\n",
    "        graph.add_node(child)\n",
    "        if parent is not None:\n",
    "            graph.add_edge(parent, child)\n",
    "        add_nodes(graph, child, tree[child])\n",
    "\n",
    "# Create a directed graph\n",
    "G = nx.DiGraph()\n",
    "\n",
    "# Add nodes and edges from the tree\n",
    "add_nodes(G, None, tree[None])\n",
    "\n",
    "# Set up plot size\n",
    "plt.figure(figsize=(15, 10))\n",
    "\n",
    "# Draw the graph\n",
    "pos = nx.spring_layout(G, seed=42)  # for consistent layout\n",
    "nx.draw(G, pos, with_labels=True, node_color=\"lightblue\", node_size=2000, edge_color=\"gray\", linewidths=0.5, font_size=10)\n",
    "\n",
    "# Show the plot\n",
    "plt.title(\"Tree of Linux Distributions\")\n",
    "plt.show()\n"
   ]
  },
  {
   "cell_type": "code",
   "execution_count": 7,
   "metadata": {},
   "outputs": [
    {
     "data": {
      "text/plain": [
       "[('Debian (Stable)',\n",
       "  ['MX Linux',\n",
       "   'Linux Mint',\n",
       "   'antiX',\n",
       "   'Q4OS',\n",
       "   'Peppermint OS',\n",
       "   'Tails',\n",
       "   'Voyager Live',\n",
       "   'Slax',\n",
       "   'Neptune',\n",
       "   'Emmabuntüs']),\n",
       " ('antiX', ['MX Linux']),\n",
       " ('Ubuntu (LTS)',\n",
       "  ['Linux Mint',\n",
       "   'BackBox Linux',\n",
       "   'Zorin OS',\n",
       "   'KDE neon',\n",
       "   'Linux Lite',\n",
       "   'MakuluLinux',\n",
       "   'TUXEDO OS',\n",
       "   'Linuxfx',\n",
       "   'LXLE']),\n",
       " ('Arch',\n",
       "  ['EndeavourOS',\n",
       "   'Manjaro Linux',\n",
       "   'Garuda Linux',\n",
       "   'Mabox Linux',\n",
       "   'ArcoLinux',\n",
       "   'CachyOS',\n",
       "   'Artix Linux',\n",
       "   'Athena OS',\n",
       "   'XeroLinux',\n",
       "   'Archcraft',\n",
       "   'RebornOS',\n",
       "   'Bluestar Linux']),\n",
       " (None,\n",
       "  ['Debian',\n",
       "   'Fedora',\n",
       "   'openSUSE',\n",
       "   'FreeBSD',\n",
       "   'NixOS',\n",
       "   'EasyOS',\n",
       "   'Mageia',\n",
       "   'KaOS',\n",
       "   'PCLinuxOS',\n",
       "   'Puppy Linux',\n",
       "   'NetBSD',\n",
       "   'ReactOS',\n",
       "   'Solus',\n",
       "   'Slackware Linux',\n",
       "   'Alpine Linux',\n",
       "   'Gentoo Linux',\n",
       "   'Arch Linux',\n",
       "   'OpenBSD',\n",
       "   'Haiku',\n",
       "   'OpenMandriva Lx',\n",
       "   'Clear Linux',\n",
       "   'Void'])]"
      ]
     },
     "execution_count": 7,
     "metadata": {},
     "output_type": "execute_result"
    }
   ],
   "source": [
    "from collections import defaultdict\n",
    "import ast\n",
    "\n",
    "# Function to safely parse strings into lists\n",
    "def safe_parse_list(s):\n",
    "    try:\n",
    "        return ast.literal_eval(s)\n",
    "    except:\n",
    "        return []\n",
    "\n",
    "# Parse the 'Bases' column\n",
    "data['Bases'] = data['Bases'].apply(safe_parse_list)\n",
    "\n",
    "# Create a dictionary to hold the tree structure\n",
    "tree = defaultdict(list)\n",
    "\n",
    "# Populate the tree with parent-child relationships\n",
    "for index, row in data.iterrows():\n",
    "    child = row['Name']\n",
    "    bases = row['Bases']\n",
    "    if not bases:  # If no base, it's a root\n",
    "        tree[None].append(child)\n",
    "    else:\n",
    "        for base in bases:\n",
    "            tree[base].append(child)\n",
    "\n",
    "# Display the first few elements of the tree for verification\n",
    "list(tree.items())[:5]"
   ]
  },
  {
   "cell_type": "code",
   "execution_count": 21,
   "metadata": {},
   "outputs": [
    {
     "name": "stdout",
     "output_type": "stream",
     "text": [
      "Requirement already satisfied: jupyter_contrib_nbextensions in /home/sachin/anaconda3/envs/r-lab/lib/python3.11/site-packages (0.7.0)\n",
      "Requirement already satisfied: widgetsnbextension in /home/sachin/anaconda3/envs/r-lab/lib/python3.11/site-packages (4.0.9)\n",
      "Requirement already satisfied: ipython-genutils in /home/sachin/anaconda3/envs/r-lab/lib/python3.11/site-packages (from jupyter_contrib_nbextensions) (0.2.0)\n",
      "Requirement already satisfied: jupyter-contrib-core>=0.3.3 in /home/sachin/anaconda3/envs/r-lab/lib/python3.11/site-packages (from jupyter_contrib_nbextensions) (0.4.2)\n",
      "Requirement already satisfied: jupyter-core in /home/sachin/anaconda3/envs/r-lab/lib/python3.11/site-packages (from jupyter_contrib_nbextensions) (5.5.0)\n",
      "Requirement already satisfied: jupyter-highlight-selected-word>=0.1.1 in /home/sachin/anaconda3/envs/r-lab/lib/python3.11/site-packages (from jupyter_contrib_nbextensions) (0.2.0)\n",
      "Requirement already satisfied: jupyter-nbextensions-configurator>=0.4.0 in /home/sachin/anaconda3/envs/r-lab/lib/python3.11/site-packages (from jupyter_contrib_nbextensions) (0.6.3)\n",
      "Requirement already satisfied: nbconvert>=6.0 in /home/sachin/anaconda3/envs/r-lab/lib/python3.11/site-packages (from jupyter_contrib_nbextensions) (7.11.0)\n",
      "Requirement already satisfied: notebook>=6.0 in /home/sachin/anaconda3/envs/r-lab/lib/python3.11/site-packages (from jupyter_contrib_nbextensions) (7.0.6)\n",
      "Requirement already satisfied: tornado in /home/sachin/anaconda3/envs/r-lab/lib/python3.11/site-packages (from jupyter_contrib_nbextensions) (6.3.3)\n",
      "Requirement already satisfied: traitlets>=4.1 in /home/sachin/anaconda3/envs/r-lab/lib/python3.11/site-packages (from jupyter_contrib_nbextensions) (5.13.0)\n",
      "Requirement already satisfied: lxml in /home/sachin/anaconda3/envs/r-lab/lib/python3.11/site-packages (from jupyter_contrib_nbextensions) (4.9.3)\n",
      "Requirement already satisfied: setuptools in /home/sachin/anaconda3/envs/r-lab/lib/python3.11/site-packages (from jupyter-contrib-core>=0.3.3->jupyter_contrib_nbextensions) (68.2.2)\n",
      "Requirement already satisfied: pyyaml in /home/sachin/anaconda3/envs/r-lab/lib/python3.11/site-packages (from jupyter-nbextensions-configurator>=0.4.0->jupyter_contrib_nbextensions) (6.0.1)\n",
      "Requirement already satisfied: beautifulsoup4 in /home/sachin/anaconda3/envs/r-lab/lib/python3.11/site-packages (from nbconvert>=6.0->jupyter_contrib_nbextensions) (4.12.2)\n",
      "Requirement already satisfied: bleach!=5.0.0 in /home/sachin/anaconda3/envs/r-lab/lib/python3.11/site-packages (from nbconvert>=6.0->jupyter_contrib_nbextensions) (6.1.0)\n",
      "Requirement already satisfied: defusedxml in /home/sachin/anaconda3/envs/r-lab/lib/python3.11/site-packages (from nbconvert>=6.0->jupyter_contrib_nbextensions) (0.7.1)\n",
      "Requirement already satisfied: jinja2>=3.0 in /home/sachin/anaconda3/envs/r-lab/lib/python3.11/site-packages (from nbconvert>=6.0->jupyter_contrib_nbextensions) (3.1.2)\n",
      "Requirement already satisfied: jupyterlab-pygments in /home/sachin/anaconda3/envs/r-lab/lib/python3.11/site-packages (from nbconvert>=6.0->jupyter_contrib_nbextensions) (0.2.2)\n",
      "Requirement already satisfied: markupsafe>=2.0 in /home/sachin/anaconda3/envs/r-lab/lib/python3.11/site-packages (from nbconvert>=6.0->jupyter_contrib_nbextensions) (2.1.3)\n",
      "Requirement already satisfied: mistune<4,>=2.0.3 in /home/sachin/anaconda3/envs/r-lab/lib/python3.11/site-packages (from nbconvert>=6.0->jupyter_contrib_nbextensions) (3.0.2)\n",
      "Requirement already satisfied: nbclient>=0.5.0 in /home/sachin/anaconda3/envs/r-lab/lib/python3.11/site-packages (from nbconvert>=6.0->jupyter_contrib_nbextensions) (0.8.0)\n",
      "Requirement already satisfied: nbformat>=5.7 in /home/sachin/anaconda3/envs/r-lab/lib/python3.11/site-packages (from nbconvert>=6.0->jupyter_contrib_nbextensions) (5.9.2)\n",
      "Requirement already satisfied: packaging in /home/sachin/anaconda3/envs/r-lab/lib/python3.11/site-packages (from nbconvert>=6.0->jupyter_contrib_nbextensions) (23.2)\n",
      "Requirement already satisfied: pandocfilters>=1.4.1 in /home/sachin/anaconda3/envs/r-lab/lib/python3.11/site-packages (from nbconvert>=6.0->jupyter_contrib_nbextensions) (1.5.0)\n",
      "Requirement already satisfied: pygments>=2.4.1 in /home/sachin/anaconda3/envs/r-lab/lib/python3.11/site-packages (from nbconvert>=6.0->jupyter_contrib_nbextensions) (2.16.1)\n",
      "Requirement already satisfied: tinycss2 in /home/sachin/anaconda3/envs/r-lab/lib/python3.11/site-packages (from nbconvert>=6.0->jupyter_contrib_nbextensions) (1.2.1)\n",
      "Requirement already satisfied: platformdirs>=2.5 in /home/sachin/anaconda3/envs/r-lab/lib/python3.11/site-packages (from jupyter-core->jupyter_contrib_nbextensions) (3.11.0)\n",
      "Requirement already satisfied: jupyter-server<3,>=2.4.0 in /home/sachin/anaconda3/envs/r-lab/lib/python3.11/site-packages (from notebook>=6.0->jupyter_contrib_nbextensions) (2.10.0)\n",
      "Requirement already satisfied: jupyterlab-server<3,>=2.22.1 in /home/sachin/anaconda3/envs/r-lab/lib/python3.11/site-packages (from notebook>=6.0->jupyter_contrib_nbextensions) (2.25.1)\n",
      "Requirement already satisfied: jupyterlab<5,>=4.0.2 in /home/sachin/anaconda3/envs/r-lab/lib/python3.11/site-packages (from notebook>=6.0->jupyter_contrib_nbextensions) (4.0.8)\n",
      "Requirement already satisfied: notebook-shim<0.3,>=0.2 in /home/sachin/anaconda3/envs/r-lab/lib/python3.11/site-packages (from notebook>=6.0->jupyter_contrib_nbextensions) (0.2.3)\n",
      "Requirement already satisfied: six>=1.9.0 in /home/sachin/anaconda3/envs/r-lab/lib/python3.11/site-packages (from bleach!=5.0.0->nbconvert>=6.0->jupyter_contrib_nbextensions) (1.16.0)\n",
      "Requirement already satisfied: webencodings in /home/sachin/anaconda3/envs/r-lab/lib/python3.11/site-packages (from bleach!=5.0.0->nbconvert>=6.0->jupyter_contrib_nbextensions) (0.5.1)\n",
      "Requirement already satisfied: anyio>=3.1.0 in /home/sachin/anaconda3/envs/r-lab/lib/python3.11/site-packages (from jupyter-server<3,>=2.4.0->notebook>=6.0->jupyter_contrib_nbextensions) (4.0.0)\n",
      "Requirement already satisfied: argon2-cffi in /home/sachin/anaconda3/envs/r-lab/lib/python3.11/site-packages (from jupyter-server<3,>=2.4.0->notebook>=6.0->jupyter_contrib_nbextensions) (23.1.0)\n",
      "Requirement already satisfied: jupyter-client>=7.4.4 in /home/sachin/anaconda3/envs/r-lab/lib/python3.11/site-packages (from jupyter-server<3,>=2.4.0->notebook>=6.0->jupyter_contrib_nbextensions) (8.6.0)\n",
      "Requirement already satisfied: jupyter-events>=0.6.0 in /home/sachin/anaconda3/envs/r-lab/lib/python3.11/site-packages (from jupyter-server<3,>=2.4.0->notebook>=6.0->jupyter_contrib_nbextensions) (0.9.0)\n",
      "Requirement already satisfied: jupyter-server-terminals in /home/sachin/anaconda3/envs/r-lab/lib/python3.11/site-packages (from jupyter-server<3,>=2.4.0->notebook>=6.0->jupyter_contrib_nbextensions) (0.4.4)\n",
      "Requirement already satisfied: overrides in /home/sachin/anaconda3/envs/r-lab/lib/python3.11/site-packages (from jupyter-server<3,>=2.4.0->notebook>=6.0->jupyter_contrib_nbextensions) (7.4.0)\n",
      "Requirement already satisfied: prometheus-client in /home/sachin/anaconda3/envs/r-lab/lib/python3.11/site-packages (from jupyter-server<3,>=2.4.0->notebook>=6.0->jupyter_contrib_nbextensions) (0.18.0)\n",
      "Requirement already satisfied: pyzmq>=24 in /home/sachin/anaconda3/envs/r-lab/lib/python3.11/site-packages (from jupyter-server<3,>=2.4.0->notebook>=6.0->jupyter_contrib_nbextensions) (25.1.1)\n",
      "Requirement already satisfied: send2trash>=1.8.2 in /home/sachin/anaconda3/envs/r-lab/lib/python3.11/site-packages (from jupyter-server<3,>=2.4.0->notebook>=6.0->jupyter_contrib_nbextensions) (1.8.2)\n",
      "Requirement already satisfied: terminado>=0.8.3 in /home/sachin/anaconda3/envs/r-lab/lib/python3.11/site-packages (from jupyter-server<3,>=2.4.0->notebook>=6.0->jupyter_contrib_nbextensions) (0.17.1)\n",
      "Requirement already satisfied: websocket-client in /home/sachin/anaconda3/envs/r-lab/lib/python3.11/site-packages (from jupyter-server<3,>=2.4.0->notebook>=6.0->jupyter_contrib_nbextensions) (1.6.4)\n",
      "Requirement already satisfied: async-lru>=1.0.0 in /home/sachin/anaconda3/envs/r-lab/lib/python3.11/site-packages (from jupyterlab<5,>=4.0.2->notebook>=6.0->jupyter_contrib_nbextensions) (2.0.4)\n",
      "Requirement already satisfied: ipykernel in /home/sachin/anaconda3/envs/r-lab/lib/python3.11/site-packages (from jupyterlab<5,>=4.0.2->notebook>=6.0->jupyter_contrib_nbextensions) (6.26.0)\n",
      "Requirement already satisfied: jupyter-lsp>=2.0.0 in /home/sachin/anaconda3/envs/r-lab/lib/python3.11/site-packages (from jupyterlab<5,>=4.0.2->notebook>=6.0->jupyter_contrib_nbextensions) (2.2.0)\n",
      "Requirement already satisfied: babel>=2.10 in /home/sachin/anaconda3/envs/r-lab/lib/python3.11/site-packages (from jupyterlab-server<3,>=2.22.1->notebook>=6.0->jupyter_contrib_nbextensions) (2.13.1)\n",
      "Requirement already satisfied: json5>=0.9.0 in /home/sachin/anaconda3/envs/r-lab/lib/python3.11/site-packages (from jupyterlab-server<3,>=2.22.1->notebook>=6.0->jupyter_contrib_nbextensions) (0.9.14)\n",
      "Requirement already satisfied: jsonschema>=4.18.0 in /home/sachin/anaconda3/envs/r-lab/lib/python3.11/site-packages (from jupyterlab-server<3,>=2.22.1->notebook>=6.0->jupyter_contrib_nbextensions) (4.19.2)\n",
      "Requirement already satisfied: requests>=2.31 in /home/sachin/anaconda3/envs/r-lab/lib/python3.11/site-packages (from jupyterlab-server<3,>=2.22.1->notebook>=6.0->jupyter_contrib_nbextensions) (2.31.0)\n",
      "Requirement already satisfied: fastjsonschema in /home/sachin/anaconda3/envs/r-lab/lib/python3.11/site-packages (from nbformat>=5.7->nbconvert>=6.0->jupyter_contrib_nbextensions) (2.18.1)\n",
      "Requirement already satisfied: soupsieve>1.2 in /home/sachin/anaconda3/envs/r-lab/lib/python3.11/site-packages (from beautifulsoup4->nbconvert>=6.0->jupyter_contrib_nbextensions) (2.5)\n",
      "Requirement already satisfied: idna>=2.8 in /home/sachin/anaconda3/envs/r-lab/lib/python3.11/site-packages (from anyio>=3.1.0->jupyter-server<3,>=2.4.0->notebook>=6.0->jupyter_contrib_nbextensions) (3.4)\n",
      "Requirement already satisfied: sniffio>=1.1 in /home/sachin/anaconda3/envs/r-lab/lib/python3.11/site-packages (from anyio>=3.1.0->jupyter-server<3,>=2.4.0->notebook>=6.0->jupyter_contrib_nbextensions) (1.3.0)\n",
      "Requirement already satisfied: attrs>=22.2.0 in /home/sachin/anaconda3/envs/r-lab/lib/python3.11/site-packages (from jsonschema>=4.18.0->jupyterlab-server<3,>=2.22.1->notebook>=6.0->jupyter_contrib_nbextensions) (23.1.0)\n",
      "Requirement already satisfied: jsonschema-specifications>=2023.03.6 in /home/sachin/anaconda3/envs/r-lab/lib/python3.11/site-packages (from jsonschema>=4.18.0->jupyterlab-server<3,>=2.22.1->notebook>=6.0->jupyter_contrib_nbextensions) (2023.7.1)\n",
      "Requirement already satisfied: referencing>=0.28.4 in /home/sachin/anaconda3/envs/r-lab/lib/python3.11/site-packages (from jsonschema>=4.18.0->jupyterlab-server<3,>=2.22.1->notebook>=6.0->jupyter_contrib_nbextensions) (0.30.2)\n",
      "Requirement already satisfied: rpds-py>=0.7.1 in /home/sachin/anaconda3/envs/r-lab/lib/python3.11/site-packages (from jsonschema>=4.18.0->jupyterlab-server<3,>=2.22.1->notebook>=6.0->jupyter_contrib_nbextensions) (0.12.0)\n",
      "Requirement already satisfied: python-dateutil>=2.8.2 in /home/sachin/anaconda3/envs/r-lab/lib/python3.11/site-packages (from jupyter-client>=7.4.4->jupyter-server<3,>=2.4.0->notebook>=6.0->jupyter_contrib_nbextensions) (2.8.2)\n",
      "Requirement already satisfied: python-json-logger>=2.0.4 in /home/sachin/anaconda3/envs/r-lab/lib/python3.11/site-packages (from jupyter-events>=0.6.0->jupyter-server<3,>=2.4.0->notebook>=6.0->jupyter_contrib_nbextensions) (2.0.7)\n",
      "Requirement already satisfied: rfc3339-validator in /home/sachin/anaconda3/envs/r-lab/lib/python3.11/site-packages (from jupyter-events>=0.6.0->jupyter-server<3,>=2.4.0->notebook>=6.0->jupyter_contrib_nbextensions) (0.1.4)\n",
      "Requirement already satisfied: rfc3986-validator>=0.1.1 in /home/sachin/anaconda3/envs/r-lab/lib/python3.11/site-packages (from jupyter-events>=0.6.0->jupyter-server<3,>=2.4.0->notebook>=6.0->jupyter_contrib_nbextensions) (0.1.1)\n",
      "Requirement already satisfied: charset-normalizer<4,>=2 in /home/sachin/anaconda3/envs/r-lab/lib/python3.11/site-packages (from requests>=2.31->jupyterlab-server<3,>=2.22.1->notebook>=6.0->jupyter_contrib_nbextensions) (3.3.2)\n",
      "Requirement already satisfied: urllib3<3,>=1.21.1 in /home/sachin/anaconda3/envs/r-lab/lib/python3.11/site-packages (from requests>=2.31->jupyterlab-server<3,>=2.22.1->notebook>=6.0->jupyter_contrib_nbextensions) (2.0.7)\n",
      "Requirement already satisfied: certifi>=2017.4.17 in /home/sachin/anaconda3/envs/r-lab/lib/python3.11/site-packages (from requests>=2.31->jupyterlab-server<3,>=2.22.1->notebook>=6.0->jupyter_contrib_nbextensions) (2023.7.22)\n",
      "Requirement already satisfied: ptyprocess in /home/sachin/anaconda3/envs/r-lab/lib/python3.11/site-packages (from terminado>=0.8.3->jupyter-server<3,>=2.4.0->notebook>=6.0->jupyter_contrib_nbextensions) (0.7.0)\n",
      "Requirement already satisfied: argon2-cffi-bindings in /home/sachin/anaconda3/envs/r-lab/lib/python3.11/site-packages (from argon2-cffi->jupyter-server<3,>=2.4.0->notebook>=6.0->jupyter_contrib_nbextensions) (21.2.0)\n",
      "Requirement already satisfied: comm>=0.1.1 in /home/sachin/anaconda3/envs/r-lab/lib/python3.11/site-packages (from ipykernel->jupyterlab<5,>=4.0.2->notebook>=6.0->jupyter_contrib_nbextensions) (0.1.4)\n",
      "Requirement already satisfied: debugpy>=1.6.5 in /home/sachin/anaconda3/envs/r-lab/lib/python3.11/site-packages (from ipykernel->jupyterlab<5,>=4.0.2->notebook>=6.0->jupyter_contrib_nbextensions) (1.8.0)\n",
      "Requirement already satisfied: ipython>=7.23.1 in /home/sachin/anaconda3/envs/r-lab/lib/python3.11/site-packages (from ipykernel->jupyterlab<5,>=4.0.2->notebook>=6.0->jupyter_contrib_nbextensions) (8.17.2)\n",
      "Requirement already satisfied: matplotlib-inline>=0.1 in /home/sachin/anaconda3/envs/r-lab/lib/python3.11/site-packages (from ipykernel->jupyterlab<5,>=4.0.2->notebook>=6.0->jupyter_contrib_nbextensions) (0.1.6)\n",
      "Requirement already satisfied: nest-asyncio in /home/sachin/anaconda3/envs/r-lab/lib/python3.11/site-packages (from ipykernel->jupyterlab<5,>=4.0.2->notebook>=6.0->jupyter_contrib_nbextensions) (1.5.8)\n",
      "Requirement already satisfied: psutil in /home/sachin/anaconda3/envs/r-lab/lib/python3.11/site-packages (from ipykernel->jupyterlab<5,>=4.0.2->notebook>=6.0->jupyter_contrib_nbextensions) (5.9.5)\n",
      "Requirement already satisfied: decorator in /home/sachin/anaconda3/envs/r-lab/lib/python3.11/site-packages (from ipython>=7.23.1->ipykernel->jupyterlab<5,>=4.0.2->notebook>=6.0->jupyter_contrib_nbextensions) (5.1.1)\n",
      "Requirement already satisfied: jedi>=0.16 in /home/sachin/anaconda3/envs/r-lab/lib/python3.11/site-packages (from ipython>=7.23.1->ipykernel->jupyterlab<5,>=4.0.2->notebook>=6.0->jupyter_contrib_nbextensions) (0.19.1)\n",
      "Requirement already satisfied: prompt-toolkit!=3.0.37,<3.1.0,>=3.0.30 in /home/sachin/anaconda3/envs/r-lab/lib/python3.11/site-packages (from ipython>=7.23.1->ipykernel->jupyterlab<5,>=4.0.2->notebook>=6.0->jupyter_contrib_nbextensions) (3.0.39)\n",
      "Requirement already satisfied: stack-data in /home/sachin/anaconda3/envs/r-lab/lib/python3.11/site-packages (from ipython>=7.23.1->ipykernel->jupyterlab<5,>=4.0.2->notebook>=6.0->jupyter_contrib_nbextensions) (0.6.2)\n",
      "Requirement already satisfied: pexpect>4.3 in /home/sachin/anaconda3/envs/r-lab/lib/python3.11/site-packages (from ipython>=7.23.1->ipykernel->jupyterlab<5,>=4.0.2->notebook>=6.0->jupyter_contrib_nbextensions) (4.8.0)\n",
      "Requirement already satisfied: fqdn in /home/sachin/anaconda3/envs/r-lab/lib/python3.11/site-packages (from jsonschema[format-nongpl]>=4.18.0->jupyter-events>=0.6.0->jupyter-server<3,>=2.4.0->notebook>=6.0->jupyter_contrib_nbextensions) (1.5.1)\n",
      "Requirement already satisfied: isoduration in /home/sachin/anaconda3/envs/r-lab/lib/python3.11/site-packages (from jsonschema[format-nongpl]>=4.18.0->jupyter-events>=0.6.0->jupyter-server<3,>=2.4.0->notebook>=6.0->jupyter_contrib_nbextensions) (20.11.0)\n",
      "Requirement already satisfied: jsonpointer>1.13 in /home/sachin/anaconda3/envs/r-lab/lib/python3.11/site-packages (from jsonschema[format-nongpl]>=4.18.0->jupyter-events>=0.6.0->jupyter-server<3,>=2.4.0->notebook>=6.0->jupyter_contrib_nbextensions) (2.4)\n",
      "Requirement already satisfied: uri-template in /home/sachin/anaconda3/envs/r-lab/lib/python3.11/site-packages (from jsonschema[format-nongpl]>=4.18.0->jupyter-events>=0.6.0->jupyter-server<3,>=2.4.0->notebook>=6.0->jupyter_contrib_nbextensions) (1.3.0)\n",
      "Requirement already satisfied: webcolors>=1.11 in /home/sachin/anaconda3/envs/r-lab/lib/python3.11/site-packages (from jsonschema[format-nongpl]>=4.18.0->jupyter-events>=0.6.0->jupyter-server<3,>=2.4.0->notebook>=6.0->jupyter_contrib_nbextensions) (1.13)\n",
      "Requirement already satisfied: cffi>=1.0.1 in /home/sachin/anaconda3/envs/r-lab/lib/python3.11/site-packages (from argon2-cffi-bindings->argon2-cffi->jupyter-server<3,>=2.4.0->notebook>=6.0->jupyter_contrib_nbextensions) (1.16.0)\n",
      "Requirement already satisfied: pycparser in /home/sachin/anaconda3/envs/r-lab/lib/python3.11/site-packages (from cffi>=1.0.1->argon2-cffi-bindings->argon2-cffi->jupyter-server<3,>=2.4.0->notebook>=6.0->jupyter_contrib_nbextensions) (2.21)\n",
      "Requirement already satisfied: parso<0.9.0,>=0.8.3 in /home/sachin/anaconda3/envs/r-lab/lib/python3.11/site-packages (from jedi>=0.16->ipython>=7.23.1->ipykernel->jupyterlab<5,>=4.0.2->notebook>=6.0->jupyter_contrib_nbextensions) (0.8.3)\n",
      "Requirement already satisfied: wcwidth in /home/sachin/anaconda3/envs/r-lab/lib/python3.11/site-packages (from prompt-toolkit!=3.0.37,<3.1.0,>=3.0.30->ipython>=7.23.1->ipykernel->jupyterlab<5,>=4.0.2->notebook>=6.0->jupyter_contrib_nbextensions) (0.2.9)\n",
      "Requirement already satisfied: arrow>=0.15.0 in /home/sachin/anaconda3/envs/r-lab/lib/python3.11/site-packages (from isoduration->jsonschema[format-nongpl]>=4.18.0->jupyter-events>=0.6.0->jupyter-server<3,>=2.4.0->notebook>=6.0->jupyter_contrib_nbextensions) (1.3.0)\n",
      "Requirement already satisfied: executing>=1.2.0 in /home/sachin/anaconda3/envs/r-lab/lib/python3.11/site-packages (from stack-data->ipython>=7.23.1->ipykernel->jupyterlab<5,>=4.0.2->notebook>=6.0->jupyter_contrib_nbextensions) (2.0.1)\n",
      "Requirement already satisfied: asttokens>=2.1.0 in /home/sachin/anaconda3/envs/r-lab/lib/python3.11/site-packages (from stack-data->ipython>=7.23.1->ipykernel->jupyterlab<5,>=4.0.2->notebook>=6.0->jupyter_contrib_nbextensions) (2.4.1)\n",
      "Requirement already satisfied: pure-eval in /home/sachin/anaconda3/envs/r-lab/lib/python3.11/site-packages (from stack-data->ipython>=7.23.1->ipykernel->jupyterlab<5,>=4.0.2->notebook>=6.0->jupyter_contrib_nbextensions) (0.2.2)\n",
      "Requirement already satisfied: types-python-dateutil>=2.8.10 in /home/sachin/anaconda3/envs/r-lab/lib/python3.11/site-packages (from arrow>=0.15.0->isoduration->jsonschema[format-nongpl]>=4.18.0->jupyter-events>=0.6.0->jupyter-server<3,>=2.4.0->notebook>=6.0->jupyter_contrib_nbextensions) (2.8.19.14)\n",
      "Note: you may need to restart the kernel to use updated packages.\n",
      "usage: jupyter [-h] [--version] [--config-dir] [--data-dir] [--runtime-dir]\n",
      "               [--paths] [--json] [--debug]\n",
      "               [subcommand]\n",
      "\n",
      "Jupyter: Interactive Computing\n",
      "\n",
      "positional arguments:\n",
      "  subcommand     the subcommand to launch\n",
      "\n",
      "options:\n",
      "  -h, --help     show this help message and exit\n",
      "  --version      show the versions of core jupyter packages and exit\n",
      "  --config-dir   show Jupyter config dir\n",
      "  --data-dir     show Jupyter data dir\n",
      "  --runtime-dir  show Jupyter runtime dir\n",
      "  --paths        show all Jupyter paths. Add --json for machine-readable\n",
      "                 format.\n",
      "  --json         output paths as machine-readable json\n",
      "  --debug        output debug information about paths\n",
      "\n",
      "Available subcommands: console contrib dejavu events execute kernel kernelspec\n",
      "lab labextension labhub migrate nbconvert nbextensions_configurator notebook\n",
      "qtconsole run server troubleshoot trust\n",
      "\n",
      "Jupyter command `jupyter-nbextension` not found.\n"
     ]
    }
   ],
   "source": [
    "%pip install jupyter_contrib_nbextensions widgetsnbextension\n",
    "!jupyter nbextension enable --py --sys-prefix widgetsnbextension\n"
   ]
  },
  {
   "cell_type": "code",
   "execution_count": 21,
   "metadata": {},
   "outputs": [
    {
     "data": {
      "application/vnd.plotly.v1+json": {
       "config": {
        "plotlyServerURL": "https://plot.ly"
       },
       "data": [
        {
         "hoverinfo": "none",
         "line": {
          "color": "green",
          "width": 0.5
         },
         "mode": "lines",
         "type": "scatter",
         "x": [
          -0.058177893694004765,
          -0.08390799789387172,
          null,
          -0.058177893694004765,
          -0.5903186532199042,
          null,
          -0.058177893694004765,
          -0.18416697790623807,
          null,
          -0.058177893694004765,
          0.7468842836833508,
          null,
          -0.058177893694004765,
          -0.9261491334014103,
          null,
          -0.058177893694004765,
          -0.7302290575316567,
          null,
          -0.058177893694004765,
          -0.8128145994983644,
          null,
          -0.058177893694004765,
          -0.47216636848805854,
          null,
          -0.058177893694004765,
          0.3986093414819885,
          null,
          -0.058177893694004765,
          0.20337577276807742,
          null,
          -0.058177893694004765,
          0.36315883563255824,
          null,
          -0.058177893694004765,
          0.9999999999999999,
          null,
          -0.058177893694004765,
          -0.6292304197964879,
          null,
          -0.058177893694004765,
          0.7756631342821935,
          null,
          -0.058177893694004765,
          0.7629423894581847,
          null,
          -0.058177893694004765,
          -0.6141998670706007,
          null,
          -0.058177893694004765,
          0.12641764348031181,
          null,
          -0.058177893694004765,
          -0.15596445340035986,
          null,
          -0.058177893694004765,
          -0.8601768707860159,
          null,
          -0.058177893694004765,
          -0.9214035960090646,
          null,
          -0.058177893694004765,
          0.04487927380479634,
          null,
          -0.058177893694004765,
          0.0033016153033996187,
          null,
          -0.058177893694004765,
          0.93818010705115,
          null,
          -0.058177893694004765,
          -0.7930614012842122,
          null,
          -0.058177893694004765,
          -0.7529431478091408,
          null,
          -0.058177893694004765,
          -0.8997295149773421,
          null,
          -0.058177893694004765,
          0.2755773134374531,
          null,
          -0.058177893694004765,
          -0.31944605641660384,
          null,
          -0.058177893694004765,
          0.646521408444673,
          null,
          -0.058177893694004765,
          -0.4616270184672696,
          null,
          -0.058177893694004765,
          -0.20739165119145042,
          null,
          -0.058177893694004765,
          0.9398685929542882,
          null,
          -0.08390799789387172,
          -0.5903186532199042,
          null,
          -0.08390799789387172,
          -0.8128145994983644,
          null,
          -0.08390799789387172,
          0.3986093414819885,
          null,
          -0.08390799789387172,
          -0.6292304197964879,
          null,
          -0.08390799789387172,
          0.7756631342821935,
          null,
          -0.08390799789387172,
          -0.7592808740083207,
          null,
          -0.08390799789387172,
          -0.6141998670706007,
          null,
          -0.08390799789387172,
          -0.15596445340035986,
          null,
          -0.08390799789387172,
          0.0033016153033996187,
          null,
          -0.08390799789387172,
          -0.8997295149773421,
          null,
          -0.08390799789387172,
          0.2755773134374531,
          null,
          -0.08390799789387172,
          0.646521408444673,
          null,
          -0.08390799789387172,
          -0.4616270184672696,
          null,
          -0.08390799789387172,
          0.9398685929542882,
          null,
          -0.15596445340035986,
          0.4801601962905894,
          null,
          -0.15596445340035986,
          -0.7930614012842122,
          null,
          0.19006200402935705,
          -0.9396677519712333,
          null,
          0.19006200402935705,
          0.6449085128651039,
          null,
          0.19006200402935705,
          0.6078299182161425,
          null,
          0.19006200402935705,
          0.15365826697897256,
          null,
          0.19006200402935705,
          0.9300266723353353,
          null,
          0.16926367581488197,
          -0.4683134719835888,
          null,
          0.16926367581488197,
          0.8075134212697545,
          null,
          -0.42654316027543115,
          -0.8581450745247885,
          null,
          -0.42654316027543115,
          -0.20739165119145042,
          null,
          0.9510767598509443,
          0.9937192644990915,
          null
         ],
         "y": [
          0.0496402024024283,
          0.02099512499115897,
          null,
          0.0496402024024283,
          -0.8019749374627573,
          null,
          0.0496402024024283,
          -0.9758751340999869,
          null,
          0.0496402024024283,
          -0.5551074384789979,
          null,
          0.0496402024024283,
          -0.1255187351637017,
          null,
          0.0496402024024283,
          0.6915938020647002,
          null,
          0.0496402024024283,
          0.5644075593710756,
          null,
          0.0496402024024283,
          0.7533834056841588,
          null,
          0.0496402024024283,
          0.8087744209081065,
          null,
          0.0496402024024283,
          0.776164711425204,
          null,
          0.0496402024024283,
          -0.896609418271193,
          null,
          0.0496402024024283,
          0.24929358659775075,
          null,
          0.0496402024024283,
          0.8058865028469917,
          null,
          0.0496402024024283,
          -0.6541758501080268,
          null,
          0.0496402024024283,
          0.7046848489714039,
          null,
          0.0496402024024283,
          0.4945526385606774,
          null,
          0.0496402024024283,
          0.9522349293235427,
          null,
          0.0496402024024283,
          -0.6472375164728996,
          null,
          0.0496402024024283,
          -0.4864880383149937,
          null,
          0.0496402024024283,
          -0.32435716253196517,
          null,
          0.0496402024024283,
          -0.9234775595732027,
          null,
          0.0496402024024283,
          0.9081863606141466,
          null,
          0.0496402024024283,
          -0.3061799706039414,
          null,
          0.0496402024024283,
          -0.4282377775826533,
          null,
          0.0496402024024283,
          0.42996867648204457,
          null,
          0.0496402024024283,
          0.07580553380112348,
          null,
          0.0496402024024283,
          -0.9804019459925026,
          null,
          0.0496402024024283,
          0.8804991110508869,
          null,
          0.0496402024024283,
          -0.7314166613797015,
          null,
          0.0496402024024283,
          0.8891613082584064,
          null,
          0.0496402024024283,
          0.9715408084582263,
          null,
          0.0496402024024283,
          0.4389695288148972,
          null,
          0.02099512499115897,
          -0.8019749374627573,
          null,
          0.02099512499115897,
          0.5644075593710756,
          null,
          0.02099512499115897,
          0.8087744209081065,
          null,
          0.02099512499115897,
          0.8058865028469917,
          null,
          0.02099512499115897,
          -0.6541758501080268,
          null,
          0.02099512499115897,
          -0.6082788048582828,
          null,
          0.02099512499115897,
          0.4945526385606774,
          null,
          0.02099512499115897,
          -0.6472375164728996,
          null,
          0.02099512499115897,
          0.9081863606141466,
          null,
          0.02099512499115897,
          0.07580553380112348,
          null,
          0.02099512499115897,
          -0.9804019459925026,
          null,
          0.02099512499115897,
          -0.7314166613797015,
          null,
          0.02099512499115897,
          0.8891613082584064,
          null,
          0.02099512499115897,
          0.4389695288148972,
          null,
          -0.6472375164728996,
          -0.8677276403975857,
          null,
          -0.6472375164728996,
          -0.4282377775826533,
          null,
          -0.07689105263903273,
          0.3123184711720809,
          null,
          -0.07689105263903273,
          0.6805822552883587,
          null,
          -0.07689105263903273,
          -0.8419553606216581,
          null,
          -0.07689105263903273,
          -0.9647161077535096,
          null,
          -0.07689105263903273,
          0.30671126379890334,
          null,
          -0.16056639647678353,
          -0.7912661261376701,
          null,
          -0.16056639647678353,
          0.4712470469531867,
          null,
          0.5572546977640409,
          0.3945134647541919,
          null,
          0.5572546977640409,
          0.9715408084582263,
          null,
          -0.08692225469201534,
          -0.05957711280517587,
          null
         ]
        },
        {
         "hoverinfo": "text",
         "hovertext": [
          "Debian",
          "Ubuntu",
          "Pop!_OS",
          "elementary OS",
          "Vanilla OS",
          "Kubuntu",
          "Bodhi Linux",
          "UBports",
          "Lubuntu",
          "Xubuntu",
          "Voyager Live",
          "Linux Kodachi",
          "Rhino Linux",
          "Nitrux",
          "Ubuntu MATE",
          "Feren OS",
          "Ubuntu Studio",
          "Br OS",
          "BackBox Linux",
          "Zorin OS",
          "KDE neon",
          "Relianoid",
          "Linux Lite",
          "TUXEDO OS",
          "Devuan GNU+Linux",
          "SparkyLinux",
          "PureOS",
          "Parrot",
          "SpiralLinux",
          "Lernstick",
          "wattOS",
          "Gnoppix Linux",
          "LXLE",
          "deepin",
          "TrueNAS",
          "Fedora",
          "AlmaLinux OS",
          "Nobara Project",
          "Red Hat Enterprise Linux",
          "CentOS",
          "Qubes OS",
          "openSUSE",
          "GeckoLinux",
          "Regata OS",
          "FreeBSD",
          "GhostBSD",
          "NixOS",
          "EasyOS",
          "Mageia",
          "KaOS",
          "PCLinuxOS",
          "Puppy Linux",
          "NetBSD",
          "ReactOS",
          "Solus",
          "Slackware Linux",
          "Alpine Linux",
          "Gentoo Linux",
          "Arch Linux",
          "blendOS",
          "OpenBSD",
          "Haiku",
          "OpenMandriva Lx",
          "Clear Linux",
          "Void"
         ],
         "marker": {
          "color": [
           32,
           14,
           0,
           0,
           0,
           0,
           0,
           0,
           0,
           2,
           0,
           0,
           0,
           0,
           0,
           0,
           0,
           0,
           0,
           0,
           0,
           0,
           0,
           0,
           0,
           0,
           0,
           0,
           0,
           0,
           0,
           0,
           0,
           0,
           0,
           5,
           0,
           0,
           0,
           0,
           0,
           2,
           0,
           0,
           2,
           0,
           0,
           0,
           0,
           0,
           0,
           0,
           0,
           0,
           0,
           0,
           0,
           0,
           1,
           0,
           0,
           0,
           0,
           0,
           0
          ],
          "colorbar": {
           "thickness": 15,
           "title": {
            "side": "right",
            "text": "Node Connections"
           },
           "xanchor": "left"
          },
          "line": {
           "width": 2
          },
          "showscale": false,
          "size": 20
         },
         "mode": "markers+text",
         "text": [
          "Debian",
          "Ubuntu",
          "Pop!_OS",
          "elementary OS",
          "Vanilla OS",
          "Kubuntu",
          "Bodhi Linux",
          "UBports",
          "Lubuntu",
          "Xubuntu",
          "Voyager Live",
          "Linux Kodachi",
          "Rhino Linux",
          "Nitrux",
          "Ubuntu MATE",
          "Feren OS",
          "Ubuntu Studio",
          "Br OS",
          "BackBox Linux",
          "Zorin OS",
          "KDE neon",
          "Relianoid",
          "Linux Lite",
          "TUXEDO OS",
          "Devuan GNU+Linux",
          "SparkyLinux",
          "PureOS",
          "Parrot",
          "SpiralLinux",
          "Lernstick",
          "wattOS",
          "Gnoppix Linux",
          "LXLE",
          "deepin",
          "TrueNAS",
          "Fedora",
          "AlmaLinux OS",
          "Nobara Project",
          "Red Hat Enterprise Linux",
          "CentOS",
          "Qubes OS",
          "openSUSE",
          "GeckoLinux",
          "Regata OS",
          "FreeBSD",
          "GhostBSD",
          "NixOS",
          "EasyOS",
          "Mageia",
          "KaOS",
          "PCLinuxOS",
          "Puppy Linux",
          "NetBSD",
          "ReactOS",
          "Solus",
          "Slackware Linux",
          "Alpine Linux",
          "Gentoo Linux",
          "Arch Linux",
          "blendOS",
          "OpenBSD",
          "Haiku",
          "OpenMandriva Lx",
          "Clear Linux",
          "Void"
         ],
         "type": "scatter",
         "x": [
          -0.058177893694004765,
          -0.08390799789387172,
          -0.5903186532199042,
          -0.8128145994983644,
          0.3986093414819885,
          -0.6292304197964879,
          0.7756631342821935,
          -0.7592808740083207,
          -0.6141998670706007,
          -0.15596445340035986,
          0.4801601962905894,
          -0.7930614012842122,
          0.0033016153033996187,
          -0.8997295149773421,
          0.2755773134374531,
          0.646521408444673,
          -0.4616270184672696,
          0.9398685929542882,
          -0.18416697790623807,
          0.7468842836833508,
          -0.9261491334014103,
          -0.7302290575316567,
          -0.47216636848805854,
          0.20337577276807742,
          0.36315883563255824,
          0.9999999999999999,
          0.7629423894581847,
          0.12641764348031181,
          -0.8601768707860159,
          -0.9214035960090646,
          0.04487927380479634,
          0.93818010705115,
          -0.7529431478091408,
          -0.31944605641660384,
          -0.20739165119145042,
          0.19006200402935705,
          -0.9396677519712333,
          0.6449085128651039,
          0.6078299182161425,
          0.15365826697897256,
          0.9300266723353353,
          0.16926367581488197,
          -0.4683134719835888,
          0.8075134212697545,
          -0.42654316027543115,
          -0.8581450745247885,
          0.939021204542213,
          0.9465311754584842,
          0.7987959487322825,
          -0.7365876969255667,
          -0.9485063882162452,
          -0.5847087134785448,
          0.910311606988547,
          -0.12709736147112427,
          -0.3148440822246809,
          -0.4022633494823852,
          0.8400774970908571,
          0.27520913968945265,
          0.9510767598509443,
          0.9937192644990915,
          0.47101662421117213,
          -0.049613052517232505,
          -0.8763448469328178,
          0.6016314822047223,
          -0.9711725799963139
         ],
         "y": [
          0.0496402024024283,
          0.02099512499115897,
          -0.8019749374627573,
          0.5644075593710756,
          0.8087744209081065,
          0.8058865028469917,
          -0.6541758501080268,
          -0.6082788048582828,
          0.4945526385606774,
          -0.6472375164728996,
          -0.8677276403975857,
          -0.4282377775826533,
          0.9081863606141466,
          0.07580553380112348,
          -0.9804019459925026,
          -0.7314166613797015,
          0.8891613082584064,
          0.4389695288148972,
          -0.9758751340999869,
          -0.5551074384789979,
          -0.1255187351637017,
          0.6915938020647002,
          0.7533834056841588,
          0.776164711425204,
          -0.896609418271193,
          0.24929358659775075,
          0.7046848489714039,
          0.9522349293235427,
          -0.4864880383149937,
          -0.32435716253196517,
          -0.9234775595732027,
          -0.3061799706039414,
          0.42996867648204457,
          0.8804991110508869,
          0.9715408084582263,
          -0.07689105263903273,
          0.3123184711720809,
          0.6805822552883587,
          -0.8419553606216581,
          -0.9647161077535096,
          0.30671126379890334,
          -0.16056639647678353,
          -0.7912661261376701,
          0.4712470469531867,
          0.5572546977640409,
          0.3945134647541919,
          0.13958424667629807,
          0.03331802556576572,
          -0.3728713195777107,
          -0.7249352846529302,
          0.1795746643593179,
          -0.6143232876796012,
          -0.4826810903979572,
          0.8609885636168052,
          -0.9556342294450745,
          -0.8833037020908199,
          0.582482193991331,
          0.9133362384978952,
          -0.08692225469201534,
          -0.05957711280517587,
          0.8737576228848154,
          -0.985418166024067,
          -0.23052905754849315,
          0.7913166739980766,
          -0.018073350113109975
         ]
        }
       ],
       "layout": {
        "annotations": [
         {
          "arrowcolor": "black",
          "arrowhead": 3,
          "arrowsize": 2,
          "arrowwidth": 1,
          "ax": -0.058177893694004765,
          "axref": "x",
          "ay": 0.0496402024024283,
          "ayref": "y",
          "showarrow": true,
          "x": -0.08390799789387172,
          "xref": "x",
          "y": 0.02099512499115897,
          "yref": "y"
         },
         {
          "arrowcolor": "black",
          "arrowhead": 3,
          "arrowsize": 2,
          "arrowwidth": 1,
          "ax": -0.058177893694004765,
          "axref": "x",
          "ay": 0.0496402024024283,
          "ayref": "y",
          "showarrow": true,
          "x": -0.5903186532199042,
          "xref": "x",
          "y": -0.8019749374627573,
          "yref": "y"
         },
         {
          "arrowcolor": "black",
          "arrowhead": 3,
          "arrowsize": 2,
          "arrowwidth": 1,
          "ax": -0.058177893694004765,
          "axref": "x",
          "ay": 0.0496402024024283,
          "ayref": "y",
          "showarrow": true,
          "x": -0.18416697790623807,
          "xref": "x",
          "y": -0.9758751340999869,
          "yref": "y"
         },
         {
          "arrowcolor": "black",
          "arrowhead": 3,
          "arrowsize": 2,
          "arrowwidth": 1,
          "ax": -0.058177893694004765,
          "axref": "x",
          "ay": 0.0496402024024283,
          "ayref": "y",
          "showarrow": true,
          "x": 0.7468842836833508,
          "xref": "x",
          "y": -0.5551074384789979,
          "yref": "y"
         },
         {
          "arrowcolor": "black",
          "arrowhead": 3,
          "arrowsize": 2,
          "arrowwidth": 1,
          "ax": -0.058177893694004765,
          "axref": "x",
          "ay": 0.0496402024024283,
          "ayref": "y",
          "showarrow": true,
          "x": -0.9261491334014103,
          "xref": "x",
          "y": -0.1255187351637017,
          "yref": "y"
         },
         {
          "arrowcolor": "black",
          "arrowhead": 3,
          "arrowsize": 2,
          "arrowwidth": 1,
          "ax": -0.058177893694004765,
          "axref": "x",
          "ay": 0.0496402024024283,
          "ayref": "y",
          "showarrow": true,
          "x": -0.7302290575316567,
          "xref": "x",
          "y": 0.6915938020647002,
          "yref": "y"
         },
         {
          "arrowcolor": "black",
          "arrowhead": 3,
          "arrowsize": 2,
          "arrowwidth": 1,
          "ax": -0.058177893694004765,
          "axref": "x",
          "ay": 0.0496402024024283,
          "ayref": "y",
          "showarrow": true,
          "x": -0.8128145994983644,
          "xref": "x",
          "y": 0.5644075593710756,
          "yref": "y"
         },
         {
          "arrowcolor": "black",
          "arrowhead": 3,
          "arrowsize": 2,
          "arrowwidth": 1,
          "ax": -0.058177893694004765,
          "axref": "x",
          "ay": 0.0496402024024283,
          "ayref": "y",
          "showarrow": true,
          "x": -0.47216636848805854,
          "xref": "x",
          "y": 0.7533834056841588,
          "yref": "y"
         },
         {
          "arrowcolor": "black",
          "arrowhead": 3,
          "arrowsize": 2,
          "arrowwidth": 1,
          "ax": -0.058177893694004765,
          "axref": "x",
          "ay": 0.0496402024024283,
          "ayref": "y",
          "showarrow": true,
          "x": 0.3986093414819885,
          "xref": "x",
          "y": 0.8087744209081065,
          "yref": "y"
         },
         {
          "arrowcolor": "black",
          "arrowhead": 3,
          "arrowsize": 2,
          "arrowwidth": 1,
          "ax": -0.058177893694004765,
          "axref": "x",
          "ay": 0.0496402024024283,
          "ayref": "y",
          "showarrow": true,
          "x": 0.20337577276807742,
          "xref": "x",
          "y": 0.776164711425204,
          "yref": "y"
         },
         {
          "arrowcolor": "black",
          "arrowhead": 3,
          "arrowsize": 2,
          "arrowwidth": 1,
          "ax": -0.058177893694004765,
          "axref": "x",
          "ay": 0.0496402024024283,
          "ayref": "y",
          "showarrow": true,
          "x": 0.36315883563255824,
          "xref": "x",
          "y": -0.896609418271193,
          "yref": "y"
         },
         {
          "arrowcolor": "black",
          "arrowhead": 3,
          "arrowsize": 2,
          "arrowwidth": 1,
          "ax": -0.058177893694004765,
          "axref": "x",
          "ay": 0.0496402024024283,
          "ayref": "y",
          "showarrow": true,
          "x": 0.9999999999999999,
          "xref": "x",
          "y": 0.24929358659775075,
          "yref": "y"
         },
         {
          "arrowcolor": "black",
          "arrowhead": 3,
          "arrowsize": 2,
          "arrowwidth": 1,
          "ax": -0.058177893694004765,
          "axref": "x",
          "ay": 0.0496402024024283,
          "ayref": "y",
          "showarrow": true,
          "x": -0.6292304197964879,
          "xref": "x",
          "y": 0.8058865028469917,
          "yref": "y"
         },
         {
          "arrowcolor": "black",
          "arrowhead": 3,
          "arrowsize": 2,
          "arrowwidth": 1,
          "ax": -0.058177893694004765,
          "axref": "x",
          "ay": 0.0496402024024283,
          "ayref": "y",
          "showarrow": true,
          "x": 0.7756631342821935,
          "xref": "x",
          "y": -0.6541758501080268,
          "yref": "y"
         },
         {
          "arrowcolor": "black",
          "arrowhead": 3,
          "arrowsize": 2,
          "arrowwidth": 1,
          "ax": -0.058177893694004765,
          "axref": "x",
          "ay": 0.0496402024024283,
          "ayref": "y",
          "showarrow": true,
          "x": 0.7629423894581847,
          "xref": "x",
          "y": 0.7046848489714039,
          "yref": "y"
         },
         {
          "arrowcolor": "black",
          "arrowhead": 3,
          "arrowsize": 2,
          "arrowwidth": 1,
          "ax": -0.058177893694004765,
          "axref": "x",
          "ay": 0.0496402024024283,
          "ayref": "y",
          "showarrow": true,
          "x": -0.6141998670706007,
          "xref": "x",
          "y": 0.4945526385606774,
          "yref": "y"
         },
         {
          "arrowcolor": "black",
          "arrowhead": 3,
          "arrowsize": 2,
          "arrowwidth": 1,
          "ax": -0.058177893694004765,
          "axref": "x",
          "ay": 0.0496402024024283,
          "ayref": "y",
          "showarrow": true,
          "x": 0.12641764348031181,
          "xref": "x",
          "y": 0.9522349293235427,
          "yref": "y"
         },
         {
          "arrowcolor": "black",
          "arrowhead": 3,
          "arrowsize": 2,
          "arrowwidth": 1,
          "ax": -0.058177893694004765,
          "axref": "x",
          "ay": 0.0496402024024283,
          "ayref": "y",
          "showarrow": true,
          "x": -0.15596445340035986,
          "xref": "x",
          "y": -0.6472375164728996,
          "yref": "y"
         },
         {
          "arrowcolor": "black",
          "arrowhead": 3,
          "arrowsize": 2,
          "arrowwidth": 1,
          "ax": -0.058177893694004765,
          "axref": "x",
          "ay": 0.0496402024024283,
          "ayref": "y",
          "showarrow": true,
          "x": -0.8601768707860159,
          "xref": "x",
          "y": -0.4864880383149937,
          "yref": "y"
         },
         {
          "arrowcolor": "black",
          "arrowhead": 3,
          "arrowsize": 2,
          "arrowwidth": 1,
          "ax": -0.058177893694004765,
          "axref": "x",
          "ay": 0.0496402024024283,
          "ayref": "y",
          "showarrow": true,
          "x": -0.9214035960090646,
          "xref": "x",
          "y": -0.32435716253196517,
          "yref": "y"
         },
         {
          "arrowcolor": "black",
          "arrowhead": 3,
          "arrowsize": 2,
          "arrowwidth": 1,
          "ax": -0.058177893694004765,
          "axref": "x",
          "ay": 0.0496402024024283,
          "ayref": "y",
          "showarrow": true,
          "x": 0.04487927380479634,
          "xref": "x",
          "y": -0.9234775595732027,
          "yref": "y"
         },
         {
          "arrowcolor": "black",
          "arrowhead": 3,
          "arrowsize": 2,
          "arrowwidth": 1,
          "ax": -0.058177893694004765,
          "axref": "x",
          "ay": 0.0496402024024283,
          "ayref": "y",
          "showarrow": true,
          "x": 0.0033016153033996187,
          "xref": "x",
          "y": 0.9081863606141466,
          "yref": "y"
         },
         {
          "arrowcolor": "black",
          "arrowhead": 3,
          "arrowsize": 2,
          "arrowwidth": 1,
          "ax": -0.058177893694004765,
          "axref": "x",
          "ay": 0.0496402024024283,
          "ayref": "y",
          "showarrow": true,
          "x": 0.93818010705115,
          "xref": "x",
          "y": -0.3061799706039414,
          "yref": "y"
         },
         {
          "arrowcolor": "black",
          "arrowhead": 3,
          "arrowsize": 2,
          "arrowwidth": 1,
          "ax": -0.058177893694004765,
          "axref": "x",
          "ay": 0.0496402024024283,
          "ayref": "y",
          "showarrow": true,
          "x": -0.7930614012842122,
          "xref": "x",
          "y": -0.4282377775826533,
          "yref": "y"
         },
         {
          "arrowcolor": "black",
          "arrowhead": 3,
          "arrowsize": 2,
          "arrowwidth": 1,
          "ax": -0.058177893694004765,
          "axref": "x",
          "ay": 0.0496402024024283,
          "ayref": "y",
          "showarrow": true,
          "x": -0.7529431478091408,
          "xref": "x",
          "y": 0.42996867648204457,
          "yref": "y"
         },
         {
          "arrowcolor": "black",
          "arrowhead": 3,
          "arrowsize": 2,
          "arrowwidth": 1,
          "ax": -0.058177893694004765,
          "axref": "x",
          "ay": 0.0496402024024283,
          "ayref": "y",
          "showarrow": true,
          "x": -0.8997295149773421,
          "xref": "x",
          "y": 0.07580553380112348,
          "yref": "y"
         },
         {
          "arrowcolor": "black",
          "arrowhead": 3,
          "arrowsize": 2,
          "arrowwidth": 1,
          "ax": -0.058177893694004765,
          "axref": "x",
          "ay": 0.0496402024024283,
          "ayref": "y",
          "showarrow": true,
          "x": 0.2755773134374531,
          "xref": "x",
          "y": -0.9804019459925026,
          "yref": "y"
         },
         {
          "arrowcolor": "black",
          "arrowhead": 3,
          "arrowsize": 2,
          "arrowwidth": 1,
          "ax": -0.058177893694004765,
          "axref": "x",
          "ay": 0.0496402024024283,
          "ayref": "y",
          "showarrow": true,
          "x": -0.31944605641660384,
          "xref": "x",
          "y": 0.8804991110508869,
          "yref": "y"
         },
         {
          "arrowcolor": "black",
          "arrowhead": 3,
          "arrowsize": 2,
          "arrowwidth": 1,
          "ax": -0.058177893694004765,
          "axref": "x",
          "ay": 0.0496402024024283,
          "ayref": "y",
          "showarrow": true,
          "x": 0.646521408444673,
          "xref": "x",
          "y": -0.7314166613797015,
          "yref": "y"
         },
         {
          "arrowcolor": "black",
          "arrowhead": 3,
          "arrowsize": 2,
          "arrowwidth": 1,
          "ax": -0.058177893694004765,
          "axref": "x",
          "ay": 0.0496402024024283,
          "ayref": "y",
          "showarrow": true,
          "x": -0.4616270184672696,
          "xref": "x",
          "y": 0.8891613082584064,
          "yref": "y"
         },
         {
          "arrowcolor": "black",
          "arrowhead": 3,
          "arrowsize": 2,
          "arrowwidth": 1,
          "ax": -0.058177893694004765,
          "axref": "x",
          "ay": 0.0496402024024283,
          "ayref": "y",
          "showarrow": true,
          "x": -0.20739165119145042,
          "xref": "x",
          "y": 0.9715408084582263,
          "yref": "y"
         },
         {
          "arrowcolor": "black",
          "arrowhead": 3,
          "arrowsize": 2,
          "arrowwidth": 1,
          "ax": -0.058177893694004765,
          "axref": "x",
          "ay": 0.0496402024024283,
          "ayref": "y",
          "showarrow": true,
          "x": 0.9398685929542882,
          "xref": "x",
          "y": 0.4389695288148972,
          "yref": "y"
         },
         {
          "arrowcolor": "black",
          "arrowhead": 3,
          "arrowsize": 2,
          "arrowwidth": 1,
          "ax": -0.08390799789387172,
          "axref": "x",
          "ay": 0.02099512499115897,
          "ayref": "y",
          "showarrow": true,
          "x": -0.5903186532199042,
          "xref": "x",
          "y": -0.8019749374627573,
          "yref": "y"
         },
         {
          "arrowcolor": "black",
          "arrowhead": 3,
          "arrowsize": 2,
          "arrowwidth": 1,
          "ax": -0.08390799789387172,
          "axref": "x",
          "ay": 0.02099512499115897,
          "ayref": "y",
          "showarrow": true,
          "x": -0.8128145994983644,
          "xref": "x",
          "y": 0.5644075593710756,
          "yref": "y"
         },
         {
          "arrowcolor": "black",
          "arrowhead": 3,
          "arrowsize": 2,
          "arrowwidth": 1,
          "ax": -0.08390799789387172,
          "axref": "x",
          "ay": 0.02099512499115897,
          "ayref": "y",
          "showarrow": true,
          "x": 0.3986093414819885,
          "xref": "x",
          "y": 0.8087744209081065,
          "yref": "y"
         },
         {
          "arrowcolor": "black",
          "arrowhead": 3,
          "arrowsize": 2,
          "arrowwidth": 1,
          "ax": -0.08390799789387172,
          "axref": "x",
          "ay": 0.02099512499115897,
          "ayref": "y",
          "showarrow": true,
          "x": -0.6292304197964879,
          "xref": "x",
          "y": 0.8058865028469917,
          "yref": "y"
         },
         {
          "arrowcolor": "black",
          "arrowhead": 3,
          "arrowsize": 2,
          "arrowwidth": 1,
          "ax": -0.08390799789387172,
          "axref": "x",
          "ay": 0.02099512499115897,
          "ayref": "y",
          "showarrow": true,
          "x": 0.7756631342821935,
          "xref": "x",
          "y": -0.6541758501080268,
          "yref": "y"
         },
         {
          "arrowcolor": "black",
          "arrowhead": 3,
          "arrowsize": 2,
          "arrowwidth": 1,
          "ax": -0.08390799789387172,
          "axref": "x",
          "ay": 0.02099512499115897,
          "ayref": "y",
          "showarrow": true,
          "x": -0.7592808740083207,
          "xref": "x",
          "y": -0.6082788048582828,
          "yref": "y"
         },
         {
          "arrowcolor": "black",
          "arrowhead": 3,
          "arrowsize": 2,
          "arrowwidth": 1,
          "ax": -0.08390799789387172,
          "axref": "x",
          "ay": 0.02099512499115897,
          "ayref": "y",
          "showarrow": true,
          "x": -0.6141998670706007,
          "xref": "x",
          "y": 0.4945526385606774,
          "yref": "y"
         },
         {
          "arrowcolor": "black",
          "arrowhead": 3,
          "arrowsize": 2,
          "arrowwidth": 1,
          "ax": -0.08390799789387172,
          "axref": "x",
          "ay": 0.02099512499115897,
          "ayref": "y",
          "showarrow": true,
          "x": -0.15596445340035986,
          "xref": "x",
          "y": -0.6472375164728996,
          "yref": "y"
         },
         {
          "arrowcolor": "black",
          "arrowhead": 3,
          "arrowsize": 2,
          "arrowwidth": 1,
          "ax": -0.08390799789387172,
          "axref": "x",
          "ay": 0.02099512499115897,
          "ayref": "y",
          "showarrow": true,
          "x": 0.0033016153033996187,
          "xref": "x",
          "y": 0.9081863606141466,
          "yref": "y"
         },
         {
          "arrowcolor": "black",
          "arrowhead": 3,
          "arrowsize": 2,
          "arrowwidth": 1,
          "ax": -0.08390799789387172,
          "axref": "x",
          "ay": 0.02099512499115897,
          "ayref": "y",
          "showarrow": true,
          "x": -0.8997295149773421,
          "xref": "x",
          "y": 0.07580553380112348,
          "yref": "y"
         },
         {
          "arrowcolor": "black",
          "arrowhead": 3,
          "arrowsize": 2,
          "arrowwidth": 1,
          "ax": -0.08390799789387172,
          "axref": "x",
          "ay": 0.02099512499115897,
          "ayref": "y",
          "showarrow": true,
          "x": 0.2755773134374531,
          "xref": "x",
          "y": -0.9804019459925026,
          "yref": "y"
         },
         {
          "arrowcolor": "black",
          "arrowhead": 3,
          "arrowsize": 2,
          "arrowwidth": 1,
          "ax": -0.08390799789387172,
          "axref": "x",
          "ay": 0.02099512499115897,
          "ayref": "y",
          "showarrow": true,
          "x": 0.646521408444673,
          "xref": "x",
          "y": -0.7314166613797015,
          "yref": "y"
         },
         {
          "arrowcolor": "black",
          "arrowhead": 3,
          "arrowsize": 2,
          "arrowwidth": 1,
          "ax": -0.08390799789387172,
          "axref": "x",
          "ay": 0.02099512499115897,
          "ayref": "y",
          "showarrow": true,
          "x": -0.4616270184672696,
          "xref": "x",
          "y": 0.8891613082584064,
          "yref": "y"
         },
         {
          "arrowcolor": "black",
          "arrowhead": 3,
          "arrowsize": 2,
          "arrowwidth": 1,
          "ax": -0.08390799789387172,
          "axref": "x",
          "ay": 0.02099512499115897,
          "ayref": "y",
          "showarrow": true,
          "x": 0.9398685929542882,
          "xref": "x",
          "y": 0.4389695288148972,
          "yref": "y"
         },
         {
          "arrowcolor": "black",
          "arrowhead": 3,
          "arrowsize": 2,
          "arrowwidth": 1,
          "ax": -0.15596445340035986,
          "axref": "x",
          "ay": -0.6472375164728996,
          "ayref": "y",
          "showarrow": true,
          "x": 0.4801601962905894,
          "xref": "x",
          "y": -0.8677276403975857,
          "yref": "y"
         },
         {
          "arrowcolor": "black",
          "arrowhead": 3,
          "arrowsize": 2,
          "arrowwidth": 1,
          "ax": -0.15596445340035986,
          "axref": "x",
          "ay": -0.6472375164728996,
          "ayref": "y",
          "showarrow": true,
          "x": -0.7930614012842122,
          "xref": "x",
          "y": -0.4282377775826533,
          "yref": "y"
         },
         {
          "arrowcolor": "black",
          "arrowhead": 3,
          "arrowsize": 2,
          "arrowwidth": 1,
          "ax": 0.19006200402935705,
          "axref": "x",
          "ay": -0.07689105263903273,
          "ayref": "y",
          "showarrow": true,
          "x": -0.9396677519712333,
          "xref": "x",
          "y": 0.3123184711720809,
          "yref": "y"
         },
         {
          "arrowcolor": "black",
          "arrowhead": 3,
          "arrowsize": 2,
          "arrowwidth": 1,
          "ax": 0.19006200402935705,
          "axref": "x",
          "ay": -0.07689105263903273,
          "ayref": "y",
          "showarrow": true,
          "x": 0.6449085128651039,
          "xref": "x",
          "y": 0.6805822552883587,
          "yref": "y"
         },
         {
          "arrowcolor": "black",
          "arrowhead": 3,
          "arrowsize": 2,
          "arrowwidth": 1,
          "ax": 0.19006200402935705,
          "axref": "x",
          "ay": -0.07689105263903273,
          "ayref": "y",
          "showarrow": true,
          "x": 0.6078299182161425,
          "xref": "x",
          "y": -0.8419553606216581,
          "yref": "y"
         },
         {
          "arrowcolor": "black",
          "arrowhead": 3,
          "arrowsize": 2,
          "arrowwidth": 1,
          "ax": 0.19006200402935705,
          "axref": "x",
          "ay": -0.07689105263903273,
          "ayref": "y",
          "showarrow": true,
          "x": 0.15365826697897256,
          "xref": "x",
          "y": -0.9647161077535096,
          "yref": "y"
         },
         {
          "arrowcolor": "black",
          "arrowhead": 3,
          "arrowsize": 2,
          "arrowwidth": 1,
          "ax": 0.19006200402935705,
          "axref": "x",
          "ay": -0.07689105263903273,
          "ayref": "y",
          "showarrow": true,
          "x": 0.9300266723353353,
          "xref": "x",
          "y": 0.30671126379890334,
          "yref": "y"
         },
         {
          "arrowcolor": "black",
          "arrowhead": 3,
          "arrowsize": 2,
          "arrowwidth": 1,
          "ax": 0.16926367581488197,
          "axref": "x",
          "ay": -0.16056639647678353,
          "ayref": "y",
          "showarrow": true,
          "x": -0.4683134719835888,
          "xref": "x",
          "y": -0.7912661261376701,
          "yref": "y"
         },
         {
          "arrowcolor": "black",
          "arrowhead": 3,
          "arrowsize": 2,
          "arrowwidth": 1,
          "ax": 0.16926367581488197,
          "axref": "x",
          "ay": -0.16056639647678353,
          "ayref": "y",
          "showarrow": true,
          "x": 0.8075134212697545,
          "xref": "x",
          "y": 0.4712470469531867,
          "yref": "y"
         },
         {
          "arrowcolor": "black",
          "arrowhead": 3,
          "arrowsize": 2,
          "arrowwidth": 1,
          "ax": -0.42654316027543115,
          "axref": "x",
          "ay": 0.5572546977640409,
          "ayref": "y",
          "showarrow": true,
          "x": -0.8581450745247885,
          "xref": "x",
          "y": 0.3945134647541919,
          "yref": "y"
         },
         {
          "arrowcolor": "black",
          "arrowhead": 3,
          "arrowsize": 2,
          "arrowwidth": 1,
          "ax": -0.42654316027543115,
          "axref": "x",
          "ay": 0.5572546977640409,
          "ayref": "y",
          "showarrow": true,
          "x": -0.20739165119145042,
          "xref": "x",
          "y": 0.9715408084582263,
          "yref": "y"
         },
         {
          "arrowcolor": "black",
          "arrowhead": 3,
          "arrowsize": 2,
          "arrowwidth": 1,
          "ax": 0.9510767598509443,
          "axref": "x",
          "ay": -0.08692225469201534,
          "ayref": "y",
          "showarrow": true,
          "x": 0.9937192644990915,
          "xref": "x",
          "y": -0.05957711280517587,
          "yref": "y"
         }
        ],
        "hovermode": "closest",
        "margin": {
         "b": 20,
         "l": 5,
         "r": 5,
         "t": 40
        },
        "showlegend": false,
        "template": {
         "data": {
          "bar": [
           {
            "error_x": {
             "color": "#2a3f5f"
            },
            "error_y": {
             "color": "#2a3f5f"
            },
            "marker": {
             "line": {
              "color": "#E5ECF6",
              "width": 0.5
             },
             "pattern": {
              "fillmode": "overlay",
              "size": 10,
              "solidity": 0.2
             }
            },
            "type": "bar"
           }
          ],
          "barpolar": [
           {
            "marker": {
             "line": {
              "color": "#E5ECF6",
              "width": 0.5
             },
             "pattern": {
              "fillmode": "overlay",
              "size": 10,
              "solidity": 0.2
             }
            },
            "type": "barpolar"
           }
          ],
          "carpet": [
           {
            "aaxis": {
             "endlinecolor": "#2a3f5f",
             "gridcolor": "white",
             "linecolor": "white",
             "minorgridcolor": "white",
             "startlinecolor": "#2a3f5f"
            },
            "baxis": {
             "endlinecolor": "#2a3f5f",
             "gridcolor": "white",
             "linecolor": "white",
             "minorgridcolor": "white",
             "startlinecolor": "#2a3f5f"
            },
            "type": "carpet"
           }
          ],
          "choropleth": [
           {
            "colorbar": {
             "outlinewidth": 0,
             "ticks": ""
            },
            "type": "choropleth"
           }
          ],
          "contour": [
           {
            "colorbar": {
             "outlinewidth": 0,
             "ticks": ""
            },
            "colorscale": [
             [
              0,
              "#0d0887"
             ],
             [
              0.1111111111111111,
              "#46039f"
             ],
             [
              0.2222222222222222,
              "#7201a8"
             ],
             [
              0.3333333333333333,
              "#9c179e"
             ],
             [
              0.4444444444444444,
              "#bd3786"
             ],
             [
              0.5555555555555556,
              "#d8576b"
             ],
             [
              0.6666666666666666,
              "#ed7953"
             ],
             [
              0.7777777777777778,
              "#fb9f3a"
             ],
             [
              0.8888888888888888,
              "#fdca26"
             ],
             [
              1,
              "#f0f921"
             ]
            ],
            "type": "contour"
           }
          ],
          "contourcarpet": [
           {
            "colorbar": {
             "outlinewidth": 0,
             "ticks": ""
            },
            "type": "contourcarpet"
           }
          ],
          "heatmap": [
           {
            "colorbar": {
             "outlinewidth": 0,
             "ticks": ""
            },
            "colorscale": [
             [
              0,
              "#0d0887"
             ],
             [
              0.1111111111111111,
              "#46039f"
             ],
             [
              0.2222222222222222,
              "#7201a8"
             ],
             [
              0.3333333333333333,
              "#9c179e"
             ],
             [
              0.4444444444444444,
              "#bd3786"
             ],
             [
              0.5555555555555556,
              "#d8576b"
             ],
             [
              0.6666666666666666,
              "#ed7953"
             ],
             [
              0.7777777777777778,
              "#fb9f3a"
             ],
             [
              0.8888888888888888,
              "#fdca26"
             ],
             [
              1,
              "#f0f921"
             ]
            ],
            "type": "heatmap"
           }
          ],
          "heatmapgl": [
           {
            "colorbar": {
             "outlinewidth": 0,
             "ticks": ""
            },
            "colorscale": [
             [
              0,
              "#0d0887"
             ],
             [
              0.1111111111111111,
              "#46039f"
             ],
             [
              0.2222222222222222,
              "#7201a8"
             ],
             [
              0.3333333333333333,
              "#9c179e"
             ],
             [
              0.4444444444444444,
              "#bd3786"
             ],
             [
              0.5555555555555556,
              "#d8576b"
             ],
             [
              0.6666666666666666,
              "#ed7953"
             ],
             [
              0.7777777777777778,
              "#fb9f3a"
             ],
             [
              0.8888888888888888,
              "#fdca26"
             ],
             [
              1,
              "#f0f921"
             ]
            ],
            "type": "heatmapgl"
           }
          ],
          "histogram": [
           {
            "marker": {
             "pattern": {
              "fillmode": "overlay",
              "size": 10,
              "solidity": 0.2
             }
            },
            "type": "histogram"
           }
          ],
          "histogram2d": [
           {
            "colorbar": {
             "outlinewidth": 0,
             "ticks": ""
            },
            "colorscale": [
             [
              0,
              "#0d0887"
             ],
             [
              0.1111111111111111,
              "#46039f"
             ],
             [
              0.2222222222222222,
              "#7201a8"
             ],
             [
              0.3333333333333333,
              "#9c179e"
             ],
             [
              0.4444444444444444,
              "#bd3786"
             ],
             [
              0.5555555555555556,
              "#d8576b"
             ],
             [
              0.6666666666666666,
              "#ed7953"
             ],
             [
              0.7777777777777778,
              "#fb9f3a"
             ],
             [
              0.8888888888888888,
              "#fdca26"
             ],
             [
              1,
              "#f0f921"
             ]
            ],
            "type": "histogram2d"
           }
          ],
          "histogram2dcontour": [
           {
            "colorbar": {
             "outlinewidth": 0,
             "ticks": ""
            },
            "colorscale": [
             [
              0,
              "#0d0887"
             ],
             [
              0.1111111111111111,
              "#46039f"
             ],
             [
              0.2222222222222222,
              "#7201a8"
             ],
             [
              0.3333333333333333,
              "#9c179e"
             ],
             [
              0.4444444444444444,
              "#bd3786"
             ],
             [
              0.5555555555555556,
              "#d8576b"
             ],
             [
              0.6666666666666666,
              "#ed7953"
             ],
             [
              0.7777777777777778,
              "#fb9f3a"
             ],
             [
              0.8888888888888888,
              "#fdca26"
             ],
             [
              1,
              "#f0f921"
             ]
            ],
            "type": "histogram2dcontour"
           }
          ],
          "mesh3d": [
           {
            "colorbar": {
             "outlinewidth": 0,
             "ticks": ""
            },
            "type": "mesh3d"
           }
          ],
          "parcoords": [
           {
            "line": {
             "colorbar": {
              "outlinewidth": 0,
              "ticks": ""
             }
            },
            "type": "parcoords"
           }
          ],
          "pie": [
           {
            "automargin": true,
            "type": "pie"
           }
          ],
          "scatter": [
           {
            "fillpattern": {
             "fillmode": "overlay",
             "size": 10,
             "solidity": 0.2
            },
            "type": "scatter"
           }
          ],
          "scatter3d": [
           {
            "line": {
             "colorbar": {
              "outlinewidth": 0,
              "ticks": ""
             }
            },
            "marker": {
             "colorbar": {
              "outlinewidth": 0,
              "ticks": ""
             }
            },
            "type": "scatter3d"
           }
          ],
          "scattercarpet": [
           {
            "marker": {
             "colorbar": {
              "outlinewidth": 0,
              "ticks": ""
             }
            },
            "type": "scattercarpet"
           }
          ],
          "scattergeo": [
           {
            "marker": {
             "colorbar": {
              "outlinewidth": 0,
              "ticks": ""
             }
            },
            "type": "scattergeo"
           }
          ],
          "scattergl": [
           {
            "marker": {
             "colorbar": {
              "outlinewidth": 0,
              "ticks": ""
             }
            },
            "type": "scattergl"
           }
          ],
          "scattermapbox": [
           {
            "marker": {
             "colorbar": {
              "outlinewidth": 0,
              "ticks": ""
             }
            },
            "type": "scattermapbox"
           }
          ],
          "scatterpolar": [
           {
            "marker": {
             "colorbar": {
              "outlinewidth": 0,
              "ticks": ""
             }
            },
            "type": "scatterpolar"
           }
          ],
          "scatterpolargl": [
           {
            "marker": {
             "colorbar": {
              "outlinewidth": 0,
              "ticks": ""
             }
            },
            "type": "scatterpolargl"
           }
          ],
          "scatterternary": [
           {
            "marker": {
             "colorbar": {
              "outlinewidth": 0,
              "ticks": ""
             }
            },
            "type": "scatterternary"
           }
          ],
          "surface": [
           {
            "colorbar": {
             "outlinewidth": 0,
             "ticks": ""
            },
            "colorscale": [
             [
              0,
              "#0d0887"
             ],
             [
              0.1111111111111111,
              "#46039f"
             ],
             [
              0.2222222222222222,
              "#7201a8"
             ],
             [
              0.3333333333333333,
              "#9c179e"
             ],
             [
              0.4444444444444444,
              "#bd3786"
             ],
             [
              0.5555555555555556,
              "#d8576b"
             ],
             [
              0.6666666666666666,
              "#ed7953"
             ],
             [
              0.7777777777777778,
              "#fb9f3a"
             ],
             [
              0.8888888888888888,
              "#fdca26"
             ],
             [
              1,
              "#f0f921"
             ]
            ],
            "type": "surface"
           }
          ],
          "table": [
           {
            "cells": {
             "fill": {
              "color": "#EBF0F8"
             },
             "line": {
              "color": "white"
             }
            },
            "header": {
             "fill": {
              "color": "#C8D4E3"
             },
             "line": {
              "color": "white"
             }
            },
            "type": "table"
           }
          ]
         },
         "layout": {
          "annotationdefaults": {
           "arrowcolor": "#2a3f5f",
           "arrowhead": 0,
           "arrowwidth": 1
          },
          "autotypenumbers": "strict",
          "coloraxis": {
           "colorbar": {
            "outlinewidth": 0,
            "ticks": ""
           }
          },
          "colorscale": {
           "diverging": [
            [
             0,
             "#8e0152"
            ],
            [
             0.1,
             "#c51b7d"
            ],
            [
             0.2,
             "#de77ae"
            ],
            [
             0.3,
             "#f1b6da"
            ],
            [
             0.4,
             "#fde0ef"
            ],
            [
             0.5,
             "#f7f7f7"
            ],
            [
             0.6,
             "#e6f5d0"
            ],
            [
             0.7,
             "#b8e186"
            ],
            [
             0.8,
             "#7fbc41"
            ],
            [
             0.9,
             "#4d9221"
            ],
            [
             1,
             "#276419"
            ]
           ],
           "sequential": [
            [
             0,
             "#0d0887"
            ],
            [
             0.1111111111111111,
             "#46039f"
            ],
            [
             0.2222222222222222,
             "#7201a8"
            ],
            [
             0.3333333333333333,
             "#9c179e"
            ],
            [
             0.4444444444444444,
             "#bd3786"
            ],
            [
             0.5555555555555556,
             "#d8576b"
            ],
            [
             0.6666666666666666,
             "#ed7953"
            ],
            [
             0.7777777777777778,
             "#fb9f3a"
            ],
            [
             0.8888888888888888,
             "#fdca26"
            ],
            [
             1,
             "#f0f921"
            ]
           ],
           "sequentialminus": [
            [
             0,
             "#0d0887"
            ],
            [
             0.1111111111111111,
             "#46039f"
            ],
            [
             0.2222222222222222,
             "#7201a8"
            ],
            [
             0.3333333333333333,
             "#9c179e"
            ],
            [
             0.4444444444444444,
             "#bd3786"
            ],
            [
             0.5555555555555556,
             "#d8576b"
            ],
            [
             0.6666666666666666,
             "#ed7953"
            ],
            [
             0.7777777777777778,
             "#fb9f3a"
            ],
            [
             0.8888888888888888,
             "#fdca26"
            ],
            [
             1,
             "#f0f921"
            ]
           ]
          },
          "colorway": [
           "#636efa",
           "#EF553B",
           "#00cc96",
           "#ab63fa",
           "#FFA15A",
           "#19d3f3",
           "#FF6692",
           "#B6E880",
           "#FF97FF",
           "#FECB52"
          ],
          "font": {
           "color": "#2a3f5f"
          },
          "geo": {
           "bgcolor": "white",
           "lakecolor": "white",
           "landcolor": "#E5ECF6",
           "showlakes": true,
           "showland": true,
           "subunitcolor": "white"
          },
          "hoverlabel": {
           "align": "left"
          },
          "hovermode": "closest",
          "mapbox": {
           "style": "light"
          },
          "paper_bgcolor": "white",
          "plot_bgcolor": "#E5ECF6",
          "polar": {
           "angularaxis": {
            "gridcolor": "white",
            "linecolor": "white",
            "ticks": ""
           },
           "bgcolor": "#E5ECF6",
           "radialaxis": {
            "gridcolor": "white",
            "linecolor": "white",
            "ticks": ""
           }
          },
          "scene": {
           "xaxis": {
            "backgroundcolor": "#E5ECF6",
            "gridcolor": "white",
            "gridwidth": 2,
            "linecolor": "white",
            "showbackground": true,
            "ticks": "",
            "zerolinecolor": "white"
           },
           "yaxis": {
            "backgroundcolor": "#E5ECF6",
            "gridcolor": "white",
            "gridwidth": 2,
            "linecolor": "white",
            "showbackground": true,
            "ticks": "",
            "zerolinecolor": "white"
           },
           "zaxis": {
            "backgroundcolor": "#E5ECF6",
            "gridcolor": "white",
            "gridwidth": 2,
            "linecolor": "white",
            "showbackground": true,
            "ticks": "",
            "zerolinecolor": "white"
           }
          },
          "shapedefaults": {
           "line": {
            "color": "#2a3f5f"
           }
          },
          "ternary": {
           "aaxis": {
            "gridcolor": "white",
            "linecolor": "white",
            "ticks": ""
           },
           "baxis": {
            "gridcolor": "white",
            "linecolor": "white",
            "ticks": ""
           },
           "bgcolor": "#E5ECF6",
           "caxis": {
            "gridcolor": "white",
            "linecolor": "white",
            "ticks": ""
           }
          },
          "title": {
           "x": 0.05
          },
          "xaxis": {
           "automargin": true,
           "gridcolor": "white",
           "linecolor": "white",
           "ticks": "",
           "title": {
            "standoff": 15
           },
           "zerolinecolor": "white",
           "zerolinewidth": 2
          },
          "yaxis": {
           "automargin": true,
           "gridcolor": "white",
           "linecolor": "white",
           "ticks": "",
           "title": {
            "standoff": 15
           },
           "zerolinecolor": "white",
           "zerolinewidth": 2
          }
         }
        },
        "title": {
         "font": {
          "size": 16
         },
         "text": "Interactive Network of Linux Distributions"
        },
        "xaxis": {
         "showgrid": false,
         "showticklabels": false,
         "zeroline": false
        },
        "yaxis": {
         "showgrid": false,
         "showticklabels": false,
         "zeroline": false
        }
       }
      }
     },
     "metadata": {},
     "output_type": "display_data"
    }
   ],
   "source": [
    "import plotly.graph_objects as go\n",
    "import networkx as nx\n",
    "\n",
    "# Create a networkx graph from the tree\n",
    "G = nx.DiGraph()\n",
    "add_nodes(G, None, tree[None])\n",
    "\n",
    "# Get positions for the nodes in G\n",
    "pos = nx.spring_layout(G, seed=42)\n",
    "\n",
    "# Create Edges\n",
    "edge_x = []\n",
    "edge_y = []\n",
    "annotations = []\n",
    "for edge in G.edges():\n",
    "    x0, y0 = pos[edge[0]]\n",
    "    x1, y1 = pos[edge[1]]\n",
    "    edge_x.extend([x0, x1, None])\n",
    "    edge_y.extend([y0, y1, None])\n",
    "\n",
    "    # Create an annotation with an arrow\n",
    "    annotations.append(dict(\n",
    "        ax=x0, ay=y0, axref='x', ayref='y',\n",
    "        x=x1, y=y1, xref='x', yref='y',\n",
    "        showarrow=True,\n",
    "        arrowhead=3, arrowsize=2, arrowwidth=1, arrowcolor='black'))\n",
    "\n",
    "# Create Nodes\n",
    "node_x = []\n",
    "node_y = []\n",
    "for node in G.nodes():\n",
    "    x, y = pos[node]\n",
    "    node_x.append(x)\n",
    "    node_y.append(y)\n",
    "\n",
    "# Create figure\n",
    "fig = go.Figure()\n",
    "\n",
    "# Add edges as scatter trace\n",
    "fig.add_trace(go.Scatter(\n",
    "    x=edge_x, y=edge_y,\n",
    "    line=dict(width=0.5, color='green'),\n",
    "    hoverinfo='none',\n",
    "    mode='lines'))\n",
    "\n",
    "# Add nodes as scatter trace\n",
    "fig.add_trace(go.Scatter(\n",
    "    x=node_x, y=node_y,\n",
    "    mode='markers+text',\n",
    "    hoverinfo='text',\n",
    "    text=[node for node in G.nodes()],  # Node names as hover text\n",
    "    hovertext=[node for node in G.nodes()],  # Node names as hover text\n",
    "    marker=dict(\n",
    "        showscale=False,\n",
    "        color=[len(list(G.neighbors(node))) for node in G.nodes()],\n",
    "        size=20,\n",
    "        colorbar=dict(\n",
    "            thickness=15,\n",
    "            title='Node Connections',\n",
    "            xanchor='left',\n",
    "            titleside='right'\n",
    "        ),\n",
    "        line_width=2)))\n",
    "\n",
    "# Update plot layout with annotations\n",
    "fig.update_layout(\n",
    "    title='Interactive Network of Linux Distributions',\n",
    "    titlefont_size=16,\n",
    "    showlegend=False,\n",
    "    hovermode='closest',\n",
    "    margin=dict(b=20,l=5,r=5,t=40),\n",
    "    annotations=annotations,\n",
    "    xaxis=dict(showgrid=False, zeroline=False, showticklabels=False),\n",
    "    yaxis=dict(showgrid=False, zeroline=False, showticklabels=False))\n",
    "\n",
    "fig.show()\n"
   ]
  },
  {
   "cell_type": "code",
   "execution_count": 22,
   "metadata": {},
   "outputs": [
    {
     "data": {
      "text/plain": [
       "USA        28\n",
       "Germany     9\n",
       "France      6\n",
       "Global      5\n",
       "Poland      4\n",
       "Name: count, dtype: int64"
      ]
     },
     "execution_count": 22,
     "metadata": {},
     "output_type": "execute_result"
    }
   ],
   "source": [
    "import ast\n",
    "\n",
    "# Re-process the 'Origins' column\n",
    "data['Origins'] = data['Origins'].apply(lambda x: ast.literal_eval(x) if isinstance(x, str) else x)\n",
    "\n",
    "# Flatten the list of origins and count the number of distributions per origin\n",
    "origin_counts = pd.Series([origin for sublist in data['Origins'].dropna() for origin in sublist]).value_counts()\n",
    "\n",
    "origin_counts.head()\n"
   ]
  },
  {
   "cell_type": "code",
   "execution_count": 23,
   "metadata": {},
   "outputs": [
    {
     "name": "stderr",
     "output_type": "stream",
     "text": [
      "/tmp/ipykernel_7109/3777996231.py:4: FutureWarning:\n",
      "\n",
      "The geopandas.dataset module is deprecated and will be removed in GeoPandas 1.0. You can get the original 'naturalearth_lowres' data from https://www.naturalearthdata.com/downloads/110m-cultural-vectors/.\n",
      "\n",
      "/tmp/ipykernel_7109/3777996231.py:7: UserWarning:\n",
      "\n",
      "Geometry is in a geographic CRS. Results from 'centroid' are likely incorrect. Use 'GeoSeries.to_crs()' to re-project geometries to a projected CRS before this operation.\n",
      "\n",
      "\n"
     ]
    },
    {
     "data": {
      "text/html": [
       "<div>\n",
       "<style scoped>\n",
       "    .dataframe tbody tr th:only-of-type {\n",
       "        vertical-align: middle;\n",
       "    }\n",
       "\n",
       "    .dataframe tbody tr th {\n",
       "        vertical-align: top;\n",
       "    }\n",
       "\n",
       "    .dataframe thead th {\n",
       "        text-align: right;\n",
       "    }\n",
       "</style>\n",
       "<table border=\"1\" class=\"dataframe\">\n",
       "  <thead>\n",
       "    <tr style=\"text-align: right;\">\n",
       "      <th></th>\n",
       "      <th>Country</th>\n",
       "      <th>Count</th>\n",
       "      <th>Latitude</th>\n",
       "      <th>Longitude</th>\n",
       "    </tr>\n",
       "  </thead>\n",
       "  <tbody>\n",
       "    <tr>\n",
       "      <th>0</th>\n",
       "      <td>Germany</td>\n",
       "      <td>9</td>\n",
       "      <td>51.133723</td>\n",
       "      <td>10.288485</td>\n",
       "    </tr>\n",
       "    <tr>\n",
       "      <th>1</th>\n",
       "      <td>France</td>\n",
       "      <td>6</td>\n",
       "      <td>42.460704</td>\n",
       "      <td>-2.876697</td>\n",
       "    </tr>\n",
       "    <tr>\n",
       "      <th>2</th>\n",
       "      <td>Poland</td>\n",
       "      <td>4</td>\n",
       "      <td>52.148260</td>\n",
       "      <td>19.311014</td>\n",
       "    </tr>\n",
       "    <tr>\n",
       "      <th>3</th>\n",
       "      <td>Ireland</td>\n",
       "      <td>4</td>\n",
       "      <td>53.180591</td>\n",
       "      <td>-8.010237</td>\n",
       "    </tr>\n",
       "    <tr>\n",
       "      <th>4</th>\n",
       "      <td>Brazil</td>\n",
       "      <td>4</td>\n",
       "      <td>-10.806774</td>\n",
       "      <td>-53.054340</td>\n",
       "    </tr>\n",
       "  </tbody>\n",
       "</table>\n",
       "</div>"
      ],
      "text/plain": [
       "   Country  Count   Latitude  Longitude\n",
       "0  Germany      9  51.133723  10.288485\n",
       "1   France      6  42.460704  -2.876697\n",
       "2   Poland      4  52.148260  19.311014\n",
       "3  Ireland      4  53.180591  -8.010237\n",
       "4   Brazil      4 -10.806774 -53.054340"
      ]
     },
     "execution_count": 23,
     "metadata": {},
     "output_type": "execute_result"
    }
   ],
   "source": [
    "import geopandas as gpd\n",
    "\n",
    "# Load the world map data\n",
    "world = gpd.read_file(gpd.datasets.get_path('naturalearth_lowres'))\n",
    "\n",
    "# Mapping each country name to its central coordinates\n",
    "country_coords = world.set_index('name')['geometry'].centroid\n",
    "country_coords = country_coords.to_crs(epsg=4326)  # Convert to latitude/longitude\n",
    "\n",
    "# Create a dataframe for the geospatial data\n",
    "geo_data = pd.DataFrame([{'Country': country, 'Count': origin_counts[country], \n",
    "                          'Latitude': country_coords.loc[country].y, \n",
    "                          'Longitude': country_coords.loc[country].x} \n",
    "                         for country in origin_counts.index if country in country_coords.index])\n",
    "\n",
    "geo_data.head()\n",
    "\n"
   ]
  },
  {
   "cell_type": "code",
   "execution_count": 24,
   "metadata": {},
   "outputs": [
    {
     "data": {
      "application/vnd.plotly.v1+json": {
       "config": {
        "plotlyServerURL": "https://plot.ly"
       },
       "data": [
        {
         "geo": "geo",
         "hovertemplate": "<b>%{hovertext}</b><br><br>Count=%{marker.size}<br>Latitude=%{lat}<br>Longitude=%{lon}<extra></extra>",
         "hovertext": [
          "Germany",
          "France",
          "Poland",
          "Ireland",
          "Brazil",
          "United Kingdom",
          "India",
          "Canada",
          "Russia",
          "Italy",
          "Norway",
          "Australia",
          "Netherlands",
          "Oman",
          "Mexico",
          "Switzerland",
          "China",
          "Spain",
          "Lebanon",
          "Vietnam",
          "Taiwan",
          "Belgium",
          "New Zealand",
          "Greece"
         ],
         "lat": [
          51.13372269040778,
          42.46070432663372,
          52.14826021933187,
          53.18059120995006,
          -10.806773643498916,
          53.91477348053706,
          22.92500640740852,
          61.46907614534896,
          61.98084075071274,
          42.751183052964265,
          69.15685630975351,
          -25.730654779726077,
          52.298700374441786,
          20.611174374229545,
          23.935371902244835,
          46.79173768366762,
          36.555066531858685,
          40.348656106226734,
          33.91182720781994,
          16.657937753254938,
          23.740964979784938,
          50.65244095902296,
          -41.662578757158684,
          39.066715899713955
         ],
         "legendgroup": "",
         "lon": [
          10.288485092742851,
          -2.8766966992706267,
          19.31101430844868,
          -8.010236544877012,
          -53.05434003576711,
          -2.8531353951805545,
          79.59370376325381,
          -98.14238137209708,
          96.87522325596434,
          12.140788372235871,
          15.468119955206761,
          134.50277547536595,
          5.512217100965399,
          56.09867281997542,
          -102.5763495239869,
          8.118300613385486,
          103.88361230063249,
          -3.6170206023873743,
          35.87098632001643,
          106.28584079705195,
          120.97480073748623,
          4.580834113854935,
          172.70192594405574,
          22.719813447095053
         ],
         "marker": {
          "color": "#636efa",
          "size": [
           9,
           6,
           4,
           4,
           4,
           4,
           3,
           3,
           2,
           2,
           2,
           2,
           2,
           1,
           1,
           1,
           1,
           1,
           1,
           1,
           1,
           1,
           1,
           1
          ],
          "sizemode": "area",
          "sizeref": 0.0225,
          "symbol": "circle"
         },
         "mode": "markers",
         "name": "",
         "showlegend": false,
         "type": "scattergeo"
        }
       ],
       "layout": {
        "geo": {
         "center": {},
         "domain": {
          "x": [
           0,
           1
          ],
          "y": [
           0,
           1
          ]
         },
         "projection": {
          "type": "natural earth"
         }
        },
        "legend": {
         "itemsizing": "constant",
         "tracegroupgap": 0
        },
        "template": {
         "data": {
          "bar": [
           {
            "error_x": {
             "color": "#2a3f5f"
            },
            "error_y": {
             "color": "#2a3f5f"
            },
            "marker": {
             "line": {
              "color": "#E5ECF6",
              "width": 0.5
             },
             "pattern": {
              "fillmode": "overlay",
              "size": 10,
              "solidity": 0.2
             }
            },
            "type": "bar"
           }
          ],
          "barpolar": [
           {
            "marker": {
             "line": {
              "color": "#E5ECF6",
              "width": 0.5
             },
             "pattern": {
              "fillmode": "overlay",
              "size": 10,
              "solidity": 0.2
             }
            },
            "type": "barpolar"
           }
          ],
          "carpet": [
           {
            "aaxis": {
             "endlinecolor": "#2a3f5f",
             "gridcolor": "white",
             "linecolor": "white",
             "minorgridcolor": "white",
             "startlinecolor": "#2a3f5f"
            },
            "baxis": {
             "endlinecolor": "#2a3f5f",
             "gridcolor": "white",
             "linecolor": "white",
             "minorgridcolor": "white",
             "startlinecolor": "#2a3f5f"
            },
            "type": "carpet"
           }
          ],
          "choropleth": [
           {
            "colorbar": {
             "outlinewidth": 0,
             "ticks": ""
            },
            "type": "choropleth"
           }
          ],
          "contour": [
           {
            "colorbar": {
             "outlinewidth": 0,
             "ticks": ""
            },
            "colorscale": [
             [
              0,
              "#0d0887"
             ],
             [
              0.1111111111111111,
              "#46039f"
             ],
             [
              0.2222222222222222,
              "#7201a8"
             ],
             [
              0.3333333333333333,
              "#9c179e"
             ],
             [
              0.4444444444444444,
              "#bd3786"
             ],
             [
              0.5555555555555556,
              "#d8576b"
             ],
             [
              0.6666666666666666,
              "#ed7953"
             ],
             [
              0.7777777777777778,
              "#fb9f3a"
             ],
             [
              0.8888888888888888,
              "#fdca26"
             ],
             [
              1,
              "#f0f921"
             ]
            ],
            "type": "contour"
           }
          ],
          "contourcarpet": [
           {
            "colorbar": {
             "outlinewidth": 0,
             "ticks": ""
            },
            "type": "contourcarpet"
           }
          ],
          "heatmap": [
           {
            "colorbar": {
             "outlinewidth": 0,
             "ticks": ""
            },
            "colorscale": [
             [
              0,
              "#0d0887"
             ],
             [
              0.1111111111111111,
              "#46039f"
             ],
             [
              0.2222222222222222,
              "#7201a8"
             ],
             [
              0.3333333333333333,
              "#9c179e"
             ],
             [
              0.4444444444444444,
              "#bd3786"
             ],
             [
              0.5555555555555556,
              "#d8576b"
             ],
             [
              0.6666666666666666,
              "#ed7953"
             ],
             [
              0.7777777777777778,
              "#fb9f3a"
             ],
             [
              0.8888888888888888,
              "#fdca26"
             ],
             [
              1,
              "#f0f921"
             ]
            ],
            "type": "heatmap"
           }
          ],
          "heatmapgl": [
           {
            "colorbar": {
             "outlinewidth": 0,
             "ticks": ""
            },
            "colorscale": [
             [
              0,
              "#0d0887"
             ],
             [
              0.1111111111111111,
              "#46039f"
             ],
             [
              0.2222222222222222,
              "#7201a8"
             ],
             [
              0.3333333333333333,
              "#9c179e"
             ],
             [
              0.4444444444444444,
              "#bd3786"
             ],
             [
              0.5555555555555556,
              "#d8576b"
             ],
             [
              0.6666666666666666,
              "#ed7953"
             ],
             [
              0.7777777777777778,
              "#fb9f3a"
             ],
             [
              0.8888888888888888,
              "#fdca26"
             ],
             [
              1,
              "#f0f921"
             ]
            ],
            "type": "heatmapgl"
           }
          ],
          "histogram": [
           {
            "marker": {
             "pattern": {
              "fillmode": "overlay",
              "size": 10,
              "solidity": 0.2
             }
            },
            "type": "histogram"
           }
          ],
          "histogram2d": [
           {
            "colorbar": {
             "outlinewidth": 0,
             "ticks": ""
            },
            "colorscale": [
             [
              0,
              "#0d0887"
             ],
             [
              0.1111111111111111,
              "#46039f"
             ],
             [
              0.2222222222222222,
              "#7201a8"
             ],
             [
              0.3333333333333333,
              "#9c179e"
             ],
             [
              0.4444444444444444,
              "#bd3786"
             ],
             [
              0.5555555555555556,
              "#d8576b"
             ],
             [
              0.6666666666666666,
              "#ed7953"
             ],
             [
              0.7777777777777778,
              "#fb9f3a"
             ],
             [
              0.8888888888888888,
              "#fdca26"
             ],
             [
              1,
              "#f0f921"
             ]
            ],
            "type": "histogram2d"
           }
          ],
          "histogram2dcontour": [
           {
            "colorbar": {
             "outlinewidth": 0,
             "ticks": ""
            },
            "colorscale": [
             [
              0,
              "#0d0887"
             ],
             [
              0.1111111111111111,
              "#46039f"
             ],
             [
              0.2222222222222222,
              "#7201a8"
             ],
             [
              0.3333333333333333,
              "#9c179e"
             ],
             [
              0.4444444444444444,
              "#bd3786"
             ],
             [
              0.5555555555555556,
              "#d8576b"
             ],
             [
              0.6666666666666666,
              "#ed7953"
             ],
             [
              0.7777777777777778,
              "#fb9f3a"
             ],
             [
              0.8888888888888888,
              "#fdca26"
             ],
             [
              1,
              "#f0f921"
             ]
            ],
            "type": "histogram2dcontour"
           }
          ],
          "mesh3d": [
           {
            "colorbar": {
             "outlinewidth": 0,
             "ticks": ""
            },
            "type": "mesh3d"
           }
          ],
          "parcoords": [
           {
            "line": {
             "colorbar": {
              "outlinewidth": 0,
              "ticks": ""
             }
            },
            "type": "parcoords"
           }
          ],
          "pie": [
           {
            "automargin": true,
            "type": "pie"
           }
          ],
          "scatter": [
           {
            "fillpattern": {
             "fillmode": "overlay",
             "size": 10,
             "solidity": 0.2
            },
            "type": "scatter"
           }
          ],
          "scatter3d": [
           {
            "line": {
             "colorbar": {
              "outlinewidth": 0,
              "ticks": ""
             }
            },
            "marker": {
             "colorbar": {
              "outlinewidth": 0,
              "ticks": ""
             }
            },
            "type": "scatter3d"
           }
          ],
          "scattercarpet": [
           {
            "marker": {
             "colorbar": {
              "outlinewidth": 0,
              "ticks": ""
             }
            },
            "type": "scattercarpet"
           }
          ],
          "scattergeo": [
           {
            "marker": {
             "colorbar": {
              "outlinewidth": 0,
              "ticks": ""
             }
            },
            "type": "scattergeo"
           }
          ],
          "scattergl": [
           {
            "marker": {
             "colorbar": {
              "outlinewidth": 0,
              "ticks": ""
             }
            },
            "type": "scattergl"
           }
          ],
          "scattermapbox": [
           {
            "marker": {
             "colorbar": {
              "outlinewidth": 0,
              "ticks": ""
             }
            },
            "type": "scattermapbox"
           }
          ],
          "scatterpolar": [
           {
            "marker": {
             "colorbar": {
              "outlinewidth": 0,
              "ticks": ""
             }
            },
            "type": "scatterpolar"
           }
          ],
          "scatterpolargl": [
           {
            "marker": {
             "colorbar": {
              "outlinewidth": 0,
              "ticks": ""
             }
            },
            "type": "scatterpolargl"
           }
          ],
          "scatterternary": [
           {
            "marker": {
             "colorbar": {
              "outlinewidth": 0,
              "ticks": ""
             }
            },
            "type": "scatterternary"
           }
          ],
          "surface": [
           {
            "colorbar": {
             "outlinewidth": 0,
             "ticks": ""
            },
            "colorscale": [
             [
              0,
              "#0d0887"
             ],
             [
              0.1111111111111111,
              "#46039f"
             ],
             [
              0.2222222222222222,
              "#7201a8"
             ],
             [
              0.3333333333333333,
              "#9c179e"
             ],
             [
              0.4444444444444444,
              "#bd3786"
             ],
             [
              0.5555555555555556,
              "#d8576b"
             ],
             [
              0.6666666666666666,
              "#ed7953"
             ],
             [
              0.7777777777777778,
              "#fb9f3a"
             ],
             [
              0.8888888888888888,
              "#fdca26"
             ],
             [
              1,
              "#f0f921"
             ]
            ],
            "type": "surface"
           }
          ],
          "table": [
           {
            "cells": {
             "fill": {
              "color": "#EBF0F8"
             },
             "line": {
              "color": "white"
             }
            },
            "header": {
             "fill": {
              "color": "#C8D4E3"
             },
             "line": {
              "color": "white"
             }
            },
            "type": "table"
           }
          ]
         },
         "layout": {
          "annotationdefaults": {
           "arrowcolor": "#2a3f5f",
           "arrowhead": 0,
           "arrowwidth": 1
          },
          "autotypenumbers": "strict",
          "coloraxis": {
           "colorbar": {
            "outlinewidth": 0,
            "ticks": ""
           }
          },
          "colorscale": {
           "diverging": [
            [
             0,
             "#8e0152"
            ],
            [
             0.1,
             "#c51b7d"
            ],
            [
             0.2,
             "#de77ae"
            ],
            [
             0.3,
             "#f1b6da"
            ],
            [
             0.4,
             "#fde0ef"
            ],
            [
             0.5,
             "#f7f7f7"
            ],
            [
             0.6,
             "#e6f5d0"
            ],
            [
             0.7,
             "#b8e186"
            ],
            [
             0.8,
             "#7fbc41"
            ],
            [
             0.9,
             "#4d9221"
            ],
            [
             1,
             "#276419"
            ]
           ],
           "sequential": [
            [
             0,
             "#0d0887"
            ],
            [
             0.1111111111111111,
             "#46039f"
            ],
            [
             0.2222222222222222,
             "#7201a8"
            ],
            [
             0.3333333333333333,
             "#9c179e"
            ],
            [
             0.4444444444444444,
             "#bd3786"
            ],
            [
             0.5555555555555556,
             "#d8576b"
            ],
            [
             0.6666666666666666,
             "#ed7953"
            ],
            [
             0.7777777777777778,
             "#fb9f3a"
            ],
            [
             0.8888888888888888,
             "#fdca26"
            ],
            [
             1,
             "#f0f921"
            ]
           ],
           "sequentialminus": [
            [
             0,
             "#0d0887"
            ],
            [
             0.1111111111111111,
             "#46039f"
            ],
            [
             0.2222222222222222,
             "#7201a8"
            ],
            [
             0.3333333333333333,
             "#9c179e"
            ],
            [
             0.4444444444444444,
             "#bd3786"
            ],
            [
             0.5555555555555556,
             "#d8576b"
            ],
            [
             0.6666666666666666,
             "#ed7953"
            ],
            [
             0.7777777777777778,
             "#fb9f3a"
            ],
            [
             0.8888888888888888,
             "#fdca26"
            ],
            [
             1,
             "#f0f921"
            ]
           ]
          },
          "colorway": [
           "#636efa",
           "#EF553B",
           "#00cc96",
           "#ab63fa",
           "#FFA15A",
           "#19d3f3",
           "#FF6692",
           "#B6E880",
           "#FF97FF",
           "#FECB52"
          ],
          "font": {
           "color": "#2a3f5f"
          },
          "geo": {
           "bgcolor": "white",
           "lakecolor": "white",
           "landcolor": "#E5ECF6",
           "showlakes": true,
           "showland": true,
           "subunitcolor": "white"
          },
          "hoverlabel": {
           "align": "left"
          },
          "hovermode": "closest",
          "mapbox": {
           "style": "light"
          },
          "paper_bgcolor": "white",
          "plot_bgcolor": "#E5ECF6",
          "polar": {
           "angularaxis": {
            "gridcolor": "white",
            "linecolor": "white",
            "ticks": ""
           },
           "bgcolor": "#E5ECF6",
           "radialaxis": {
            "gridcolor": "white",
            "linecolor": "white",
            "ticks": ""
           }
          },
          "scene": {
           "xaxis": {
            "backgroundcolor": "#E5ECF6",
            "gridcolor": "white",
            "gridwidth": 2,
            "linecolor": "white",
            "showbackground": true,
            "ticks": "",
            "zerolinecolor": "white"
           },
           "yaxis": {
            "backgroundcolor": "#E5ECF6",
            "gridcolor": "white",
            "gridwidth": 2,
            "linecolor": "white",
            "showbackground": true,
            "ticks": "",
            "zerolinecolor": "white"
           },
           "zaxis": {
            "backgroundcolor": "#E5ECF6",
            "gridcolor": "white",
            "gridwidth": 2,
            "linecolor": "white",
            "showbackground": true,
            "ticks": "",
            "zerolinecolor": "white"
           }
          },
          "shapedefaults": {
           "line": {
            "color": "#2a3f5f"
           }
          },
          "ternary": {
           "aaxis": {
            "gridcolor": "white",
            "linecolor": "white",
            "ticks": ""
           },
           "baxis": {
            "gridcolor": "white",
            "linecolor": "white",
            "ticks": ""
           },
           "bgcolor": "#E5ECF6",
           "caxis": {
            "gridcolor": "white",
            "linecolor": "white",
            "ticks": ""
           }
          },
          "title": {
           "x": 0.05
          },
          "xaxis": {
           "automargin": true,
           "gridcolor": "white",
           "linecolor": "white",
           "ticks": "",
           "title": {
            "standoff": 15
           },
           "zerolinecolor": "white",
           "zerolinewidth": 2
          },
          "yaxis": {
           "automargin": true,
           "gridcolor": "white",
           "linecolor": "white",
           "ticks": "",
           "title": {
            "standoff": 15
           },
           "zerolinecolor": "white",
           "zerolinewidth": 2
          }
         }
        },
        "title": {
         "text": "Geospatial Distribution of Linux Distributions"
        }
       }
      }
     },
     "metadata": {},
     "output_type": "display_data"
    }
   ],
   "source": [
    "import plotly.express as px\n",
    "\n",
    "# Assuming 'geo_data' is a DataFrame with columns 'Country', 'Count', 'Latitude', 'Longitude'\n",
    "fig = px.scatter_geo(geo_data,\n",
    "                     lat='Latitude',\n",
    "                     lon='Longitude',\n",
    "                     size='Count',  # Adjusts the size of the point based on the count\n",
    "                     hover_name='Country',  # Shows the country name on hover\n",
    "                     projection='natural earth',\n",
    "                     title='Geospatial Distribution of Linux Distributions')\n",
    "\n",
    "fig.show()"
   ]
  },
  {
   "cell_type": "code",
   "execution_count": 145,
   "metadata": {},
   "outputs": [],
   "source": [
    "to_scrape_list = [2002, 2003, 2004, 2005, 2006, 2007, 2008, 2009, 2010]\n",
    "for s in to_scrape_list:\n",
    "    url = f'https://distrowatch.com/index.php?dataspan={s}'\n",
    "    response = requests.get(url)\n",
    "    soup = BeautifulSoup(response.content, 'lxml')\n",
    "    distros = soup.find_all('td', {'class': 'News'})\n",
    "    distros = distros[102:-14]\n",
    "    distributions = []\n",
    "    ids = []\n",
    "    page_hits = []\n",
    "    for idx, distro in enumerate(distros):\n",
    "        if idx % 2 == 0:\n",
    "            distributions.append(distro.get_text())\n",
    "            ids.append(distro.a['href'])\n",
    "        else:\n",
    "            page_hits.append(distro.get_text())\n",
    "    \n",
    "    top_distros = {\n",
    "        'distribution': distributions,\n",
    "        'id': ids,\n",
    "        'page hit(s)': page_hits \n",
    "    }\n",
    "    df = pd.DataFrame(top_distros)\n",
    "    df.to_json(f\"top_distros_{s}.json\", orient=\"records\")"
   ]
  },
  {
   "cell_type": "code",
   "execution_count": 40,
   "metadata": {},
   "outputs": [],
   "source": [
    "to_scrape_list = [2011, 2012, 2013, 2014, 2015, 2016, 2017, 2018, 2019, 2020, 2021, 2022, 52, 26, 13, 4, 1]\n",
    "for s in to_scrape_list:\n",
    "    url = f'https://distrowatch.com/index.php?dataspan={s}'\n",
    "    response = requests.get(url)\n",
    "    soup = BeautifulSoup(response.content, 'html.parser')\n",
    "    distros = soup.find_all('td', {'class': 'phr2'})\n",
    "    hits = soup.find_all('td', {'class': 'phr3'})\n",
    "    distributions = []\n",
    "    ids = []\n",
    "    page_hits = []\n",
    "    for distro in distros:\n",
    "        distributions.append(distro.get_text())\n",
    "        ids.append(distro.a['href'])\n",
    "\n",
    "    for hit in hits:\n",
    "        page_hits.append(int(hit.get_text()))\n",
    "    \n",
    "    top_distros = {\n",
    "        'distribution': distributions,\n",
    "        'id': ids,\n",
    "        'page hit(s)': page_hits \n",
    "    }\n",
    "    df = pd.DataFrame(top_distros)\n",
    "    df.to_json(f\"top_distros_{s}.json\", orient=\"records\")"
   ]
  },
  {
   "cell_type": "code",
   "execution_count": 146,
   "metadata": {},
   "outputs": [
    {
     "data": {
      "text/plain": [
       "[{'distribution': 'MX Linux', 'id': 'mx', 'page hit(s)': 2702},\n",
       " {'distribution': 'Mint', 'id': 'mint', 'page hit(s)': 1999},\n",
       " {'distribution': 'EndeavourOS', 'id': 'endeavour', 'page hit(s)': 1625},\n",
       " {'distribution': 'Debian', 'id': 'debian', 'page hit(s)': 1393},\n",
       " {'distribution': 'Fedora', 'id': 'fedora', 'page hit(s)': 1257},\n",
       " {'distribution': 'Manjaro', 'id': 'manjaro', 'page hit(s)': 1085},\n",
       " {'distribution': 'Ubuntu', 'id': 'ubuntu', 'page hit(s)': 1071},\n",
       " {'distribution': 'Pop!_OS', 'id': 'popos', 'page hit(s)': 884},\n",
       " {'distribution': 'Garuda', 'id': 'garuda', 'page hit(s)': 873},\n",
       " {'distribution': 'openSUSE', 'id': 'opensuse', 'page hit(s)': 738},\n",
       " {'distribution': 'Zorin', 'id': 'zorin', 'page hit(s)': 718},\n",
       " {'distribution': 'AlmaLinux', 'id': 'alma', 'page hit(s)': 605},\n",
       " {'distribution': 'FreeBSD', 'id': 'freebsd', 'page hit(s)': 567},\n",
       " {'distribution': 'KDE neon', 'id': 'kdeneon', 'page hit(s)': 565},\n",
       " {'distribution': 'Nobara', 'id': 'nobara', 'page hit(s)': 528},\n",
       " {'distribution': 'antiX', 'id': 'antix', 'page hit(s)': 511},\n",
       " {'distribution': 'elementary', 'id': 'elementary', 'page hit(s)': 473},\n",
       " {'distribution': 'Lite', 'id': 'lite', 'page hit(s)': 447},\n",
       " {'distribution': 'Vanilla', 'id': 'vanilla', 'page hit(s)': 429},\n",
       " {'distribution': 'Mageia', 'id': 'mageia', 'page hit(s)': 406},\n",
       " {'distribution': 'NixOS', 'id': 'nixos', 'page hit(s)': 397},\n",
       " {'distribution': 'Kali', 'id': 'kali', 'page hit(s)': 346},\n",
       " {'distribution': 'TUXEDO', 'id': 'tuxedo', 'page hit(s)': 346},\n",
       " {'distribution': 'PCLinuxOS', 'id': 'pclinuxos', 'page hit(s)': 341},\n",
       " {'distribution': 'ArcoLinux', 'id': 'arco', 'page hit(s)': 329},\n",
       " {'distribution': 'GhostBSD', 'id': 'ghostbsd', 'page hit(s)': 321},\n",
       " {'distribution': 'Puppy', 'id': 'puppy', 'page hit(s)': 316},\n",
       " {'distribution': 'CachyOS', 'id': 'cachyos', 'page hit(s)': 306},\n",
       " {'distribution': 'Kubuntu', 'id': 'kubuntu', 'page hit(s)': 296},\n",
       " {'distribution': 'BackBox', 'id': 'backbox', 'page hit(s)': 287},\n",
       " {'distribution': 'Relianoid', 'id': 'relianoid', 'page hit(s)': 282},\n",
       " {'distribution': 'BigLinux', 'id': 'biglinux', 'page hit(s)': 273},\n",
       " {'distribution': 'SparkyLinux', 'id': 'sparky', 'page hit(s)': 271},\n",
       " {'distribution': 'Devuan', 'id': 'devuan', 'page hit(s)': 270},\n",
       " {'distribution': 'Peppermint', 'id': 'peppermint', 'page hit(s)': 268},\n",
       " {'distribution': 'Q4OS', 'id': 'q4os', 'page hit(s)': 265},\n",
       " {'distribution': 'MakuluLinux', 'id': 'makulu', 'page hit(s)': 252},\n",
       " {'distribution': 'Solus', 'id': 'solus', 'page hit(s)': 246},\n",
       " {'distribution': 'Tails', 'id': 'tails', 'page hit(s)': 245},\n",
       " {'distribution': 'XeroLinux', 'id': 'xero', 'page hit(s)': 237},\n",
       " {'distribution': 'Alpine', 'id': 'alpine', 'page hit(s)': 236},\n",
       " {'distribution': 'Br OS', 'id': 'bros', 'page hit(s)': 236},\n",
       " {'distribution': 'SmartOS', 'id': 'smartos', 'page hit(s)': 236},\n",
       " {'distribution': 'ALT', 'id': 'alt', 'page hit(s)': 228},\n",
       " {'distribution': 'Red Hat', 'id': 'redhat', 'page hit(s)': 226},\n",
       " {'distribution': 'TrueNAS', 'id': 'truenas', 'page hit(s)': 226},\n",
       " {'distribution': 'EasyOS', 'id': 'easyos', 'page hit(s)': 224},\n",
       " {'distribution': 'Slackware', 'id': 'slackware', 'page hit(s)': 219},\n",
       " {'distribution': 'Gnoppix', 'id': 'gnoppix', 'page hit(s)': 218},\n",
       " {'distribution': 'blendOS', 'id': 'blendos', 'page hit(s)': 216},\n",
       " {'distribution': 'EuroLinux', 'id': 'eurolinux', 'page hit(s)': 216},\n",
       " {'distribution': 'Voyager', 'id': 'voyager', 'page hit(s)': 209},\n",
       " {'distribution': 'Bodhi', 'id': 'bodhi', 'page hit(s)': 200},\n",
       " {'distribution': 'ReactOS', 'id': 'reactos', 'page hit(s)': 199},\n",
       " {'distribution': 'Oracle', 'id': 'oracle', 'page hit(s)': 196},\n",
       " {'distribution': 'Lubuntu', 'id': 'lubuntu', 'page hit(s)': 185},\n",
       " {'distribution': 'CentOS', 'id': 'centos', 'page hit(s)': 182},\n",
       " {'distribution': 'PureOS', 'id': 'pureos', 'page hit(s)': 182},\n",
       " {'distribution': 'Parrot', 'id': 'parrot', 'page hit(s)': 178},\n",
       " {'distribution': 'Rocky', 'id': 'rocky', 'page hit(s)': 177},\n",
       " {'distribution': 'KaOS', 'id': 'kaos', 'page hit(s)': 175},\n",
       " {'distribution': 'Bluestar', 'id': 'bluestar', 'page hit(s)': 171},\n",
       " {'distribution': 'OpenBSD', 'id': 'openbsd', 'page hit(s)': 170},\n",
       " {'distribution': 'Regata', 'id': 'regata', 'page hit(s)': 169},\n",
       " {'distribution': 'openmamba', 'id': 'openmamba', 'page hit(s)': 167},\n",
       " {'distribution': 'Xubuntu', 'id': 'xubuntu', 'page hit(s)': 166},\n",
       " {'distribution': 'Gentoo', 'id': 'gentoo', 'page hit(s)': 165},\n",
       " {'distribution': 'Arch', 'id': 'arch', 'page hit(s)': 164},\n",
       " {'distribution': 'Plop', 'id': 'plop', 'page hit(s)': 160},\n",
       " {'distribution': 'Mabox', 'id': 'mabox', 'page hit(s)': 159},\n",
       " {'distribution': 'SpiralLinux', 'id': 'spiral', 'page hit(s)': 159},\n",
       " {'distribution': 'Artix', 'id': 'artix', 'page hit(s)': 148},\n",
       " {'distribution': 'Athena', 'id': 'athena', 'page hit(s)': 148},\n",
       " {'distribution': 'Clonezilla', 'id': 'clonezilla', 'page hit(s)': 148},\n",
       " {'distribution': 'NuTyX', 'id': 'nutyx', 'page hit(s)': 140},\n",
       " {'distribution': 'OSGeoLive', 'id': 'osgeo', 'page hit(s)': 138},\n",
       " {'distribution': 'wattOS', 'id': 'wattos', 'page hit(s)': 135},\n",
       " {'distribution': 'Nitrux', 'id': 'nitrux', 'page hit(s)': 132},\n",
       " {'distribution': 'Archcraft', 'id': 'archcraft', 'page hit(s)': 131},\n",
       " {'distribution': 'Linuxfx', 'id': 'linuxfx', 'page hit(s)': 131},\n",
       " {'distribution': 'LXLE', 'id': 'lxle', 'page hit(s)': 129},\n",
       " {'distribution': 'NetBSD', 'id': 'netbsd', 'page hit(s)': 128},\n",
       " {'distribution': 'RebornOS', 'id': 'rebornos', 'page hit(s)': 127},\n",
       " {'distribution': 'Tiny Core', 'id': 'tinycore', 'page hit(s)': 127},\n",
       " {'distribution': 'Haiku', 'id': 'haiku', 'page hit(s)': 126},\n",
       " {'distribution': 'Kodachi', 'id': 'kodachi', 'page hit(s)': 126},\n",
       " {'distribution': 'Murena', 'id': 'murena', 'page hit(s)': 126},\n",
       " {'distribution': 'Berry', 'id': 'berry', 'page hit(s)': 125},\n",
       " {'distribution': 'Gecko', 'id': 'gecko', 'page hit(s)': 125},\n",
       " {'distribution': 'Rhino', 'id': 'rhino', 'page hit(s)': 125},\n",
       " {'distribution': 'UBports', 'id': 'ubports', 'page hit(s)': 124},\n",
       " {'distribution': 'Ubuntu MATE', 'id': 'ubuntumate', 'page hit(s)': 120},\n",
       " {'distribution': 'Clear', 'id': 'clear', 'page hit(s)': 118},\n",
       " {'distribution': 'OpenMandriva', 'id': 'openmandriva', 'page hit(s)': 118},\n",
       " {'distribution': 'Neptune', 'id': 'neptune', 'page hit(s)': 116},\n",
       " {'distribution': 'Ubuntu Studio', 'id': 'ubuntustudio', 'page hit(s)': 115},\n",
       " {'distribution': 'Slax', 'id': 'slax', 'page hit(s)': 114},\n",
       " {'distribution': 'Slackel', 'id': 'slackel', 'page hit(s)': 113},\n",
       " {'distribution': 'Feren', 'id': 'ferenos', 'page hit(s)': 112},\n",
       " {'distribution': 'Qubes', 'id': 'qubes', 'page hit(s)': 112}]"
      ]
     },
     "execution_count": 146,
     "metadata": {},
     "output_type": "execute_result"
    }
   ],
   "source": [
    "import json\n",
    "\n",
    "# Load the data from the provided files\n",
    "file_paths = {\n",
    "    \"1 Week Ago\": 'top_distros_1_week_ago.json',\n",
    "    \"1 Month Ago\": 'top_distros_1_month_ago.json',\n",
    "    \"3 Months Ago\": 'top_distros_3_months_ago.json',\n",
    "    \"6 Months Ago\": 'top_distros_6_months_ago.json',\n",
    "    \"12 Months Ago\": 'top_distros_12_months_ago.json',\n",
    "    \"2022\": 'top_distros_2022.json',\n",
    "    \"2021\": 'top_distros_2021.json',\n",
    "    \"2020\": 'top_distros_2020.json',\n",
    "    \"2019\": 'top_distros_2019.json',\n",
    "    \"2018\": 'top_distros_2018.json',\n",
    "    \"2017\": 'top_distros_2017.json',\n",
    "    \"2016\": 'top_distros_2016.json',\n",
    "    \"2015\": 'top_distros_2015.json',\n",
    "    \"2014\": 'top_distros_2014.json',\n",
    "    \"2013\": 'top_distros_2013.json',\n",
    "    \"2012\": 'top_distros_2012.json',\n",
    "    \"2011\": 'top_distros_2011.json',\n",
    "    \"2010\": 'top_distros_2010.json',\n",
    "    \"2009\": 'top_distros_2009.json',\n",
    "    \"2008\": 'top_distros_2008.json',\n",
    "    \"2007\": 'top_distros_2007.json',\n",
    "    \"2006\": 'top_distros_2006.json',\n",
    "    \"2005\": 'top_distros_2005.json',\n",
    "    \"2004\": 'top_distros_2004.json',\n",
    "    \"2003\": 'top_distros_2003.json',\n",
    "    \"2002\": 'top_distros_2002.json',\n",
    "}\n",
    "\n",
    "# Read and parse the JSON data from each file\n",
    "data = {}\n",
    "for time_period, path in file_paths.items():\n",
    "    with open(path, 'r') as file:\n",
    "        data[time_period] = json.load(file)\n",
    "\n",
    "# Display the structure of the loaded data to understand its format\n",
    "data[\"1 Month Ago\"]\n",
    "\n"
   ]
  },
  {
   "cell_type": "code",
   "execution_count": 151,
   "metadata": {},
   "outputs": [],
   "source": [
    "import pandas as pd\n",
    "import matplotlib.pyplot as plt\n",
    "\n",
    "# Convert the data to a more usable format\n",
    "# Creating a DataFrame for each time period\n",
    "df_list = []\n",
    "for time_period, distros in data.items():\n",
    "    df = pd.DataFrame(distros)\n",
    "    df.set_index('distribution', inplace=True)\n",
    "    df.drop(columns=['id'], inplace=True)\n",
    "    df.rename(columns={'page hit(s)': time_period}, inplace=True)\n",
    "    df_list.append(df)\n",
    "\n",
    "# Merging the dataframes into a single one for analysis\n",
    "merged_df = pd.concat(df_list, axis=1, sort=False)\n",
    "\n",
    "\n"
   ]
  },
  {
   "cell_type": "code",
   "execution_count": 152,
   "metadata": {},
   "outputs": [
    {
     "data": {
      "text/plain": [
       "\" # Plotting the data\\nplt.figure(figsize=(15, 8))\\nfor distribution in filtered_df.index:\\n    plt.plot(filtered_df.columns, filtered_df.loc[distribution, :], marker='o', label=distribution)\\n\\nplt.title('Popularity Timeline of Top Linux Distributions')\\nplt.xlabel('Time Period')\\nplt.ylabel('Page Hits')\\nplt.xticks(rotation=45)\\nplt.legend()\\nplt.grid(True)\\nplt.show()\\n \""
      ]
     },
     "execution_count": 152,
     "metadata": {},
     "output_type": "execute_result"
    }
   ],
   "source": [
    "# Selecting top distributions for clarity in the plot\n",
    "# We take top 10 distributions from \"1 Month Ago\" data\n",
    "top_distributions = merged_df['1 Month Ago'].sort_values(ascending=False).head(15).index\n",
    "\n",
    "# Filtering data for only top distributions\n",
    "filtered_df = merged_df.loc[top_distributions]\n",
    "\n",
    "# Reversing the columns to have the oldest data first\n",
    "filtered_df = filtered_df.iloc[:, ::-1]\n",
    "\n",
    "\"\"\" # Plotting the data\n",
    "plt.figure(figsize=(15, 8))\n",
    "for distribution in filtered_df.index:\n",
    "    plt.plot(filtered_df.columns, filtered_df.loc[distribution, :], marker='o', label=distribution)\n",
    "\n",
    "plt.title('Popularity Timeline of Top Linux Distributions')\n",
    "plt.xlabel('Time Period')\n",
    "plt.ylabel('Page Hits')\n",
    "plt.xticks(rotation=45)\n",
    "plt.legend()\n",
    "plt.grid(True)\n",
    "plt.show()\n",
    " \"\"\""
   ]
  },
  {
   "cell_type": "code",
   "execution_count": 153,
   "metadata": {},
   "outputs": [
    {
     "data": {
      "application/vnd.plotly.v1+json": {
       "config": {
        "plotlyServerURL": "https://plot.ly"
       },
       "data": [
        {
         "hoverinfo": "all",
         "hovertemplate": "distribution=MX Linux<br>index=%{x}<br>Page Hits=%{y}<extra></extra>",
         "legendgroup": "MX Linux",
         "line": {
          "color": "#636efa",
          "dash": "solid"
         },
         "marker": {
          "symbol": "circle"
         },
         "mode": "lines+markers",
         "name": "MX Linux",
         "orientation": "v",
         "showlegend": true,
         "type": "scatter",
         "x": [
          "2002",
          "2003",
          "2004",
          "2005",
          "2006",
          "2007",
          "2008",
          "2009",
          "2010",
          "2011",
          "2012",
          "2013",
          "2014",
          "2015",
          "2016",
          "2017",
          "2018",
          "2019",
          "2020",
          "2021",
          "2022",
          "12 Months Ago",
          "6 Months Ago",
          "3 Months Ago",
          "1 Month Ago",
          "1 Week Ago"
         ],
         "xaxis": "x",
         "y": [
          null,
          null,
          null,
          null,
          null,
          null,
          null,
          null,
          null,
          null,
          null,
          null,
          null,
          null,
          null,
          443,
          1694,
          4611,
          3909,
          3384,
          2791,
          2710,
          2657,
          2492,
          2702,
          2679
         ],
         "yaxis": "y"
        },
        {
         "hoverinfo": "all",
         "hovertemplate": "distribution=Mint<br>index=%{x}<br>Page Hits=%{y}<extra></extra>",
         "legendgroup": "Mint",
         "line": {
          "color": "#EF553B",
          "dash": "solid"
         },
         "marker": {
          "symbol": "circle"
         },
         "mode": "lines+markers",
         "name": "Mint",
         "orientation": "v",
         "showlegend": true,
         "type": "scatter",
         "x": [
          "2002",
          "2003",
          "2004",
          "2005",
          "2006",
          "2007",
          "2008",
          "2009",
          "2010",
          "2011",
          "2012",
          "2013",
          "2014",
          "2015",
          "2016",
          "2017",
          "2018",
          "2019",
          "2020",
          "2021",
          "2022",
          "12 Months Ago",
          "6 Months Ago",
          "3 Months Ago",
          "1 Month Ago",
          "1 Week Ago"
         ],
         "xaxis": "x",
         "y": [
          null,
          null,
          null,
          null,
          "135",
          "991",
          "1458",
          "1408",
          "1487",
          2618,
          3752,
          3614,
          2897,
          3084,
          2905,
          2757,
          2495,
          2142,
          2345,
          2067,
          2154,
          2104,
          2128,
          2146,
          1999,
          1975
         ],
         "yaxis": "y"
        },
        {
         "hoverinfo": "all",
         "hovertemplate": "distribution=EndeavourOS<br>index=%{x}<br>Page Hits=%{y}<extra></extra>",
         "legendgroup": "EndeavourOS",
         "line": {
          "color": "#00cc96",
          "dash": "solid"
         },
         "marker": {
          "symbol": "circle"
         },
         "mode": "lines+markers",
         "name": "EndeavourOS",
         "orientation": "v",
         "showlegend": true,
         "type": "scatter",
         "x": [
          "2002",
          "2003",
          "2004",
          "2005",
          "2006",
          "2007",
          "2008",
          "2009",
          "2010",
          "2011",
          "2012",
          "2013",
          "2014",
          "2015",
          "2016",
          "2017",
          "2018",
          "2019",
          "2020",
          "2021",
          "2022",
          "12 Months Ago",
          "6 Months Ago",
          "3 Months Ago",
          "1 Month Ago",
          "1 Week Ago"
         ],
         "xaxis": "x",
         "y": [
          null,
          null,
          null,
          null,
          null,
          null,
          null,
          null,
          null,
          null,
          null,
          null,
          null,
          null,
          null,
          null,
          null,
          170,
          763,
          2601,
          2460,
          2012,
          1711,
          1547,
          1625,
          1618
         ],
         "yaxis": "y"
        },
        {
         "hoverinfo": "all",
         "hovertemplate": "distribution=Debian<br>index=%{x}<br>Page Hits=%{y}<extra></extra>",
         "legendgroup": "Debian",
         "line": {
          "color": "#ab63fa",
          "dash": "solid"
         },
         "marker": {
          "symbol": "circle"
         },
         "mode": "lines+markers",
         "name": "Debian",
         "orientation": "v",
         "showlegend": true,
         "type": "scatter",
         "x": [
          "2002",
          "2003",
          "2004",
          "2005",
          "2006",
          "2007",
          "2008",
          "2009",
          "2010",
          "2011",
          "2012",
          "2013",
          "2014",
          "2015",
          "2016",
          "2017",
          "2018",
          "2019",
          "2020",
          "2021",
          "2022",
          "12 Months Ago",
          "6 Months Ago",
          "3 Months Ago",
          "1 Month Ago",
          "1 Week Ago"
         ],
         "xaxis": "x",
         "y": [
          "311",
          "428",
          "832",
          "867",
          "819",
          "953",
          "1038",
          "1034",
          "1067",
          1405,
          1338,
          1831,
          1678,
          1810,
          1819,
          1903,
          1259,
          1507,
          1424,
          1274,
          1046,
          1336,
          1565,
          1458,
          1393,
          1410
         ],
         "yaxis": "y"
        },
        {
         "hoverinfo": "all",
         "hovertemplate": "distribution=Fedora<br>index=%{x}<br>Page Hits=%{y}<extra></extra>",
         "legendgroup": "Fedora",
         "line": {
          "color": "#FFA15A",
          "dash": "solid"
         },
         "marker": {
          "symbol": "circle"
         },
         "mode": "lines+markers",
         "name": "Fedora",
         "orientation": "v",
         "showlegend": true,
         "type": "scatter",
         "x": [
          "2002",
          "2003",
          "2004",
          "2005",
          "2006",
          "2007",
          "2008",
          "2009",
          "2010",
          "2011",
          "2012",
          "2013",
          "2014",
          "2015",
          "2016",
          "2017",
          "2018",
          "2019",
          "2020",
          "2021",
          "2022",
          "12 Months Ago",
          "6 Months Ago",
          "3 Months Ago",
          "1 Month Ago",
          "1 Week Ago"
         ],
         "xaxis": "x",
         "y": [
          null,
          null,
          "1,202",
          "1211",
          "1444",
          "1332",
          "1376",
          "1569",
          "1517",
          1628,
          1560,
          1480,
          1268,
          1148,
          1081,
          972,
          900,
          1000,
          1028,
          997,
          1152,
          1047,
          909,
          989,
          1257,
          1100
         ],
         "yaxis": "y"
        },
        {
         "hoverinfo": "all",
         "hovertemplate": "distribution=Manjaro<br>index=%{x}<br>Page Hits=%{y}<extra></extra>",
         "legendgroup": "Manjaro",
         "line": {
          "color": "#19d3f3",
          "dash": "solid"
         },
         "marker": {
          "symbol": "circle"
         },
         "mode": "lines+markers",
         "name": "Manjaro",
         "orientation": "v",
         "showlegend": true,
         "type": "scatter",
         "x": [
          "2002",
          "2003",
          "2004",
          "2005",
          "2006",
          "2007",
          "2008",
          "2009",
          "2010",
          "2011",
          "2012",
          "2013",
          "2014",
          "2015",
          "2016",
          "2017",
          "2018",
          "2019",
          "2020",
          "2021",
          "2022",
          "12 Months Ago",
          "6 Months Ago",
          "3 Months Ago",
          "1 Month Ago",
          "1 Week Ago"
         ],
         "xaxis": "x",
         "y": [
          null,
          null,
          null,
          null,
          null,
          null,
          null,
          null,
          null,
          null,
          228,
          1076,
          638,
          1001,
          1145,
          1764,
          3778,
          2847,
          2690,
          2302,
          1545,
          1369,
          1183,
          1202,
          1085,
          1079
         ],
         "yaxis": "y"
        },
        {
         "hoverinfo": "all",
         "hovertemplate": "distribution=Ubuntu<br>index=%{x}<br>Page Hits=%{y}<extra></extra>",
         "legendgroup": "Ubuntu",
         "line": {
          "color": "#FF6692",
          "dash": "solid"
         },
         "marker": {
          "symbol": "circle"
         },
         "mode": "lines+markers",
         "name": "Ubuntu",
         "orientation": "v",
         "showlegend": true,
         "type": "scatter",
         "x": [
          "2002",
          "2003",
          "2004",
          "2005",
          "2006",
          "2007",
          "2008",
          "2009",
          "2010",
          "2011",
          "2012",
          "2013",
          "2014",
          "2015",
          "2016",
          "2017",
          "2018",
          "2019",
          "2020",
          "2021",
          "2022",
          "12 Months Ago",
          "6 Months Ago",
          "3 Months Ago",
          "1 Month Ago",
          "1 Week Ago"
         ],
         "xaxis": "x",
         "y": [
          null,
          null,
          "300",
          "2546",
          "2640",
          "2519",
          "2325",
          null,
          "2185",
          2192,
          2045,
          1933,
          2022,
          1617,
          1576,
          1498,
          1506,
          1465,
          1602,
          1339,
          1215,
          1082,
          1029,
          1111,
          1071,
          1052
         ],
         "yaxis": "y"
        },
        {
         "hoverinfo": "all",
         "hovertemplate": "distribution=Pop!_OS<br>index=%{x}<br>Page Hits=%{y}<extra></extra>",
         "legendgroup": "Pop!_OS",
         "line": {
          "color": "#B6E880",
          "dash": "solid"
         },
         "marker": {
          "symbol": "circle"
         },
         "mode": "lines+markers",
         "name": "Pop!_OS",
         "orientation": "v",
         "showlegend": true,
         "type": "scatter",
         "x": [
          "2002",
          "2003",
          "2004",
          "2005",
          "2006",
          "2007",
          "2008",
          "2009",
          "2010",
          "2011",
          "2012",
          "2013",
          "2014",
          "2015",
          "2016",
          "2017",
          "2018",
          "2019",
          "2020",
          "2021",
          "2022",
          "12 Months Ago",
          "6 Months Ago",
          "3 Months Ago",
          "1 Month Ago",
          "1 Week Ago"
         ],
         "xaxis": "x",
         "y": [
          null,
          null,
          null,
          null,
          null,
          null,
          null,
          null,
          null,
          null,
          null,
          null,
          null,
          null,
          null,
          null,
          218,
          530,
          1492,
          1668,
          1261,
          1049,
          902,
          835,
          884,
          843
         ],
         "yaxis": "y"
        },
        {
         "hoverinfo": "all",
         "hovertemplate": "distribution=Garuda<br>index=%{x}<br>Page Hits=%{y}<extra></extra>",
         "legendgroup": "Garuda",
         "line": {
          "color": "#FF97FF",
          "dash": "solid"
         },
         "marker": {
          "symbol": "circle"
         },
         "mode": "lines+markers",
         "name": "Garuda",
         "orientation": "v",
         "showlegend": true,
         "type": "scatter",
         "x": [
          "2002",
          "2003",
          "2004",
          "2005",
          "2006",
          "2007",
          "2008",
          "2009",
          "2010",
          "2011",
          "2012",
          "2013",
          "2014",
          "2015",
          "2016",
          "2017",
          "2018",
          "2019",
          "2020",
          "2021",
          "2022",
          "12 Months Ago",
          "6 Months Ago",
          "3 Months Ago",
          "1 Month Ago",
          "1 Week Ago"
         ],
         "xaxis": "x",
         "y": [
          null,
          null,
          null,
          null,
          null,
          null,
          null,
          null,
          null,
          null,
          null,
          null,
          null,
          null,
          null,
          null,
          null,
          null,
          194,
          1081,
          879,
          624,
          584,
          619,
          873,
          610
         ],
         "yaxis": "y"
        },
        {
         "hoverinfo": "all",
         "hovertemplate": "distribution=openSUSE<br>index=%{x}<br>Page Hits=%{y}<extra></extra>",
         "legendgroup": "openSUSE",
         "line": {
          "color": "#FECB52",
          "dash": "solid"
         },
         "marker": {
          "symbol": "circle"
         },
         "mode": "lines+markers",
         "name": "openSUSE",
         "orientation": "v",
         "showlegend": true,
         "type": "scatter",
         "x": [
          "2002",
          "2003",
          "2004",
          "2005",
          "2006",
          "2007",
          "2008",
          "2009",
          "2010",
          "2011",
          "2012",
          "2013",
          "2014",
          "2015",
          "2016",
          "2017",
          "2018",
          "2019",
          "2020",
          "2021",
          "2022",
          "12 Months Ago",
          "6 Months Ago",
          "3 Months Ago",
          "1 Month Ago",
          "1 Week Ago"
         ],
         "xaxis": "x",
         "y": [
          null,
          null,
          null,
          null,
          "2027",
          "1596",
          "1740",
          "1367",
          "1231",
          1386,
          1348,
          1357,
          1278,
          1341,
          1277,
          997,
          768,
          783,
          761,
          818,
          749,
          751,
          778,
          715,
          738,
          713
         ],
         "yaxis": "y"
        },
        {
         "hoverinfo": "all",
         "hovertemplate": "distribution=Zorin<br>index=%{x}<br>Page Hits=%{y}<extra></extra>",
         "legendgroup": "Zorin",
         "line": {
          "color": "#636efa",
          "dash": "solid"
         },
         "marker": {
          "symbol": "circle"
         },
         "mode": "lines+markers",
         "name": "Zorin",
         "orientation": "v",
         "showlegend": true,
         "type": "scatter",
         "x": [
          "2002",
          "2003",
          "2004",
          "2005",
          "2006",
          "2007",
          "2008",
          "2009",
          "2010",
          "2011",
          "2012",
          "2013",
          "2014",
          "2015",
          "2016",
          "2017",
          "2018",
          "2019",
          "2020",
          "2021",
          "2022",
          "12 Months Ago",
          "6 Months Ago",
          "3 Months Ago",
          "1 Month Ago",
          "1 Week Ago"
         ],
         "xaxis": "x",
         "y": [
          null,
          null,
          null,
          null,
          null,
          null,
          null,
          null,
          "218",
          457,
          715,
          669,
          913,
          577,
          944,
          856,
          642,
          879,
          889,
          813,
          757,
          643,
          652,
          616,
          718,
          706
         ],
         "yaxis": "y"
        },
        {
         "hoverinfo": "all",
         "hovertemplate": "distribution=AlmaLinux<br>index=%{x}<br>Page Hits=%{y}<extra></extra>",
         "legendgroup": "AlmaLinux",
         "line": {
          "color": "#EF553B",
          "dash": "solid"
         },
         "marker": {
          "symbol": "circle"
         },
         "mode": "lines+markers",
         "name": "AlmaLinux",
         "orientation": "v",
         "showlegend": true,
         "type": "scatter",
         "x": [
          "2002",
          "2003",
          "2004",
          "2005",
          "2006",
          "2007",
          "2008",
          "2009",
          "2010",
          "2011",
          "2012",
          "2013",
          "2014",
          "2015",
          "2016",
          "2017",
          "2018",
          "2019",
          "2020",
          "2021",
          "2022",
          "12 Months Ago",
          "6 Months Ago",
          "3 Months Ago",
          "1 Month Ago",
          "1 Week Ago"
         ],
         "xaxis": "x",
         "y": [
          null,
          null,
          null,
          null,
          null,
          null,
          null,
          null,
          null,
          null,
          null,
          null,
          null,
          null,
          null,
          null,
          null,
          null,
          null,
          263,
          390,
          386,
          341,
          360,
          605,
          853
         ],
         "yaxis": "y"
        },
        {
         "hoverinfo": "all",
         "hovertemplate": "distribution=FreeBSD<br>index=%{x}<br>Page Hits=%{y}<extra></extra>",
         "legendgroup": "FreeBSD",
         "line": {
          "color": "#00cc96",
          "dash": "solid"
         },
         "marker": {
          "symbol": "circle"
         },
         "mode": "lines+markers",
         "name": "FreeBSD",
         "orientation": "v",
         "showlegend": true,
         "type": "scatter",
         "x": [
          "2002",
          "2003",
          "2004",
          "2005",
          "2006",
          "2007",
          "2008",
          "2009",
          "2010",
          "2011",
          "2012",
          "2013",
          "2014",
          "2015",
          "2016",
          "2017",
          "2018",
          "2019",
          "2020",
          "2021",
          "2022",
          "12 Months Ago",
          "6 Months Ago",
          "3 Months Ago",
          "1 Month Ago",
          "1 Week Ago"
         ],
         "xaxis": "x",
         "y": [
          null,
          null,
          "290",
          "460",
          "499",
          "412",
          "515",
          "544",
          "517",
          532,
          572,
          645,
          622,
          402,
          466,
          351,
          357,
          392,
          415,
          402,
          370,
          364,
          355,
          422,
          567,
          638
         ],
         "yaxis": "y"
        },
        {
         "hoverinfo": "all",
         "hovertemplate": "distribution=KDE neon<br>index=%{x}<br>Page Hits=%{y}<extra></extra>",
         "legendgroup": "KDE neon",
         "line": {
          "color": "#ab63fa",
          "dash": "solid"
         },
         "marker": {
          "symbol": "circle"
         },
         "mode": "lines+markers",
         "name": "KDE neon",
         "orientation": "v",
         "showlegend": true,
         "type": "scatter",
         "x": [
          "2002",
          "2003",
          "2004",
          "2005",
          "2006",
          "2007",
          "2008",
          "2009",
          "2010",
          "2011",
          "2012",
          "2013",
          "2014",
          "2015",
          "2016",
          "2017",
          "2018",
          "2019",
          "2020",
          "2021",
          "2022",
          "12 Months Ago",
          "6 Months Ago",
          "3 Months Ago",
          "1 Month Ago",
          "1 Week Ago"
         ],
         "xaxis": "x",
         "y": [
          null,
          null,
          null,
          null,
          null,
          null,
          null,
          null,
          null,
          null,
          null,
          null,
          null,
          null,
          238,
          436,
          499,
          684,
          886,
          713,
          605,
          544,
          497,
          488,
          565,
          556
         ],
         "yaxis": "y"
        },
        {
         "hoverinfo": "all",
         "hovertemplate": "distribution=Nobara<br>index=%{x}<br>Page Hits=%{y}<extra></extra>",
         "legendgroup": "Nobara",
         "line": {
          "color": "#FFA15A",
          "dash": "solid"
         },
         "marker": {
          "symbol": "circle"
         },
         "mode": "lines+markers",
         "name": "Nobara",
         "orientation": "v",
         "showlegend": true,
         "type": "scatter",
         "x": [
          "2002",
          "2003",
          "2004",
          "2005",
          "2006",
          "2007",
          "2008",
          "2009",
          "2010",
          "2011",
          "2012",
          "2013",
          "2014",
          "2015",
          "2016",
          "2017",
          "2018",
          "2019",
          "2020",
          "2021",
          "2022",
          "12 Months Ago",
          "6 Months Ago",
          "3 Months Ago",
          "1 Month Ago",
          "1 Week Ago"
         ],
         "xaxis": "x",
         "y": [
          null,
          null,
          null,
          null,
          null,
          null,
          null,
          null,
          null,
          null,
          null,
          null,
          null,
          null,
          null,
          null,
          null,
          null,
          null,
          null,
          null,
          387,
          477,
          494,
          528,
          537
         ],
         "yaxis": "y"
        }
       ],
       "layout": {
        "legend": {
         "title": {
          "text": "Distribution"
         },
         "tracegroupgap": 0
        },
        "template": {
         "data": {
          "bar": [
           {
            "error_x": {
             "color": "#2a3f5f"
            },
            "error_y": {
             "color": "#2a3f5f"
            },
            "marker": {
             "line": {
              "color": "#E5ECF6",
              "width": 0.5
             },
             "pattern": {
              "fillmode": "overlay",
              "size": 10,
              "solidity": 0.2
             }
            },
            "type": "bar"
           }
          ],
          "barpolar": [
           {
            "marker": {
             "line": {
              "color": "#E5ECF6",
              "width": 0.5
             },
             "pattern": {
              "fillmode": "overlay",
              "size": 10,
              "solidity": 0.2
             }
            },
            "type": "barpolar"
           }
          ],
          "carpet": [
           {
            "aaxis": {
             "endlinecolor": "#2a3f5f",
             "gridcolor": "white",
             "linecolor": "white",
             "minorgridcolor": "white",
             "startlinecolor": "#2a3f5f"
            },
            "baxis": {
             "endlinecolor": "#2a3f5f",
             "gridcolor": "white",
             "linecolor": "white",
             "minorgridcolor": "white",
             "startlinecolor": "#2a3f5f"
            },
            "type": "carpet"
           }
          ],
          "choropleth": [
           {
            "colorbar": {
             "outlinewidth": 0,
             "ticks": ""
            },
            "type": "choropleth"
           }
          ],
          "contour": [
           {
            "colorbar": {
             "outlinewidth": 0,
             "ticks": ""
            },
            "colorscale": [
             [
              0,
              "#0d0887"
             ],
             [
              0.1111111111111111,
              "#46039f"
             ],
             [
              0.2222222222222222,
              "#7201a8"
             ],
             [
              0.3333333333333333,
              "#9c179e"
             ],
             [
              0.4444444444444444,
              "#bd3786"
             ],
             [
              0.5555555555555556,
              "#d8576b"
             ],
             [
              0.6666666666666666,
              "#ed7953"
             ],
             [
              0.7777777777777778,
              "#fb9f3a"
             ],
             [
              0.8888888888888888,
              "#fdca26"
             ],
             [
              1,
              "#f0f921"
             ]
            ],
            "type": "contour"
           }
          ],
          "contourcarpet": [
           {
            "colorbar": {
             "outlinewidth": 0,
             "ticks": ""
            },
            "type": "contourcarpet"
           }
          ],
          "heatmap": [
           {
            "colorbar": {
             "outlinewidth": 0,
             "ticks": ""
            },
            "colorscale": [
             [
              0,
              "#0d0887"
             ],
             [
              0.1111111111111111,
              "#46039f"
             ],
             [
              0.2222222222222222,
              "#7201a8"
             ],
             [
              0.3333333333333333,
              "#9c179e"
             ],
             [
              0.4444444444444444,
              "#bd3786"
             ],
             [
              0.5555555555555556,
              "#d8576b"
             ],
             [
              0.6666666666666666,
              "#ed7953"
             ],
             [
              0.7777777777777778,
              "#fb9f3a"
             ],
             [
              0.8888888888888888,
              "#fdca26"
             ],
             [
              1,
              "#f0f921"
             ]
            ],
            "type": "heatmap"
           }
          ],
          "heatmapgl": [
           {
            "colorbar": {
             "outlinewidth": 0,
             "ticks": ""
            },
            "colorscale": [
             [
              0,
              "#0d0887"
             ],
             [
              0.1111111111111111,
              "#46039f"
             ],
             [
              0.2222222222222222,
              "#7201a8"
             ],
             [
              0.3333333333333333,
              "#9c179e"
             ],
             [
              0.4444444444444444,
              "#bd3786"
             ],
             [
              0.5555555555555556,
              "#d8576b"
             ],
             [
              0.6666666666666666,
              "#ed7953"
             ],
             [
              0.7777777777777778,
              "#fb9f3a"
             ],
             [
              0.8888888888888888,
              "#fdca26"
             ],
             [
              1,
              "#f0f921"
             ]
            ],
            "type": "heatmapgl"
           }
          ],
          "histogram": [
           {
            "marker": {
             "pattern": {
              "fillmode": "overlay",
              "size": 10,
              "solidity": 0.2
             }
            },
            "type": "histogram"
           }
          ],
          "histogram2d": [
           {
            "colorbar": {
             "outlinewidth": 0,
             "ticks": ""
            },
            "colorscale": [
             [
              0,
              "#0d0887"
             ],
             [
              0.1111111111111111,
              "#46039f"
             ],
             [
              0.2222222222222222,
              "#7201a8"
             ],
             [
              0.3333333333333333,
              "#9c179e"
             ],
             [
              0.4444444444444444,
              "#bd3786"
             ],
             [
              0.5555555555555556,
              "#d8576b"
             ],
             [
              0.6666666666666666,
              "#ed7953"
             ],
             [
              0.7777777777777778,
              "#fb9f3a"
             ],
             [
              0.8888888888888888,
              "#fdca26"
             ],
             [
              1,
              "#f0f921"
             ]
            ],
            "type": "histogram2d"
           }
          ],
          "histogram2dcontour": [
           {
            "colorbar": {
             "outlinewidth": 0,
             "ticks": ""
            },
            "colorscale": [
             [
              0,
              "#0d0887"
             ],
             [
              0.1111111111111111,
              "#46039f"
             ],
             [
              0.2222222222222222,
              "#7201a8"
             ],
             [
              0.3333333333333333,
              "#9c179e"
             ],
             [
              0.4444444444444444,
              "#bd3786"
             ],
             [
              0.5555555555555556,
              "#d8576b"
             ],
             [
              0.6666666666666666,
              "#ed7953"
             ],
             [
              0.7777777777777778,
              "#fb9f3a"
             ],
             [
              0.8888888888888888,
              "#fdca26"
             ],
             [
              1,
              "#f0f921"
             ]
            ],
            "type": "histogram2dcontour"
           }
          ],
          "mesh3d": [
           {
            "colorbar": {
             "outlinewidth": 0,
             "ticks": ""
            },
            "type": "mesh3d"
           }
          ],
          "parcoords": [
           {
            "line": {
             "colorbar": {
              "outlinewidth": 0,
              "ticks": ""
             }
            },
            "type": "parcoords"
           }
          ],
          "pie": [
           {
            "automargin": true,
            "type": "pie"
           }
          ],
          "scatter": [
           {
            "fillpattern": {
             "fillmode": "overlay",
             "size": 10,
             "solidity": 0.2
            },
            "type": "scatter"
           }
          ],
          "scatter3d": [
           {
            "line": {
             "colorbar": {
              "outlinewidth": 0,
              "ticks": ""
             }
            },
            "marker": {
             "colorbar": {
              "outlinewidth": 0,
              "ticks": ""
             }
            },
            "type": "scatter3d"
           }
          ],
          "scattercarpet": [
           {
            "marker": {
             "colorbar": {
              "outlinewidth": 0,
              "ticks": ""
             }
            },
            "type": "scattercarpet"
           }
          ],
          "scattergeo": [
           {
            "marker": {
             "colorbar": {
              "outlinewidth": 0,
              "ticks": ""
             }
            },
            "type": "scattergeo"
           }
          ],
          "scattergl": [
           {
            "marker": {
             "colorbar": {
              "outlinewidth": 0,
              "ticks": ""
             }
            },
            "type": "scattergl"
           }
          ],
          "scattermapbox": [
           {
            "marker": {
             "colorbar": {
              "outlinewidth": 0,
              "ticks": ""
             }
            },
            "type": "scattermapbox"
           }
          ],
          "scatterpolar": [
           {
            "marker": {
             "colorbar": {
              "outlinewidth": 0,
              "ticks": ""
             }
            },
            "type": "scatterpolar"
           }
          ],
          "scatterpolargl": [
           {
            "marker": {
             "colorbar": {
              "outlinewidth": 0,
              "ticks": ""
             }
            },
            "type": "scatterpolargl"
           }
          ],
          "scatterternary": [
           {
            "marker": {
             "colorbar": {
              "outlinewidth": 0,
              "ticks": ""
             }
            },
            "type": "scatterternary"
           }
          ],
          "surface": [
           {
            "colorbar": {
             "outlinewidth": 0,
             "ticks": ""
            },
            "colorscale": [
             [
              0,
              "#0d0887"
             ],
             [
              0.1111111111111111,
              "#46039f"
             ],
             [
              0.2222222222222222,
              "#7201a8"
             ],
             [
              0.3333333333333333,
              "#9c179e"
             ],
             [
              0.4444444444444444,
              "#bd3786"
             ],
             [
              0.5555555555555556,
              "#d8576b"
             ],
             [
              0.6666666666666666,
              "#ed7953"
             ],
             [
              0.7777777777777778,
              "#fb9f3a"
             ],
             [
              0.8888888888888888,
              "#fdca26"
             ],
             [
              1,
              "#f0f921"
             ]
            ],
            "type": "surface"
           }
          ],
          "table": [
           {
            "cells": {
             "fill": {
              "color": "#EBF0F8"
             },
             "line": {
              "color": "white"
             }
            },
            "header": {
             "fill": {
              "color": "#C8D4E3"
             },
             "line": {
              "color": "white"
             }
            },
            "type": "table"
           }
          ]
         },
         "layout": {
          "annotationdefaults": {
           "arrowcolor": "#2a3f5f",
           "arrowhead": 0,
           "arrowwidth": 1
          },
          "autotypenumbers": "strict",
          "coloraxis": {
           "colorbar": {
            "outlinewidth": 0,
            "ticks": ""
           }
          },
          "colorscale": {
           "diverging": [
            [
             0,
             "#8e0152"
            ],
            [
             0.1,
             "#c51b7d"
            ],
            [
             0.2,
             "#de77ae"
            ],
            [
             0.3,
             "#f1b6da"
            ],
            [
             0.4,
             "#fde0ef"
            ],
            [
             0.5,
             "#f7f7f7"
            ],
            [
             0.6,
             "#e6f5d0"
            ],
            [
             0.7,
             "#b8e186"
            ],
            [
             0.8,
             "#7fbc41"
            ],
            [
             0.9,
             "#4d9221"
            ],
            [
             1,
             "#276419"
            ]
           ],
           "sequential": [
            [
             0,
             "#0d0887"
            ],
            [
             0.1111111111111111,
             "#46039f"
            ],
            [
             0.2222222222222222,
             "#7201a8"
            ],
            [
             0.3333333333333333,
             "#9c179e"
            ],
            [
             0.4444444444444444,
             "#bd3786"
            ],
            [
             0.5555555555555556,
             "#d8576b"
            ],
            [
             0.6666666666666666,
             "#ed7953"
            ],
            [
             0.7777777777777778,
             "#fb9f3a"
            ],
            [
             0.8888888888888888,
             "#fdca26"
            ],
            [
             1,
             "#f0f921"
            ]
           ],
           "sequentialminus": [
            [
             0,
             "#0d0887"
            ],
            [
             0.1111111111111111,
             "#46039f"
            ],
            [
             0.2222222222222222,
             "#7201a8"
            ],
            [
             0.3333333333333333,
             "#9c179e"
            ],
            [
             0.4444444444444444,
             "#bd3786"
            ],
            [
             0.5555555555555556,
             "#d8576b"
            ],
            [
             0.6666666666666666,
             "#ed7953"
            ],
            [
             0.7777777777777778,
             "#fb9f3a"
            ],
            [
             0.8888888888888888,
             "#fdca26"
            ],
            [
             1,
             "#f0f921"
            ]
           ]
          },
          "colorway": [
           "#636efa",
           "#EF553B",
           "#00cc96",
           "#ab63fa",
           "#FFA15A",
           "#19d3f3",
           "#FF6692",
           "#B6E880",
           "#FF97FF",
           "#FECB52"
          ],
          "font": {
           "color": "#2a3f5f"
          },
          "geo": {
           "bgcolor": "white",
           "lakecolor": "white",
           "landcolor": "#E5ECF6",
           "showlakes": true,
           "showland": true,
           "subunitcolor": "white"
          },
          "hoverlabel": {
           "align": "left"
          },
          "hovermode": "closest",
          "mapbox": {
           "style": "light"
          },
          "paper_bgcolor": "white",
          "plot_bgcolor": "#E5ECF6",
          "polar": {
           "angularaxis": {
            "gridcolor": "white",
            "linecolor": "white",
            "ticks": ""
           },
           "bgcolor": "#E5ECF6",
           "radialaxis": {
            "gridcolor": "white",
            "linecolor": "white",
            "ticks": ""
           }
          },
          "scene": {
           "xaxis": {
            "backgroundcolor": "#E5ECF6",
            "gridcolor": "white",
            "gridwidth": 2,
            "linecolor": "white",
            "showbackground": true,
            "ticks": "",
            "zerolinecolor": "white"
           },
           "yaxis": {
            "backgroundcolor": "#E5ECF6",
            "gridcolor": "white",
            "gridwidth": 2,
            "linecolor": "white",
            "showbackground": true,
            "ticks": "",
            "zerolinecolor": "white"
           },
           "zaxis": {
            "backgroundcolor": "#E5ECF6",
            "gridcolor": "white",
            "gridwidth": 2,
            "linecolor": "white",
            "showbackground": true,
            "ticks": "",
            "zerolinecolor": "white"
           }
          },
          "shapedefaults": {
           "line": {
            "color": "#2a3f5f"
           }
          },
          "ternary": {
           "aaxis": {
            "gridcolor": "white",
            "linecolor": "white",
            "ticks": ""
           },
           "baxis": {
            "gridcolor": "white",
            "linecolor": "white",
            "ticks": ""
           },
           "bgcolor": "#E5ECF6",
           "caxis": {
            "gridcolor": "white",
            "linecolor": "white",
            "ticks": ""
           }
          },
          "title": {
           "x": 0.05
          },
          "xaxis": {
           "automargin": true,
           "gridcolor": "white",
           "linecolor": "white",
           "ticks": "",
           "title": {
            "standoff": 15
           },
           "zerolinecolor": "white",
           "zerolinewidth": 2
          },
          "yaxis": {
           "automargin": true,
           "gridcolor": "white",
           "linecolor": "white",
           "ticks": "",
           "title": {
            "standoff": 15
           },
           "zerolinecolor": "white",
           "zerolinewidth": 2
          }
         }
        },
        "title": {
         "text": "Popularity Timeline of Top 15 Current Linux Distributions from 2002 - 1 week ago"
        },
        "xaxis": {
         "anchor": "y",
         "domain": [
          0,
          1
         ],
         "tickangle": -45,
         "title": {
          "text": "Time Period"
         }
        },
        "yaxis": {
         "anchor": "x",
         "domain": [
          0,
          1
         ],
         "title": {
          "text": "Page Hits"
         }
        }
       }
      }
     },
     "metadata": {},
     "output_type": "display_data"
    }
   ],
   "source": [
    "import plotly.express as px\n",
    "\n",
    "# Assuming 'filtered_df_revised' is the DataFrame you have prepared\n",
    "# Transpose the DataFrame for easier plotting with Plotly\n",
    "plotly_df = filtered_df.transpose()\n",
    "\n",
    "# Creating a Plotly line chart\n",
    "fig = px.line(plotly_df, x=plotly_df.index, y=plotly_df.columns,\n",
    "              labels={'value': 'Page Hits', 'variable': 'Distribution'},\n",
    "              title='Popularity Timeline of Top 15 Current Linux Distributions from 2002 - 1 week ago')\n",
    "\n",
    "# Adding hover data\n",
    "fig.update_traces(mode='lines+markers', hoverinfo='all')\n",
    "\n",
    "# Updating layout for better readability\n",
    "fig.update_layout(xaxis_title='Time Period',\n",
    "                  yaxis_title='Page Hits',\n",
    "                  legend_title='Distribution',\n",
    "                  xaxis_tickangle=-45)\n",
    "\n",
    "fig.show()"
   ]
  }
 ],
 "metadata": {
  "kernelspec": {
   "display_name": "r-lab",
   "language": "python",
   "name": "python3"
  },
  "language_info": {
   "codemirror_mode": {
    "name": "ipython",
    "version": 3
   },
   "file_extension": ".py",
   "mimetype": "text/x-python",
   "name": "python",
   "nbconvert_exporter": "python",
   "pygments_lexer": "ipython3",
   "version": "3.11.5"
  },
  "orig_nbformat": 4
 },
 "nbformat": 4,
 "nbformat_minor": 2
}
